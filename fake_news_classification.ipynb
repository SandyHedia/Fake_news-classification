{
  "cells": [
    {
      "cell_type": "code",
      "execution_count": null,
      "metadata": {
        "colab": {
          "base_uri": "https://localhost:8080/"
        },
        "id": "lQW8Gu55CfMF",
        "outputId": "4c4608f5-b1be-4bb7-8cf5-a1d82f236c96"
      },
      "outputs": [
        {
          "output_type": "stream",
          "name": "stdout",
          "text": [
            "Collecting torchtext==0.6\n",
            "  Downloading torchtext-0.6.0-py3-none-any.whl (64 kB)\n",
            "\u001b[2K     \u001b[90m━━━━━━━━━━━━━━━━━━━━━━━━━━━━━━━━━━━━━━━━\u001b[0m \u001b[32m64.2/64.2 kB\u001b[0m \u001b[31m836.5 kB/s\u001b[0m eta \u001b[36m0:00:00\u001b[0m\n",
            "\u001b[?25hRequirement already satisfied: tqdm in /usr/local/lib/python3.10/dist-packages (from torchtext==0.6) (4.66.2)\n",
            "Requirement already satisfied: requests in /usr/local/lib/python3.10/dist-packages (from torchtext==0.6) (2.31.0)\n",
            "Requirement already satisfied: torch in /usr/local/lib/python3.10/dist-packages (from torchtext==0.6) (2.1.0+cu121)\n",
            "Requirement already satisfied: numpy in /usr/local/lib/python3.10/dist-packages (from torchtext==0.6) (1.25.2)\n",
            "Requirement already satisfied: six in /usr/local/lib/python3.10/dist-packages (from torchtext==0.6) (1.16.0)\n",
            "Requirement already satisfied: sentencepiece in /usr/local/lib/python3.10/dist-packages (from torchtext==0.6) (0.1.99)\n",
            "Requirement already satisfied: charset-normalizer<4,>=2 in /usr/local/lib/python3.10/dist-packages (from requests->torchtext==0.6) (3.3.2)\n",
            "Requirement already satisfied: idna<4,>=2.5 in /usr/local/lib/python3.10/dist-packages (from requests->torchtext==0.6) (3.6)\n",
            "Requirement already satisfied: urllib3<3,>=1.21.1 in /usr/local/lib/python3.10/dist-packages (from requests->torchtext==0.6) (2.0.7)\n",
            "Requirement already satisfied: certifi>=2017.4.17 in /usr/local/lib/python3.10/dist-packages (from requests->torchtext==0.6) (2024.2.2)\n",
            "Requirement already satisfied: filelock in /usr/local/lib/python3.10/dist-packages (from torch->torchtext==0.6) (3.13.1)\n",
            "Requirement already satisfied: typing-extensions in /usr/local/lib/python3.10/dist-packages (from torch->torchtext==0.6) (4.10.0)\n",
            "Requirement already satisfied: sympy in /usr/local/lib/python3.10/dist-packages (from torch->torchtext==0.6) (1.12)\n",
            "Requirement already satisfied: networkx in /usr/local/lib/python3.10/dist-packages (from torch->torchtext==0.6) (3.2.1)\n",
            "Requirement already satisfied: jinja2 in /usr/local/lib/python3.10/dist-packages (from torch->torchtext==0.6) (3.1.3)\n",
            "Requirement already satisfied: fsspec in /usr/local/lib/python3.10/dist-packages (from torch->torchtext==0.6) (2023.6.0)\n",
            "Requirement already satisfied: triton==2.1.0 in /usr/local/lib/python3.10/dist-packages (from torch->torchtext==0.6) (2.1.0)\n",
            "Requirement already satisfied: MarkupSafe>=2.0 in /usr/local/lib/python3.10/dist-packages (from jinja2->torch->torchtext==0.6) (2.1.5)\n",
            "Requirement already satisfied: mpmath>=0.19 in /usr/local/lib/python3.10/dist-packages (from sympy->torch->torchtext==0.6) (1.3.0)\n",
            "Installing collected packages: torchtext\n",
            "  Attempting uninstall: torchtext\n",
            "    Found existing installation: torchtext 0.16.0\n",
            "    Uninstalling torchtext-0.16.0:\n",
            "      Successfully uninstalled torchtext-0.16.0\n",
            "Successfully installed torchtext-0.6.0\n"
          ]
        }
      ],
      "source": [
        "!pip install torchtext==0.6"
      ]
    },
    {
      "cell_type": "code",
      "execution_count": null,
      "metadata": {
        "colab": {
          "base_uri": "https://localhost:8080/"
        },
        "id": "MiNHuve9ed7y",
        "outputId": "0bf396fa-aa81-47ad-c337-839a7a86fdba"
      },
      "outputs": [
        {
          "output_type": "stream",
          "name": "stdout",
          "text": [
            "Collecting skorch\n",
            "  Downloading skorch-0.15.0-py3-none-any.whl (239 kB)\n",
            "\u001b[?25l     \u001b[90m━━━━━━━━━━━━━━━━━━━━━━━━━━━━━━━━━━━━━━━━\u001b[0m \u001b[32m0.0/239.3 kB\u001b[0m \u001b[31m?\u001b[0m eta \u001b[36m-:--:--\u001b[0m\r\u001b[2K     \u001b[91m━━━━━━━━━━━\u001b[0m\u001b[91m╸\u001b[0m\u001b[90m━━━━━━━━━━━━━━━━━━━━━━━━━━━━\u001b[0m \u001b[32m71.7/239.3 kB\u001b[0m \u001b[31m1.9 MB/s\u001b[0m eta \u001b[36m0:00:01\u001b[0m\r\u001b[2K     \u001b[90m━━━━━━━━━━━━━━━━━━━━━━━━━━━━━━━━━━━━━━━━\u001b[0m \u001b[32m239.3/239.3 kB\u001b[0m \u001b[31m3.8 MB/s\u001b[0m eta \u001b[36m0:00:00\u001b[0m\n",
            "\u001b[?25hRequirement already satisfied: numpy>=1.13.3 in /usr/local/lib/python3.10/dist-packages (from skorch) (1.25.2)\n",
            "Requirement already satisfied: scikit-learn>=0.22.0 in /usr/local/lib/python3.10/dist-packages (from skorch) (1.2.2)\n",
            "Requirement already satisfied: scipy>=1.1.0 in /usr/local/lib/python3.10/dist-packages (from skorch) (1.11.4)\n",
            "Requirement already satisfied: tabulate>=0.7.7 in /usr/local/lib/python3.10/dist-packages (from skorch) (0.9.0)\n",
            "Requirement already satisfied: tqdm>=4.14.0 in /usr/local/lib/python3.10/dist-packages (from skorch) (4.66.2)\n",
            "Requirement already satisfied: joblib>=1.1.1 in /usr/local/lib/python3.10/dist-packages (from scikit-learn>=0.22.0->skorch) (1.3.2)\n",
            "Requirement already satisfied: threadpoolctl>=2.0.0 in /usr/local/lib/python3.10/dist-packages (from scikit-learn>=0.22.0->skorch) (3.3.0)\n",
            "Installing collected packages: skorch\n",
            "Successfully installed skorch-0.15.0\n"
          ]
        }
      ],
      "source": [
        "!pip install skorch"
      ]
    },
    {
      "cell_type": "code",
      "execution_count": null,
      "metadata": {
        "colab": {
          "base_uri": "https://localhost:8080/"
        },
        "id": "1gzWyZdWvVbJ",
        "outputId": "bfcaa7ae-77e5-4b43-903a-e9ac0933df50"
      },
      "outputs": [
        {
          "output_type": "stream",
          "name": "stdout",
          "text": [
            "Collecting optuna\n",
            "  Downloading optuna-3.5.0-py3-none-any.whl (413 kB)\n",
            "\u001b[2K     \u001b[90m━━━━━━━━━━━━━━━━━━━━━━━━━━━━━━━━━━━━━━━━\u001b[0m \u001b[32m413.4/413.4 kB\u001b[0m \u001b[31m7.9 MB/s\u001b[0m eta \u001b[36m0:00:00\u001b[0m\n",
            "\u001b[?25hCollecting alembic>=1.5.0 (from optuna)\n",
            "  Downloading alembic-1.13.1-py3-none-any.whl (233 kB)\n",
            "\u001b[2K     \u001b[90m━━━━━━━━━━━━━━━━━━━━━━━━━━━━━━━━━━━━━━━━\u001b[0m \u001b[32m233.4/233.4 kB\u001b[0m \u001b[31m13.6 MB/s\u001b[0m eta \u001b[36m0:00:00\u001b[0m\n",
            "\u001b[?25hCollecting colorlog (from optuna)\n",
            "  Downloading colorlog-6.8.2-py3-none-any.whl (11 kB)\n",
            "Requirement already satisfied: numpy in /usr/local/lib/python3.10/dist-packages (from optuna) (1.25.2)\n",
            "Requirement already satisfied: packaging>=20.0 in /usr/local/lib/python3.10/dist-packages (from optuna) (23.2)\n",
            "Requirement already satisfied: sqlalchemy>=1.3.0 in /usr/local/lib/python3.10/dist-packages (from optuna) (2.0.28)\n",
            "Requirement already satisfied: tqdm in /usr/local/lib/python3.10/dist-packages (from optuna) (4.66.2)\n",
            "Requirement already satisfied: PyYAML in /usr/local/lib/python3.10/dist-packages (from optuna) (6.0.1)\n",
            "Collecting Mako (from alembic>=1.5.0->optuna)\n",
            "  Downloading Mako-1.3.2-py3-none-any.whl (78 kB)\n",
            "\u001b[2K     \u001b[90m━━━━━━━━━━━━━━━━━━━━━━━━━━━━━━━━━━━━━━━━\u001b[0m \u001b[32m78.7/78.7 kB\u001b[0m \u001b[31m11.6 MB/s\u001b[0m eta \u001b[36m0:00:00\u001b[0m\n",
            "\u001b[?25hRequirement already satisfied: typing-extensions>=4 in /usr/local/lib/python3.10/dist-packages (from alembic>=1.5.0->optuna) (4.10.0)\n",
            "Requirement already satisfied: greenlet!=0.4.17 in /usr/local/lib/python3.10/dist-packages (from sqlalchemy>=1.3.0->optuna) (3.0.3)\n",
            "Requirement already satisfied: MarkupSafe>=0.9.2 in /usr/local/lib/python3.10/dist-packages (from Mako->alembic>=1.5.0->optuna) (2.1.5)\n",
            "Installing collected packages: Mako, colorlog, alembic, optuna\n",
            "Successfully installed Mako-1.3.2 alembic-1.13.1 colorlog-6.8.2 optuna-3.5.0\n"
          ]
        }
      ],
      "source": [
        "!pip install optuna"
      ]
    },
    {
      "cell_type": "code",
      "execution_count": null,
      "metadata": {
        "colab": {
          "base_uri": "https://localhost:8080/"
        },
        "id": "bxxXlfeTVhpq",
        "outputId": "13f2913a-a5f2-46c3-dc39-6a72d32ccf1f"
      },
      "outputs": [
        {
          "output_type": "stream",
          "name": "stdout",
          "text": [
            "Collecting datasets\n",
            "  Downloading datasets-2.18.0-py3-none-any.whl (510 kB)\n",
            "\u001b[2K     \u001b[90m━━━━━━━━━━━━━━━━━━━━━━━━━━━━━━━━━━━━━━━━\u001b[0m \u001b[32m510.5/510.5 kB\u001b[0m \u001b[31m11.0 MB/s\u001b[0m eta \u001b[36m0:00:00\u001b[0m\n",
            "\u001b[?25hRequirement already satisfied: filelock in /usr/local/lib/python3.10/dist-packages (from datasets) (3.13.1)\n",
            "Requirement already satisfied: numpy>=1.17 in /usr/local/lib/python3.10/dist-packages (from datasets) (1.25.2)\n",
            "Requirement already satisfied: pyarrow>=12.0.0 in /usr/local/lib/python3.10/dist-packages (from datasets) (14.0.2)\n",
            "Requirement already satisfied: pyarrow-hotfix in /usr/local/lib/python3.10/dist-packages (from datasets) (0.6)\n",
            "Collecting dill<0.3.9,>=0.3.0 (from datasets)\n",
            "  Downloading dill-0.3.8-py3-none-any.whl (116 kB)\n",
            "\u001b[2K     \u001b[90m━━━━━━━━━━━━━━━━━━━━━━━━━━━━━━━━━━━━━━━━\u001b[0m \u001b[32m116.3/116.3 kB\u001b[0m \u001b[31m16.4 MB/s\u001b[0m eta \u001b[36m0:00:00\u001b[0m\n",
            "\u001b[?25hRequirement already satisfied: pandas in /usr/local/lib/python3.10/dist-packages (from datasets) (1.5.3)\n",
            "Requirement already satisfied: requests>=2.19.0 in /usr/local/lib/python3.10/dist-packages (from datasets) (2.31.0)\n",
            "Requirement already satisfied: tqdm>=4.62.1 in /usr/local/lib/python3.10/dist-packages (from datasets) (4.66.2)\n",
            "Requirement already satisfied: xxhash in /usr/local/lib/python3.10/dist-packages (from datasets) (3.4.1)\n",
            "Collecting multiprocess (from datasets)\n",
            "  Downloading multiprocess-0.70.16-py310-none-any.whl (134 kB)\n",
            "\u001b[2K     \u001b[90m━━━━━━━━━━━━━━━━━━━━━━━━━━━━━━━━━━━━━━━━\u001b[0m \u001b[32m134.8/134.8 kB\u001b[0m \u001b[31m18.4 MB/s\u001b[0m eta \u001b[36m0:00:00\u001b[0m\n",
            "\u001b[?25hRequirement already satisfied: fsspec[http]<=2024.2.0,>=2023.1.0 in /usr/local/lib/python3.10/dist-packages (from datasets) (2023.6.0)\n",
            "Requirement already satisfied: aiohttp in /usr/local/lib/python3.10/dist-packages (from datasets) (3.9.3)\n",
            "Requirement already satisfied: huggingface-hub>=0.19.4 in /usr/local/lib/python3.10/dist-packages (from datasets) (0.20.3)\n",
            "Requirement already satisfied: packaging in /usr/local/lib/python3.10/dist-packages (from datasets) (23.2)\n",
            "Requirement already satisfied: pyyaml>=5.1 in /usr/local/lib/python3.10/dist-packages (from datasets) (6.0.1)\n",
            "Requirement already satisfied: aiosignal>=1.1.2 in /usr/local/lib/python3.10/dist-packages (from aiohttp->datasets) (1.3.1)\n",
            "Requirement already satisfied: attrs>=17.3.0 in /usr/local/lib/python3.10/dist-packages (from aiohttp->datasets) (23.2.0)\n",
            "Requirement already satisfied: frozenlist>=1.1.1 in /usr/local/lib/python3.10/dist-packages (from aiohttp->datasets) (1.4.1)\n",
            "Requirement already satisfied: multidict<7.0,>=4.5 in /usr/local/lib/python3.10/dist-packages (from aiohttp->datasets) (6.0.5)\n",
            "Requirement already satisfied: yarl<2.0,>=1.0 in /usr/local/lib/python3.10/dist-packages (from aiohttp->datasets) (1.9.4)\n",
            "Requirement already satisfied: async-timeout<5.0,>=4.0 in /usr/local/lib/python3.10/dist-packages (from aiohttp->datasets) (4.0.3)\n",
            "Requirement already satisfied: typing-extensions>=3.7.4.3 in /usr/local/lib/python3.10/dist-packages (from huggingface-hub>=0.19.4->datasets) (4.10.0)\n",
            "Requirement already satisfied: charset-normalizer<4,>=2 in /usr/local/lib/python3.10/dist-packages (from requests>=2.19.0->datasets) (3.3.2)\n",
            "Requirement already satisfied: idna<4,>=2.5 in /usr/local/lib/python3.10/dist-packages (from requests>=2.19.0->datasets) (3.6)\n",
            "Requirement already satisfied: urllib3<3,>=1.21.1 in /usr/local/lib/python3.10/dist-packages (from requests>=2.19.0->datasets) (2.0.7)\n",
            "Requirement already satisfied: certifi>=2017.4.17 in /usr/local/lib/python3.10/dist-packages (from requests>=2.19.0->datasets) (2024.2.2)\n",
            "Requirement already satisfied: python-dateutil>=2.8.1 in /usr/local/lib/python3.10/dist-packages (from pandas->datasets) (2.8.2)\n",
            "Requirement already satisfied: pytz>=2020.1 in /usr/local/lib/python3.10/dist-packages (from pandas->datasets) (2023.4)\n",
            "Requirement already satisfied: six>=1.5 in /usr/local/lib/python3.10/dist-packages (from python-dateutil>=2.8.1->pandas->datasets) (1.16.0)\n",
            "Installing collected packages: dill, multiprocess, datasets\n",
            "Successfully installed datasets-2.18.0 dill-0.3.8 multiprocess-0.70.16\n"
          ]
        }
      ],
      "source": [
        "!pip install datasets"
      ]
    },
    {
      "cell_type": "code",
      "execution_count": null,
      "metadata": {
        "colab": {
          "base_uri": "https://localhost:8080/"
        },
        "id": "ltIXYk1yX6eB",
        "outputId": "80746d3c-84fc-495e-be01-a2aaf442c5cc"
      },
      "outputs": [
        {
          "output_type": "stream",
          "name": "stdout",
          "text": [
            "Collecting accelerate\n",
            "  Downloading accelerate-0.27.2-py3-none-any.whl (279 kB)\n",
            "\u001b[?25l     \u001b[90m━━━━━━━━━━━━━━━━━━━━━━━━━━━━━━━━━━━━━━━━\u001b[0m \u001b[32m0.0/280.0 kB\u001b[0m \u001b[31m?\u001b[0m eta \u001b[36m-:--:--\u001b[0m\r\u001b[2K     \u001b[91m━━━━━━━━━━━━━━━━━━━━━━━━━━━━━━━━━━━━\u001b[0m\u001b[91m╸\u001b[0m\u001b[90m━━━\u001b[0m \u001b[32m256.0/280.0 kB\u001b[0m \u001b[31m7.6 MB/s\u001b[0m eta \u001b[36m0:00:01\u001b[0m\r\u001b[2K     \u001b[90m━━━━━━━━━━━━━━━━━━━━━━━━━━━━━━━━━━━━━━━━\u001b[0m \u001b[32m280.0/280.0 kB\u001b[0m \u001b[31m6.6 MB/s\u001b[0m eta \u001b[36m0:00:00\u001b[0m\n",
            "\u001b[?25hRequirement already satisfied: numpy>=1.17 in /usr/local/lib/python3.10/dist-packages (from accelerate) (1.25.2)\n",
            "Requirement already satisfied: packaging>=20.0 in /usr/local/lib/python3.10/dist-packages (from accelerate) (23.2)\n",
            "Requirement already satisfied: psutil in /usr/local/lib/python3.10/dist-packages (from accelerate) (5.9.5)\n",
            "Requirement already satisfied: pyyaml in /usr/local/lib/python3.10/dist-packages (from accelerate) (6.0.1)\n",
            "Requirement already satisfied: torch>=1.10.0 in /usr/local/lib/python3.10/dist-packages (from accelerate) (2.1.0+cu121)\n",
            "Requirement already satisfied: huggingface-hub in /usr/local/lib/python3.10/dist-packages (from accelerate) (0.20.3)\n",
            "Requirement already satisfied: safetensors>=0.3.1 in /usr/local/lib/python3.10/dist-packages (from accelerate) (0.4.2)\n",
            "Requirement already satisfied: filelock in /usr/local/lib/python3.10/dist-packages (from torch>=1.10.0->accelerate) (3.13.1)\n",
            "Requirement already satisfied: typing-extensions in /usr/local/lib/python3.10/dist-packages (from torch>=1.10.0->accelerate) (4.10.0)\n",
            "Requirement already satisfied: sympy in /usr/local/lib/python3.10/dist-packages (from torch>=1.10.0->accelerate) (1.12)\n",
            "Requirement already satisfied: networkx in /usr/local/lib/python3.10/dist-packages (from torch>=1.10.0->accelerate) (3.2.1)\n",
            "Requirement already satisfied: jinja2 in /usr/local/lib/python3.10/dist-packages (from torch>=1.10.0->accelerate) (3.1.3)\n",
            "Requirement already satisfied: fsspec in /usr/local/lib/python3.10/dist-packages (from torch>=1.10.0->accelerate) (2023.6.0)\n",
            "Requirement already satisfied: triton==2.1.0 in /usr/local/lib/python3.10/dist-packages (from torch>=1.10.0->accelerate) (2.1.0)\n",
            "Requirement already satisfied: requests in /usr/local/lib/python3.10/dist-packages (from huggingface-hub->accelerate) (2.31.0)\n",
            "Requirement already satisfied: tqdm>=4.42.1 in /usr/local/lib/python3.10/dist-packages (from huggingface-hub->accelerate) (4.66.2)\n",
            "Requirement already satisfied: MarkupSafe>=2.0 in /usr/local/lib/python3.10/dist-packages (from jinja2->torch>=1.10.0->accelerate) (2.1.5)\n",
            "Requirement already satisfied: charset-normalizer<4,>=2 in /usr/local/lib/python3.10/dist-packages (from requests->huggingface-hub->accelerate) (3.3.2)\n",
            "Requirement already satisfied: idna<4,>=2.5 in /usr/local/lib/python3.10/dist-packages (from requests->huggingface-hub->accelerate) (3.6)\n",
            "Requirement already satisfied: urllib3<3,>=1.21.1 in /usr/local/lib/python3.10/dist-packages (from requests->huggingface-hub->accelerate) (2.0.7)\n",
            "Requirement already satisfied: certifi>=2017.4.17 in /usr/local/lib/python3.10/dist-packages (from requests->huggingface-hub->accelerate) (2024.2.2)\n",
            "Requirement already satisfied: mpmath>=0.19 in /usr/local/lib/python3.10/dist-packages (from sympy->torch>=1.10.0->accelerate) (1.3.0)\n",
            "Installing collected packages: accelerate\n",
            "Successfully installed accelerate-0.27.2\n"
          ]
        }
      ],
      "source": [
        "!pip install accelerate -U"
      ]
    },
    {
      "cell_type": "code",
      "execution_count": null,
      "metadata": {
        "colab": {
          "base_uri": "https://localhost:8080/"
        },
        "id": "Y7sxnBQZcOuO",
        "outputId": "79575c26-bb77-4b12-9893-dda0c7b1d7c3"
      },
      "outputs": [
        {
          "output_type": "stream",
          "name": "stderr",
          "text": [
            "[nltk_data] Downloading package punkt to /root/nltk_data...\n",
            "[nltk_data]   Unzipping tokenizers/punkt.zip.\n"
          ]
        }
      ],
      "source": [
        "from zipfile import ZipFile\n",
        "import pandas as pd\n",
        "import numpy as np\n",
        "from sklearn.model_selection import train_test_split\n",
        "from sklearn.pipeline import Pipeline\n",
        "from sklearn.feature_extraction.text import TfidfVectorizer\n",
        "from sklearn.model_selection import GridSearchCV , ShuffleSplit,RandomizedSearchCV\n",
        "\n",
        "# Libraries\n",
        "import matplotlib.pyplot as plt\n",
        "import pandas as pd\n",
        "import torch\n",
        "import spacy\n",
        "# Preliminaries\n",
        "from torchtext.data import Field, TabularDataset, BucketIterator\n",
        "\n",
        "# Models\n",
        "import torch.nn as nn\n",
        "from torch.nn.utils.rnn import pack_padded_sequence, pad_packed_sequence\n",
        "from sklearn.svm import LinearSVC\n",
        "from sklearn.naive_bayes import MultinomialNB\n",
        "\n",
        "# Training\n",
        "import torch.optim as optim\n",
        "\n",
        "# Evaluation\n",
        "from sklearn.metrics import accuracy_score, classification_report, confusion_matrix ,precision_score,f1_score,recall_score\n",
        "import seaborn as sns\n",
        "\n",
        "from spacy.lang.en.stop_words import STOP_WORDS\n",
        "import nltk\n",
        "nltk.download('punkt')\n",
        "import string\n",
        "\n",
        "from skorch import NeuralNetClassifier\n",
        "from skorch import dataset\n",
        "\n",
        "import optuna\n",
        "from optuna.trial import TrialState\n",
        "\n",
        "from datasets import load_dataset"
      ]
    },
    {
      "cell_type": "code",
      "execution_count": null,
      "metadata": {
        "id": "-0lzpc7V0vZH"
      },
      "outputs": [],
      "source": [
        "!mkdir ~/.kaggle"
      ]
    },
    {
      "cell_type": "code",
      "execution_count": null,
      "metadata": {
        "id": "3Dng59PKO4Ss"
      },
      "outputs": [],
      "source": [
        "! cp /content/kaggle.json ~/.kaggle/"
      ]
    },
    {
      "cell_type": "code",
      "execution_count": null,
      "metadata": {
        "id": "R45kv6aBO8oT"
      },
      "outputs": [],
      "source": [
        "! chmod 600 ~/.kaggle/kaggle.json"
      ]
    },
    {
      "cell_type": "code",
      "execution_count": null,
      "metadata": {
        "colab": {
          "base_uri": "https://localhost:8080/"
        },
        "id": "Fecfu2F9N9dd",
        "outputId": "dc5dfc0d-26f3-415c-adab-933bd99e4f3e"
      },
      "outputs": [
        {
          "output_type": "stream",
          "name": "stdout",
          "text": [
            "Downloading fake-news-classification.zip to /content\n",
            " 87% 80.0M/92.1M [00:00<00:00, 161MB/s]\n",
            "100% 92.1M/92.1M [00:00<00:00, 155MB/s]\n"
          ]
        }
      ],
      "source": [
        "!kaggle datasets download -d saurabhshahane/fake-news-classification"
      ]
    },
    {
      "cell_type": "code",
      "execution_count": null,
      "metadata": {
        "colab": {
          "base_uri": "https://localhost:8080/"
        },
        "id": "fug__SZnPKGQ",
        "outputId": "376dc39b-1bc2-41b9-9e2a-d34f705d731c"
      },
      "outputs": [
        {
          "output_type": "stream",
          "name": "stdout",
          "text": [
            "File Name                                             Modified             Size\n",
            "WELFake_Dataset.csv                            2023-10-08 21:01:22    245086152\n",
            "extraction...\n",
            "Done!\n"
          ]
        }
      ],
      "source": [
        "# Put on the same directory\n",
        "\n",
        "# specifying the name of the zip file\n",
        "file = \"fake-news-classification.zip\"\n",
        "\n",
        "# open the zip file in read mode\n",
        "with ZipFile(file, 'r') as zip:\n",
        "    # list all the contents of the zip file\n",
        "    zip.printdir()\n",
        "\n",
        "    # extract all files\n",
        "    print('extraction...')\n",
        "    zip.extractall()\n",
        "    print('Done!')"
      ]
    },
    {
      "cell_type": "code",
      "execution_count": null,
      "metadata": {
        "colab": {
          "base_uri": "https://localhost:8080/",
          "height": 206
        },
        "id": "I7F23TDZPYDD",
        "outputId": "cfaaa3c6-d67e-4b55-9b3b-629f033b377c"
      },
      "outputs": [
        {
          "output_type": "execute_result",
          "data": {
            "text/plain": [
              "   Unnamed: 0                                              title  \\\n",
              "0           0  LAW ENFORCEMENT ON HIGH ALERT Following Threat...   \n",
              "1           1                                                NaN   \n",
              "2           2  UNBELIEVABLE! OBAMA’S ATTORNEY GENERAL SAYS MO...   \n",
              "3           3  Bobby Jindal, raised Hindu, uses story of Chri...   \n",
              "4           4  SATAN 2: Russia unvelis an image of its terrif...   \n",
              "\n",
              "                                                text  label  \n",
              "0  No comment is expected from Barack Obama Membe...      1  \n",
              "1     Did they post their votes for Hillary already?      1  \n",
              "2   Now, most of the demonstrators gathered last ...      1  \n",
              "3  A dozen politically active pastors came here f...      0  \n",
              "4  The RS-28 Sarmat missile, dubbed Satan 2, will...      1  "
            ],
            "text/html": [
              "\n",
              "  <div id=\"df-f6d5b8ac-965b-4813-991e-bf9e030f51fd\" class=\"colab-df-container\">\n",
              "    <div>\n",
              "<style scoped>\n",
              "    .dataframe tbody tr th:only-of-type {\n",
              "        vertical-align: middle;\n",
              "    }\n",
              "\n",
              "    .dataframe tbody tr th {\n",
              "        vertical-align: top;\n",
              "    }\n",
              "\n",
              "    .dataframe thead th {\n",
              "        text-align: right;\n",
              "    }\n",
              "</style>\n",
              "<table border=\"1\" class=\"dataframe\">\n",
              "  <thead>\n",
              "    <tr style=\"text-align: right;\">\n",
              "      <th></th>\n",
              "      <th>Unnamed: 0</th>\n",
              "      <th>title</th>\n",
              "      <th>text</th>\n",
              "      <th>label</th>\n",
              "    </tr>\n",
              "  </thead>\n",
              "  <tbody>\n",
              "    <tr>\n",
              "      <th>0</th>\n",
              "      <td>0</td>\n",
              "      <td>LAW ENFORCEMENT ON HIGH ALERT Following Threat...</td>\n",
              "      <td>No comment is expected from Barack Obama Membe...</td>\n",
              "      <td>1</td>\n",
              "    </tr>\n",
              "    <tr>\n",
              "      <th>1</th>\n",
              "      <td>1</td>\n",
              "      <td>NaN</td>\n",
              "      <td>Did they post their votes for Hillary already?</td>\n",
              "      <td>1</td>\n",
              "    </tr>\n",
              "    <tr>\n",
              "      <th>2</th>\n",
              "      <td>2</td>\n",
              "      <td>UNBELIEVABLE! OBAMA’S ATTORNEY GENERAL SAYS MO...</td>\n",
              "      <td>Now, most of the demonstrators gathered last ...</td>\n",
              "      <td>1</td>\n",
              "    </tr>\n",
              "    <tr>\n",
              "      <th>3</th>\n",
              "      <td>3</td>\n",
              "      <td>Bobby Jindal, raised Hindu, uses story of Chri...</td>\n",
              "      <td>A dozen politically active pastors came here f...</td>\n",
              "      <td>0</td>\n",
              "    </tr>\n",
              "    <tr>\n",
              "      <th>4</th>\n",
              "      <td>4</td>\n",
              "      <td>SATAN 2: Russia unvelis an image of its terrif...</td>\n",
              "      <td>The RS-28 Sarmat missile, dubbed Satan 2, will...</td>\n",
              "      <td>1</td>\n",
              "    </tr>\n",
              "  </tbody>\n",
              "</table>\n",
              "</div>\n",
              "    <div class=\"colab-df-buttons\">\n",
              "\n",
              "  <div class=\"colab-df-container\">\n",
              "    <button class=\"colab-df-convert\" onclick=\"convertToInteractive('df-f6d5b8ac-965b-4813-991e-bf9e030f51fd')\"\n",
              "            title=\"Convert this dataframe to an interactive table.\"\n",
              "            style=\"display:none;\">\n",
              "\n",
              "  <svg xmlns=\"http://www.w3.org/2000/svg\" height=\"24px\" viewBox=\"0 -960 960 960\">\n",
              "    <path d=\"M120-120v-720h720v720H120Zm60-500h600v-160H180v160Zm220 220h160v-160H400v160Zm0 220h160v-160H400v160ZM180-400h160v-160H180v160Zm440 0h160v-160H620v160ZM180-180h160v-160H180v160Zm440 0h160v-160H620v160Z\"/>\n",
              "  </svg>\n",
              "    </button>\n",
              "\n",
              "  <style>\n",
              "    .colab-df-container {\n",
              "      display:flex;\n",
              "      gap: 12px;\n",
              "    }\n",
              "\n",
              "    .colab-df-convert {\n",
              "      background-color: #E8F0FE;\n",
              "      border: none;\n",
              "      border-radius: 50%;\n",
              "      cursor: pointer;\n",
              "      display: none;\n",
              "      fill: #1967D2;\n",
              "      height: 32px;\n",
              "      padding: 0 0 0 0;\n",
              "      width: 32px;\n",
              "    }\n",
              "\n",
              "    .colab-df-convert:hover {\n",
              "      background-color: #E2EBFA;\n",
              "      box-shadow: 0px 1px 2px rgba(60, 64, 67, 0.3), 0px 1px 3px 1px rgba(60, 64, 67, 0.15);\n",
              "      fill: #174EA6;\n",
              "    }\n",
              "\n",
              "    .colab-df-buttons div {\n",
              "      margin-bottom: 4px;\n",
              "    }\n",
              "\n",
              "    [theme=dark] .colab-df-convert {\n",
              "      background-color: #3B4455;\n",
              "      fill: #D2E3FC;\n",
              "    }\n",
              "\n",
              "    [theme=dark] .colab-df-convert:hover {\n",
              "      background-color: #434B5C;\n",
              "      box-shadow: 0px 1px 3px 1px rgba(0, 0, 0, 0.15);\n",
              "      filter: drop-shadow(0px 1px 2px rgba(0, 0, 0, 0.3));\n",
              "      fill: #FFFFFF;\n",
              "    }\n",
              "  </style>\n",
              "\n",
              "    <script>\n",
              "      const buttonEl =\n",
              "        document.querySelector('#df-f6d5b8ac-965b-4813-991e-bf9e030f51fd button.colab-df-convert');\n",
              "      buttonEl.style.display =\n",
              "        google.colab.kernel.accessAllowed ? 'block' : 'none';\n",
              "\n",
              "      async function convertToInteractive(key) {\n",
              "        const element = document.querySelector('#df-f6d5b8ac-965b-4813-991e-bf9e030f51fd');\n",
              "        const dataTable =\n",
              "          await google.colab.kernel.invokeFunction('convertToInteractive',\n",
              "                                                    [key], {});\n",
              "        if (!dataTable) return;\n",
              "\n",
              "        const docLinkHtml = 'Like what you see? Visit the ' +\n",
              "          '<a target=\"_blank\" href=https://colab.research.google.com/notebooks/data_table.ipynb>data table notebook</a>'\n",
              "          + ' to learn more about interactive tables.';\n",
              "        element.innerHTML = '';\n",
              "        dataTable['output_type'] = 'display_data';\n",
              "        await google.colab.output.renderOutput(dataTable, element);\n",
              "        const docLink = document.createElement('div');\n",
              "        docLink.innerHTML = docLinkHtml;\n",
              "        element.appendChild(docLink);\n",
              "      }\n",
              "    </script>\n",
              "  </div>\n",
              "\n",
              "\n",
              "<div id=\"df-86549137-b4b7-4dcc-afb4-e2b2a0f15c73\">\n",
              "  <button class=\"colab-df-quickchart\" onclick=\"quickchart('df-86549137-b4b7-4dcc-afb4-e2b2a0f15c73')\"\n",
              "            title=\"Suggest charts\"\n",
              "            style=\"display:none;\">\n",
              "\n",
              "<svg xmlns=\"http://www.w3.org/2000/svg\" height=\"24px\"viewBox=\"0 0 24 24\"\n",
              "     width=\"24px\">\n",
              "    <g>\n",
              "        <path d=\"M19 3H5c-1.1 0-2 .9-2 2v14c0 1.1.9 2 2 2h14c1.1 0 2-.9 2-2V5c0-1.1-.9-2-2-2zM9 17H7v-7h2v7zm4 0h-2V7h2v10zm4 0h-2v-4h2v4z\"/>\n",
              "    </g>\n",
              "</svg>\n",
              "  </button>\n",
              "\n",
              "<style>\n",
              "  .colab-df-quickchart {\n",
              "      --bg-color: #E8F0FE;\n",
              "      --fill-color: #1967D2;\n",
              "      --hover-bg-color: #E2EBFA;\n",
              "      --hover-fill-color: #174EA6;\n",
              "      --disabled-fill-color: #AAA;\n",
              "      --disabled-bg-color: #DDD;\n",
              "  }\n",
              "\n",
              "  [theme=dark] .colab-df-quickchart {\n",
              "      --bg-color: #3B4455;\n",
              "      --fill-color: #D2E3FC;\n",
              "      --hover-bg-color: #434B5C;\n",
              "      --hover-fill-color: #FFFFFF;\n",
              "      --disabled-bg-color: #3B4455;\n",
              "      --disabled-fill-color: #666;\n",
              "  }\n",
              "\n",
              "  .colab-df-quickchart {\n",
              "    background-color: var(--bg-color);\n",
              "    border: none;\n",
              "    border-radius: 50%;\n",
              "    cursor: pointer;\n",
              "    display: none;\n",
              "    fill: var(--fill-color);\n",
              "    height: 32px;\n",
              "    padding: 0;\n",
              "    width: 32px;\n",
              "  }\n",
              "\n",
              "  .colab-df-quickchart:hover {\n",
              "    background-color: var(--hover-bg-color);\n",
              "    box-shadow: 0 1px 2px rgba(60, 64, 67, 0.3), 0 1px 3px 1px rgba(60, 64, 67, 0.15);\n",
              "    fill: var(--button-hover-fill-color);\n",
              "  }\n",
              "\n",
              "  .colab-df-quickchart-complete:disabled,\n",
              "  .colab-df-quickchart-complete:disabled:hover {\n",
              "    background-color: var(--disabled-bg-color);\n",
              "    fill: var(--disabled-fill-color);\n",
              "    box-shadow: none;\n",
              "  }\n",
              "\n",
              "  .colab-df-spinner {\n",
              "    border: 2px solid var(--fill-color);\n",
              "    border-color: transparent;\n",
              "    border-bottom-color: var(--fill-color);\n",
              "    animation:\n",
              "      spin 1s steps(1) infinite;\n",
              "  }\n",
              "\n",
              "  @keyframes spin {\n",
              "    0% {\n",
              "      border-color: transparent;\n",
              "      border-bottom-color: var(--fill-color);\n",
              "      border-left-color: var(--fill-color);\n",
              "    }\n",
              "    20% {\n",
              "      border-color: transparent;\n",
              "      border-left-color: var(--fill-color);\n",
              "      border-top-color: var(--fill-color);\n",
              "    }\n",
              "    30% {\n",
              "      border-color: transparent;\n",
              "      border-left-color: var(--fill-color);\n",
              "      border-top-color: var(--fill-color);\n",
              "      border-right-color: var(--fill-color);\n",
              "    }\n",
              "    40% {\n",
              "      border-color: transparent;\n",
              "      border-right-color: var(--fill-color);\n",
              "      border-top-color: var(--fill-color);\n",
              "    }\n",
              "    60% {\n",
              "      border-color: transparent;\n",
              "      border-right-color: var(--fill-color);\n",
              "    }\n",
              "    80% {\n",
              "      border-color: transparent;\n",
              "      border-right-color: var(--fill-color);\n",
              "      border-bottom-color: var(--fill-color);\n",
              "    }\n",
              "    90% {\n",
              "      border-color: transparent;\n",
              "      border-bottom-color: var(--fill-color);\n",
              "    }\n",
              "  }\n",
              "</style>\n",
              "\n",
              "  <script>\n",
              "    async function quickchart(key) {\n",
              "      const quickchartButtonEl =\n",
              "        document.querySelector('#' + key + ' button');\n",
              "      quickchartButtonEl.disabled = true;  // To prevent multiple clicks.\n",
              "      quickchartButtonEl.classList.add('colab-df-spinner');\n",
              "      try {\n",
              "        const charts = await google.colab.kernel.invokeFunction(\n",
              "            'suggestCharts', [key], {});\n",
              "      } catch (error) {\n",
              "        console.error('Error during call to suggestCharts:', error);\n",
              "      }\n",
              "      quickchartButtonEl.classList.remove('colab-df-spinner');\n",
              "      quickchartButtonEl.classList.add('colab-df-quickchart-complete');\n",
              "    }\n",
              "    (() => {\n",
              "      let quickchartButtonEl =\n",
              "        document.querySelector('#df-86549137-b4b7-4dcc-afb4-e2b2a0f15c73 button');\n",
              "      quickchartButtonEl.style.display =\n",
              "        google.colab.kernel.accessAllowed ? 'block' : 'none';\n",
              "    })();\n",
              "  </script>\n",
              "</div>\n",
              "\n",
              "    </div>\n",
              "  </div>\n"
            ],
            "application/vnd.google.colaboratory.intrinsic+json": {
              "type": "dataframe",
              "variable_name": "fake_data",
              "summary": "{\n  \"name\": \"fake_data\",\n  \"rows\": 72134,\n  \"fields\": [\n    {\n      \"column\": \"Unnamed: 0\",\n      \"properties\": {\n        \"dtype\": \"number\",\n        \"std\": 20823,\n        \"min\": 0,\n        \"max\": 72133,\n        \"num_unique_values\": 72134,\n        \"samples\": [\n          61370,\n          2189,\n          60609\n        ],\n        \"semantic_type\": \"\",\n        \"description\": \"\"\n      }\n    },\n    {\n      \"column\": \"title\",\n      \"properties\": {\n        \"dtype\": \"string\",\n        \"num_unique_values\": 62347,\n        \"samples\": [\n          \"BBC Under Fire for \\u2018Transgender Diaries\\u2019 Program Aimed at Children as Young as Six\",\n          \" Hillary\\u2019s Running Mate Tim Kaine: The NRA Hates Him, And He Kicked Their Butts (VIDEO)\",\n          \" Trump Outrageously Refers To Elizabeth Warren As \\u2018Pocahontas\\u2019 During Meeting With Senators\"\n        ],\n        \"semantic_type\": \"\",\n        \"description\": \"\"\n      }\n    },\n    {\n      \"column\": \"text\",\n      \"properties\": {\n        \"dtype\": \"string\",\n        \"num_unique_values\": 62718,\n        \"samples\": [\n          \"WASHINGTON (Reuters) - Michael Cohen, one of President Donald Trump\\u2019s closest business advisers, said on Sunday he would testify on Tuesday to the U.S. Senate Intelligence Committee, as the panel investigates alleged Russian interference in the 2016 U.S. election. The timing of Cohen\\u2019s testimony was first reported by NBC. Cohen confirmed that he would testify to the committee on Tuesday and said he did not know whether it would be in a closed session or public. Aides to the committee\\u2019s leaders did not immediately respond to requests for comment. Cohen said previously he had received a subpoena from at least one of the congressional committees investigating what U.S. intelligence has determined were Russia\\u2019s efforts to influence the election on Trump\\u2019s behalf, and whether Trump associates colluded with Russia. Russia denies such activity. The White House denies any collusion, but concerns about the issue and Trump\\u2019s ties to Russia have shadowed the first months of the Republican\\u2019s presidency. Cohen, a personal attorney to Trump, would be one of a series of close associates of the president to testify in Congress. Members of both the Senate and House of Representatives committees conducting investigations have said they expect to call more. Trump\\u2019s oldest son, Donald Trump Jr., testified to the Senate Judiciary Committee earlier this month. \",\n          \"HARARE (Reuters) - Zimbabwe s main opposition leader said on Monday President Robert Mugabe s refusal to resign had dampened people s spirits and called for an inclusive political process in the aftermath of a military intervention last week. Morgan Tsvangirai said there should be an all-stakeholders meeting to chart the country s future and that the next elections due next year should be supervised by the international community. \",\n          \"There is no word yet about whether or not the Hispanics in question were referred to by the plaintiff as  White Hispanics, (the George Zimmerman variety) Legendary restaurant Roscoe s House of Chicken  n Waffles has to cough up $1.6 million in an unlawful termination suit to an African American man who claimed he was discriminated against because he was black.The claim proves to be somewhat ironic given that the owner of the eatery, where President Barack Obama once dined when visiting Compton, is African American.CBS Los Angeles reported that Daniel Beasley sued Roscoe s for firing him after he complained to human resources that the managers harassed him for being black and gave preferential treatment, such as better work hours, to the Hispanic employees. It s owned by an African American owner, but he gives full authority to the Hispanics to run it,  Beasley told reporters.  It just caught me by surprise because here I am getting fired when I m trying to fix the problem. Beasley was frustrated that his complaints to management never got addressed, so he sued.  It s owned by an African American owner, but he gives full authority to the Hispanics to run it,  he told reporters.  It just caught me by surprise because here I am getting fired when I m trying to fix the problem. Beasley explained to CBS that he became homeless after he lost his job, so the hefty settlement becomes a huge victory for the grandfather from Compton.His lawyer Scott Cummings hopes that this win sends a message to other businesses out there.  Racism, racial harassment can occur really anywhere even in a black-owned business,  he asserted. Beasley added,  You can t treat people like that and get away with it constantly.  Via: Breitbart News\"\n        ],\n        \"semantic_type\": \"\",\n        \"description\": \"\"\n      }\n    },\n    {\n      \"column\": \"label\",\n      \"properties\": {\n        \"dtype\": \"number\",\n        \"std\": 0,\n        \"min\": 0,\n        \"max\": 1,\n        \"num_unique_values\": 2,\n        \"samples\": [\n          0,\n          1\n        ],\n        \"semantic_type\": \"\",\n        \"description\": \"\"\n      }\n    }\n  ]\n}"
            }
          },
          "metadata": {},
          "execution_count": 12
        }
      ],
      "source": [
        "fake_data=pd.read_csv('/content/WELFake_Dataset.csv')\n",
        "fake_data.head(5)"
      ]
    },
    {
      "cell_type": "code",
      "execution_count": null,
      "metadata": {
        "colab": {
          "base_uri": "https://localhost:8080/"
        },
        "id": "DdNnozIoPwmt",
        "outputId": "bc15e5f4-727d-44d1-cde8-bc4e357f4f39"
      },
      "outputs": [
        {
          "output_type": "execute_result",
          "data": {
            "text/plain": [
              "72134"
            ]
          },
          "metadata": {},
          "execution_count": 13
        }
      ],
      "source": [
        "len(fake_data)"
      ]
    },
    {
      "cell_type": "code",
      "execution_count": null,
      "metadata": {
        "id": "mJqvX-8-a8qx"
      },
      "outputs": [],
      "source": [
        "fake_data.rename(columns={'label':'labels'},inplace = True)"
      ]
    },
    {
      "cell_type": "code",
      "execution_count": null,
      "metadata": {
        "colab": {
          "base_uri": "https://localhost:8080/",
          "height": 443
        },
        "id": "J5BBf1opP1Yf",
        "outputId": "0e60149f-0672-4983-c667-c8d00200d2aa"
      },
      "outputs": [
        {
          "output_type": "execute_result",
          "data": {
            "text/plain": [
              "<Axes: >"
            ]
          },
          "metadata": {},
          "execution_count": 15
        },
        {
          "output_type": "display_data",
          "data": {
            "text/plain": [
              "<Figure size 640x480 with 1 Axes>"
            ],
            "image/png": "[encoded data removed]"
          },
          "metadata": {}
        }
      ],
      "source": [
        "fake_data['labels'].value_counts().plot.bar()"
      ]
    },
    {
      "cell_type": "code",
      "execution_count": null,
      "metadata": {
        "colab": {
          "base_uri": "https://localhost:8080/"
        },
        "id": "bQnmPj2Na7yZ",
        "outputId": "db958f2f-4ff6-46c3-b824-87e98efaa0bd"
      },
      "outputs": [
        {
          "output_type": "execute_result",
          "data": {
            "text/plain": [
              "Unnamed: 0      0\n",
              "title         558\n",
              "text           39\n",
              "labels          0\n",
              "dtype: int64"
            ]
          },
          "metadata": {},
          "execution_count": 16
        }
      ],
      "source": [
        "fake_data.isnull().sum()"
      ]
    },
    {
      "cell_type": "code",
      "execution_count": null,
      "metadata": {
        "id": "Usi8LU-7cROi"
      },
      "outputs": [],
      "source": [
        "fake_data.fillna(' ',inplace=True)"
      ]
    },
    {
      "cell_type": "code",
      "execution_count": null,
      "metadata": {
        "colab": {
          "base_uri": "https://localhost:8080/"
        },
        "id": "B3FfG9c5c8OS",
        "outputId": "ecf94644-228f-4270-dcfc-61e01e3694e2"
      },
      "outputs": [
        {
          "output_type": "execute_result",
          "data": {
            "text/plain": [
              "Unnamed: 0    0\n",
              "title         0\n",
              "text          0\n",
              "labels        0\n",
              "dtype: int64"
            ]
          },
          "metadata": {},
          "execution_count": 18
        }
      ],
      "source": [
        "fake_data.isnull().sum()"
      ]
    },
    {
      "cell_type": "code",
      "execution_count": null,
      "metadata": {
        "colab": {
          "base_uri": "https://localhost:8080/"
        },
        "id": "w6sfI32uc-X0",
        "outputId": "054aca7d-c69e-46ea-be51-2a4ab0bd044e"
      },
      "outputs": [
        {
          "output_type": "execute_result",
          "data": {
            "text/plain": [
              "0"
            ]
          },
          "metadata": {},
          "execution_count": 19
        }
      ],
      "source": [
        "fake_data.duplicated().sum()"
      ]
    },
    {
      "cell_type": "code",
      "execution_count": null,
      "metadata": {
        "colab": {
          "base_uri": "https://localhost:8080/",
          "height": 206
        },
        "id": "INVH2MU5dsYd",
        "outputId": "ed11d1c1-b910-4f11-ef4c-c97c3219281e"
      },
      "outputs": [
        {
          "output_type": "execute_result",
          "data": {
            "text/plain": [
              "                                                text  labels\n",
              "0  LAW ENFORCEMENT ON HIGH ALERT Following Threat...       1\n",
              "1   \\n Did they post their votes for Hillary alre...       1\n",
              "2  UNBELIEVABLE! OBAMA’S ATTORNEY GENERAL SAYS MO...       1\n",
              "3  Bobby Jindal, raised Hindu, uses story of Chri...       0\n",
              "4  SATAN 2: Russia unvelis an image of its terrif...       1"
            ],
            "text/html": [
              "\n",
              "  <div id=\"df-279d5659-d33d-4ff9-b706-376644ee74eb\" class=\"colab-df-container\">\n",
              "    <div>\n",
              "<style scoped>\n",
              "    .dataframe tbody tr th:only-of-type {\n",
              "        vertical-align: middle;\n",
              "    }\n",
              "\n",
              "    .dataframe tbody tr th {\n",
              "        vertical-align: top;\n",
              "    }\n",
              "\n",
              "    .dataframe thead th {\n",
              "        text-align: right;\n",
              "    }\n",
              "</style>\n",
              "<table border=\"1\" class=\"dataframe\">\n",
              "  <thead>\n",
              "    <tr style=\"text-align: right;\">\n",
              "      <th></th>\n",
              "      <th>text</th>\n",
              "      <th>labels</th>\n",
              "    </tr>\n",
              "  </thead>\n",
              "  <tbody>\n",
              "    <tr>\n",
              "      <th>0</th>\n",
              "      <td>LAW ENFORCEMENT ON HIGH ALERT Following Threat...</td>\n",
              "      <td>1</td>\n",
              "    </tr>\n",
              "    <tr>\n",
              "      <th>1</th>\n",
              "      <td>\\n Did they post their votes for Hillary alre...</td>\n",
              "      <td>1</td>\n",
              "    </tr>\n",
              "    <tr>\n",
              "      <th>2</th>\n",
              "      <td>UNBELIEVABLE! OBAMA’S ATTORNEY GENERAL SAYS MO...</td>\n",
              "      <td>1</td>\n",
              "    </tr>\n",
              "    <tr>\n",
              "      <th>3</th>\n",
              "      <td>Bobby Jindal, raised Hindu, uses story of Chri...</td>\n",
              "      <td>0</td>\n",
              "    </tr>\n",
              "    <tr>\n",
              "      <th>4</th>\n",
              "      <td>SATAN 2: Russia unvelis an image of its terrif...</td>\n",
              "      <td>1</td>\n",
              "    </tr>\n",
              "  </tbody>\n",
              "</table>\n",
              "</div>\n",
              "    <div class=\"colab-df-buttons\">\n",
              "\n",
              "  <div class=\"colab-df-container\">\n",
              "    <button class=\"colab-df-convert\" onclick=\"convertToInteractive('df-279d5659-d33d-4ff9-b706-376644ee74eb')\"\n",
              "            title=\"Convert this dataframe to an interactive table.\"\n",
              "            style=\"display:none;\">\n",
              "\n",
              "  <svg xmlns=\"http://www.w3.org/2000/svg\" height=\"24px\" viewBox=\"0 -960 960 960\">\n",
              "    <path d=\"M120-120v-720h720v720H120Zm60-500h600v-160H180v160Zm220 220h160v-160H400v160Zm0 220h160v-160H400v160ZM180-400h160v-160H180v160Zm440 0h160v-160H620v160ZM180-180h160v-160H180v160Zm440 0h160v-160H620v160Z\"/>\n",
              "  </svg>\n",
              "    </button>\n",
              "\n",
              "  <style>\n",
              "    .colab-df-container {\n",
              "      display:flex;\n",
              "      gap: 12px;\n",
              "    }\n",
              "\n",
              "    .colab-df-convert {\n",
              "      background-color: #E8F0FE;\n",
              "      border: none;\n",
              "      border-radius: 50%;\n",
              "      cursor: pointer;\n",
              "      display: none;\n",
              "      fill: #1967D2;\n",
              "      height: 32px;\n",
              "      padding: 0 0 0 0;\n",
              "      width: 32px;\n",
              "    }\n",
              "\n",
              "    .colab-df-convert:hover {\n",
              "      background-color: #E2EBFA;\n",
              "      box-shadow: 0px 1px 2px rgba(60, 64, 67, 0.3), 0px 1px 3px 1px rgba(60, 64, 67, 0.15);\n",
              "      fill: #174EA6;\n",
              "    }\n",
              "\n",
              "    .colab-df-buttons div {\n",
              "      margin-bottom: 4px;\n",
              "    }\n",
              "\n",
              "    [theme=dark] .colab-df-convert {\n",
              "      background-color: #3B4455;\n",
              "      fill: #D2E3FC;\n",
              "    }\n",
              "\n",
              "    [theme=dark] .colab-df-convert:hover {\n",
              "      background-color: #434B5C;\n",
              "      box-shadow: 0px 1px 3px 1px rgba(0, 0, 0, 0.15);\n",
              "      filter: drop-shadow(0px 1px 2px rgba(0, 0, 0, 0.3));\n",
              "      fill: #FFFFFF;\n",
              "    }\n",
              "  </style>\n",
              "\n",
              "    <script>\n",
              "      const buttonEl =\n",
              "        document.querySelector('#df-279d5659-d33d-4ff9-b706-376644ee74eb button.colab-df-convert');\n",
              "      buttonEl.style.display =\n",
              "        google.colab.kernel.accessAllowed ? 'block' : 'none';\n",
              "\n",
              "      async function convertToInteractive(key) {\n",
              "        const element = document.querySelector('#df-279d5659-d33d-4ff9-b706-376644ee74eb');\n",
              "        const dataTable =\n",
              "          await google.colab.kernel.invokeFunction('convertToInteractive',\n",
              "                                                    [key], {});\n",
              "        if (!dataTable) return;\n",
              "\n",
              "        const docLinkHtml = 'Like what you see? Visit the ' +\n",
              "          '<a target=\"_blank\" href=https://colab.research.google.com/notebooks/data_table.ipynb>data table notebook</a>'\n",
              "          + ' to learn more about interactive tables.';\n",
              "        element.innerHTML = '';\n",
              "        dataTable['output_type'] = 'display_data';\n",
              "        await google.colab.output.renderOutput(dataTable, element);\n",
              "        const docLink = document.createElement('div');\n",
              "        docLink.innerHTML = docLinkHtml;\n",
              "        element.appendChild(docLink);\n",
              "      }\n",
              "    </script>\n",
              "  </div>\n",
              "\n",
              "\n",
              "<div id=\"df-9c2f82b2-d8ee-4992-a210-c28d532deb82\">\n",
              "  <button class=\"colab-df-quickchart\" onclick=\"quickchart('df-9c2f82b2-d8ee-4992-a210-c28d532deb82')\"\n",
              "            title=\"Suggest charts\"\n",
              "            style=\"display:none;\">\n",
              "\n",
              "<svg xmlns=\"http://www.w3.org/2000/svg\" height=\"24px\"viewBox=\"0 0 24 24\"\n",
              "     width=\"24px\">\n",
              "    <g>\n",
              "        <path d=\"M19 3H5c-1.1 0-2 .9-2 2v14c0 1.1.9 2 2 2h14c1.1 0 2-.9 2-2V5c0-1.1-.9-2-2-2zM9 17H7v-7h2v7zm4 0h-2V7h2v10zm4 0h-2v-4h2v4z\"/>\n",
              "    </g>\n",
              "</svg>\n",
              "  </button>\n",
              "\n",
              "<style>\n",
              "  .colab-df-quickchart {\n",
              "      --bg-color: #E8F0FE;\n",
              "      --fill-color: #1967D2;\n",
              "      --hover-bg-color: #E2EBFA;\n",
              "      --hover-fill-color: #174EA6;\n",
              "      --disabled-fill-color: #AAA;\n",
              "      --disabled-bg-color: #DDD;\n",
              "  }\n",
              "\n",
              "  [theme=dark] .colab-df-quickchart {\n",
              "      --bg-color: #3B4455;\n",
              "      --fill-color: #D2E3FC;\n",
              "      --hover-bg-color: #434B5C;\n",
              "      --hover-fill-color: #FFFFFF;\n",
              "      --disabled-bg-color: #3B4455;\n",
              "      --disabled-fill-color: #666;\n",
              "  }\n",
              "\n",
              "  .colab-df-quickchart {\n",
              "    background-color: var(--bg-color);\n",
              "    border: none;\n",
              "    border-radius: 50%;\n",
              "    cursor: pointer;\n",
              "    display: none;\n",
              "    fill: var(--fill-color);\n",
              "    height: 32px;\n",
              "    padding: 0;\n",
              "    width: 32px;\n",
              "  }\n",
              "\n",
              "  .colab-df-quickchart:hover {\n",
              "    background-color: var(--hover-bg-color);\n",
              "    box-shadow: 0 1px 2px rgba(60, 64, 67, 0.3), 0 1px 3px 1px rgba(60, 64, 67, 0.15);\n",
              "    fill: var(--button-hover-fill-color);\n",
              "  }\n",
              "\n",
              "  .colab-df-quickchart-complete:disabled,\n",
              "  .colab-df-quickchart-complete:disabled:hover {\n",
              "    background-color: var(--disabled-bg-color);\n",
              "    fill: var(--disabled-fill-color);\n",
              "    box-shadow: none;\n",
              "  }\n",
              "\n",
              "  .colab-df-spinner {\n",
              "    border: 2px solid var(--fill-color);\n",
              "    border-color: transparent;\n",
              "    border-bottom-color: var(--fill-color);\n",
              "    animation:\n",
              "      spin 1s steps(1) infinite;\n",
              "  }\n",
              "\n",
              "  @keyframes spin {\n",
              "    0% {\n",
              "      border-color: transparent;\n",
              "      border-bottom-color: var(--fill-color);\n",
              "      border-left-color: var(--fill-color);\n",
              "    }\n",
              "    20% {\n",
              "      border-color: transparent;\n",
              "      border-left-color: var(--fill-color);\n",
              "      border-top-color: var(--fill-color);\n",
              "    }\n",
              "    30% {\n",
              "      border-color: transparent;\n",
              "      border-left-color: var(--fill-color);\n",
              "      border-top-color: var(--fill-color);\n",
              "      border-right-color: var(--fill-color);\n",
              "    }\n",
              "    40% {\n",
              "      border-color: transparent;\n",
              "      border-right-color: var(--fill-color);\n",
              "      border-top-color: var(--fill-color);\n",
              "    }\n",
              "    60% {\n",
              "      border-color: transparent;\n",
              "      border-right-color: var(--fill-color);\n",
              "    }\n",
              "    80% {\n",
              "      border-color: transparent;\n",
              "      border-right-color: var(--fill-color);\n",
              "      border-bottom-color: var(--fill-color);\n",
              "    }\n",
              "    90% {\n",
              "      border-color: transparent;\n",
              "      border-bottom-color: var(--fill-color);\n",
              "    }\n",
              "  }\n",
              "</style>\n",
              "\n",
              "  <script>\n",
              "    async function quickchart(key) {\n",
              "      const quickchartButtonEl =\n",
              "        document.querySelector('#' + key + ' button');\n",
              "      quickchartButtonEl.disabled = true;  // To prevent multiple clicks.\n",
              "      quickchartButtonEl.classList.add('colab-df-spinner');\n",
              "      try {\n",
              "        const charts = await google.colab.kernel.invokeFunction(\n",
              "            'suggestCharts', [key], {});\n",
              "      } catch (error) {\n",
              "        console.error('Error during call to suggestCharts:', error);\n",
              "      }\n",
              "      quickchartButtonEl.classList.remove('colab-df-spinner');\n",
              "      quickchartButtonEl.classList.add('colab-df-quickchart-complete');\n",
              "    }\n",
              "    (() => {\n",
              "      let quickchartButtonEl =\n",
              "        document.querySelector('#df-9c2f82b2-d8ee-4992-a210-c28d532deb82 button');\n",
              "      quickchartButtonEl.style.display =\n",
              "        google.colab.kernel.accessAllowed ? 'block' : 'none';\n",
              "    })();\n",
              "  </script>\n",
              "</div>\n",
              "\n",
              "    </div>\n",
              "  </div>\n"
            ],
            "application/vnd.google.colaboratory.intrinsic+json": {
              "type": "dataframe",
              "variable_name": "fake_data",
              "summary": "{\n  \"name\": \"fake_data\",\n  \"rows\": 72134,\n  \"fields\": [\n    {\n      \"column\": \"text\",\n      \"properties\": {\n        \"dtype\": \"string\",\n        \"num_unique_values\": 63678,\n        \"samples\": [\n          \"PHILIPPINES: 2016 Washington\\u2019s Fury as Philippine\\u2019s Elections Threaten US Anti-China Policy\\n  Duterte takes clear lead in Philippine elections. (Photo: IBT)Andrew Korybko The DuranMay 2016: As Filipinos choose their next President on Monday, prospect of election of anti-establishment candidate threatens the geopolitical viability of the US s Pivot to Asia.The Philippines votes for its next President on Monday.  Whilst the rest of the world pays little attention, strategists in Washington are worried.The electoral frontrunner is Rodrigo Duterte, an eccentric, no-nonsense former mayor from the southern island of Mindanao who commands a Trump-like popularity and an equally loyal following. He has shaken Philippine politics to its core over the past couple of months, defying establishment pundits who   just as they did with Trump   wrongly predicted that his campaign would fizzle out over the course of each passing week.Having totally underestimated just how dissatisfied most Filipinos are with the status quo, Duterte s rivals missed the chance to outshine him by his anti-system rhetoric. With the race in its final days that is now too late.  Instead   also paralleling what happened with Trump   there are desperate calls for coalitions and deals to stop him.Should these fail and should Duterte win on Monday, he promises a geopolitical revolution unlike anything the Philippines has ever seen in its history. Pivoting To Asia Through The PhilippinesThe US s Pivot to Asia was announced by then-Secretary of State Hillary Clinton in the fall of 2011 with the unstated but obvious goal of  containing  China. Key to this strategy is the  rebalancing    as the Pentagon calls it   of an estimated 60% of its overseas forces to the Asia-Pacific theatre. Such a major deployment requires many more bases than the US currently has in the region. The US has therefore sought the help of the loyal leader of its former Philippines colony, Benigno Aquino III, to find a way to re-open its bases in the Philippines which under popular pressure were closed in the 1990s.Using the  China threat  as the  plausibly justifiable  reason for doing so, but aware that the Philippines people still resent their former coloniser and are proud of having forced the US to close its Philippines bases at the end of the Cold War, the US has devised what it calls an  Enhanced Defence Cooperation Agreement  (EDCA) that allows for the  rotational presence  of American troops in at least five separate bases, one of which is located on the strategic island of Palawan that abuts the South China Sea.Although not legally  permanent  or  officially  controlled by the US, this wink-and-a-nod arrangement would in reality allow the US to redeploy its forces to the Philippines, returning the Philippines archipelago to the role of the US s second  unsinkable aircraft carrier  (alongside Japan) which it had during the Cold War.The  China Containment Coalition The Pentagon plans to use the Philippines as the maritime lynch of its  China Containment Coalition  (CCC), gathering all of its allies  navies together and deploying them within provocative striking range of China s claimed islands.The other three members of the US-led Quadrilateral Security Dialogue   Japan, India, and Australia   would find their own way to  rotate  their military units throughout the Philippines islands as well, thereby forming the core of the CCC.To add a regional element to this mix, the plan is for the Philippines and Vietnam, both of which contest some of China s maritime claims, to intensify their strategic cooperation to the point of a mutual defence treaty. This would draw Vietnam into the network of the anti-China coalition being built up by Washington by using the defence ties between Vietnam and the Philippines to making the members of the Quadrilateral Security Dialogue de facto allies of Vietnam.Altogether, the Pentagon plan is to produce a critical mass of hostile states near China s southern maritime border which backed by the US could quickly  counter  any moves by Beijing thereby  containing  it to the East Asian mainland.Duterte s RevolutionEverything was proceeding according to plan until Duterte began to question the  Enhanced Defence Cooperation Agreement . While his running mate has said Duterte would honour the agreement, he added that he would do so  from a position of strength .Back in October 2014, Duterte went on record to say the  Enhanced Defence Cooperation Agreement  should be scrapped if it allowed US servicemen in the Philippines to avoid justice for any crimes they committed.This pinpoints an issue very sensitive for Filipinos who have vivid memories of how US troops were able to escape punishment for acts of gross misbehaviour whilst the US military occupied its bases in the Philippines.  Public anger over this issue was one of the key factors in mobilising local opposition to the bases and explains why many Filipinos oppose their return.Since it is impossible to imagine such an incident not arising at some point, it is all but inevitable that a situation will occur which will fulfil Duterte s criterion for scrapping the  Enhanced Defence Cooperation Agreement  Taken together with Duterte s assertion that he intends to deal with the US  from a position of strength  it is easy to see how this might trigger the process of revoking the agreement.No Filipino politician has previously spoken about the US in this way.  Moreover other things he has said also suggest an intention to send a strongly independent line.Not surprisingly the Pentagon-affiliated publication  Starts and Stripes , which writes for US servicemen servicemen and their families, published a scathing critique of Duterte just last week.  Here are some excerpts: With Filipinos set to choose among five candidates on May 9, Duterte, the incumbent mayor of Davao City who has said the U.S.  should not meddle in our affairs,  holds a strong lead, according to the most recent poll released Sunday.Duterte is very popular now because people are sick and tired of the same old, same old,  said Virginia Bacay Watson, a professor at the Asia-Pacific Center for Security Studies in Honolulu.  He s kind of a fresh face, fresh perspective, compared to the other elites who are running. Duterte has presented himself to voters as a straight-talker who is not part of the Manila elite   someone who can get things done even if he needs to bend the rules to do so. That includes the country s foreign affairs. He feels that American influence is too strong, that we re too dependent on U.S. intervention in anything we do,  said Babe Romualdez, an opinion columnist for The Philippine Star newspaper who has interviewed the candidates one-on-one about their platforms on the U.S. military and relations with China. He was an activist when he was a student and young lawyer,  Romualdez said.  I get a sense that he s saying the same things that most of the militants say. In Romualdez s interview with the front-runner, the candidate said  we really don t need the Americans to deal with the Chinese because the Chinese want to talk to us alone. If I become president I m going to reach out to the Chinese and talk to them alone without American intervention,  he said.Duterte publically opposed the Visiting Forces Agreement with the U.S.   of which the EDCA was an amendment   and claimed in 2013 that he had rejected a request by the U.S. to establish Davao as a base of operations for drones.Earlier this year, he was quoted saying that although the country was now bound by the EDCA, he had  reservations about the presence of foreign troops.  He added,  We will not allow the building of structures. Clearly, Duterte is not the sort of leader the Pentagon envisaged for the Philippines.   If he becomes Philippine President there will inevitably be concern in Washington that its elaborate plans for an anti-Chinese coalition in the region could be scuttled.The New Silk Road Pays A Pit Stop To The PhilippinesWorse still for the US Duterte is saying the Philippines and China could have peaceful and pragmatic relations with each other, engaging in bilateral dialogue over their disputes without the meddling interference of the US.What that would mean for the US is that the Philippines might become a tacit Chinese ally, which would completely upend the regional strategic balance.That is not what Duterte is actually calling for, but he did say is that he not only would be open to talking to Beijing, but would even further and engage in joint exploration in the South China Sea. Further, in seeking to develop the decades-neglected infrastructure of one of the most promising economies of Asia, Duterte has suggested that he would be open to inviting China to build a railroad and other types of connective projects that Beijing has become globally renowned for. This would of course mean replacing US contractors   traditionally heavily entrenched in the Philippines   with cheaper and possibly more efficient Chinese ones   potentially causing US companies to lose out from billions of dollars of construction deals.Joint maritime exploration and infrastructure cooperation between the Philippines and China has the potential to turn the entire Philippines archipelago into the latest pit stop for China s New Silk Road, presenting the US with its biggest geopolitical setback since the reunification of Crimea with Russia.Concluding ThoughtsThe entire future of the US s Pivot to Asia hangs in the balance as Filipinos go to the polls in what is shaping up to be the most pivotal election in their country s history.While the US and its allied politicians are preaching a campaign of anti-Chinese fear mongering and war, Rodrigo Duterte is bucking the system and preaching the benefits the Philippines could reap from more pragmatic policies.By questioning the need for the Enhanced Defence Cooperation Agreement and subtly threatening to subvert it, Duterte has made himself the US s enemy number one amongst politicians from the Asia-Pacific. No other individual is speaking out in this way and unlike others who have come before him, he seems to command a high level of genuine people support.If Duterte succeeds in winning the Presidency, it could represent a paradigm shift in Philippine history and the region s geopolitics, resulting in the US losing its second  unsinkable aircraft carrier  and having its Pivot to Asia   ie. its plan to  contain  China   fail before it has even properly got underway.***READ MORE PHILIPPINES NEWS AT 21ST CENTURY WIRE S:  PHILIPPINES FILESSUPPORT OUR WORK BY SUBSCRIBING & BECOMING A MEMBER @21WIRE.TV\",\n          \"Hillary Clinton wins debate, Bernie Sanders rises in polls\\n Washington (CNN) With the first Democratic debate in the books, a new CNN/ORC poll finds most who watched think Hillary Clinton had the best performance of the night, but her strong showing hasn't boosted her standing in the race for the party's nomination.\\n\\nClinton stands at 45% in the race for the Democratic nomination, with Vermont Sen. Bernie Sanders behind her at 29%. Vice President Joe Biden, who is considering a run for presidency and did not participate in last week's debate, follows at 18%.\\n\\nBehind the top three, former Virginia Sen. Jim Webb had 1% support, while former Rhode Island Gov. Lincoln Chafee, Harvard professor Larry Lessig and former Maryland Gov. Martin O'Malley all held less than 1% support.\\n\\nCompared with pre-debate polling, Sanders' support is up five points since mid-September, but no other candidate showed significant change.\\n\\nAs Biden mulls whether or not to get in the race, the poll suggests Democrats are becoming less enamored of a run from the vice president. In August, 53% of registered Democrats said they wanted Biden to run, that's down to 47% in the new poll. Should Biden decide to sit out the race for the Democratic nomination, Clinton's lead over Sanders climbs to 23 points: 56% would back Clinton, 33% Sanders.\\n\\nOverall, 31% of registered Democrats say they watched all or most of the CNN/Facebook debate, held October 13 in Las Vegas. More than 6-in-10 Democrats who watched say Clinton did the best job, almost doubling the 35% who thought Sanders had the best performance. On the other side of the coin, 43% of those who watched said Chafee had the worst night, 31% thought Webb did, 12% O'Malley.\\n\\nAmong those Democrats who watched the debate, both Sanders and Biden are viewed more favorably than they are among Democratic voters generally: Sanders' favorability number bumps from 62% among all Democratic voters to 84% among debate viewers, while Biden climbs from 76% to 89% favorable. Clinton's numbers are about the same in both groups.\\n\\nDespite their positive feelings toward Biden, debate-watchers are more apt than others to say Biden should stay out of the contest (61% think he should not run, compared with 43% of those who did not watch) and they are far more likely to be satisfied with the Democratic field generally (84% compared with 64% among those who didn't watch).\\n\\nAssessing the lesser-known candidates, debate-watchers are more positive than other Democrats toward O'Malley, (44% favorable compared with 20% among Democratic voters generally). But Webb and Chafee are both viewed more negatively among those who watched (For Chafee, 32% unfavorable among debate-watchers vs. 18% among all Democratic voters; Webb is at 37% unfavorable among debate-watchers, 20% among all Democratic voters).\\n\\nFollowing the debate, Clinton continues to dominate as the more trusted candidate across several top issues, with double-digit advantages over Sanders and Biden as the candidate who would best handle the economy, health care, foreign policy, race relations, climate change and gun policy. Clinton also now holds a small edge over Sanders as most trusted on income inequality (43% Clinton, 38% Sanders).\\n\\nDebate-watchers are more likely than others to say they trust Sanders on top issues, though even among this more-friendly audience, he continues to trail Clinton on most issues. Exceptions are income inequality (50% of debate-watchers trust Sanders vs. 36% for Clinton) and climate change (40% each say Clinton and Sanders would be best able to handle that).\\n\\nSanders gained no ground, however, on foreign policy. On that question, Clinton's strength grows among those who watched: 77% in that group say they trust her most to handle foreign policy, up from 66% among Democratic voters overall.\\n\\nOn two issues where the debate highlighted differences among the candidates, fissures within the Democratic electorate on who would best handle them emerge.\\n\\nIncome inequality appears to be the most divisive issue, with women, older voters, those without college degrees, moderates and those with lower incomes more apt to trust Clinton on the issue, while those with college degrees, liberals, and urbanites are more likely to favor Sanders.\\n\\nAnd on gun policy, there's a sharp gender divide. Women are far more likely to say they trust Clinton to handle it than men, 50% to 37%. Democratic gun owners are more evenly split on the question, with 35% saying they trust Clinton most on gun policy, 27% Sanders and 21% Biden. Among those Democrats who do not own guns, it's 48% Clinton, 21% Biden and 16% Sanders.\\n\\nOverall, Democrats aren't much more satisfied with their field now than they were in July before any debates had happened. While the share \\\"very satisfied\\\" has risen from 26% to 33%, the share saying they are at least fairly satisfied has held steady at about 7-in-10. Women do report feeling more satisfied with the field than men, but younger Democrats, a key group for Barack Obama's general election victories, are far less satisfied with this field of candidates than older Democrats. Only about one-quarter of those under age 50 say they are very satisfied, compared with 40% of those age 50 or older.\\n\\nWhen matched against the top candidates from the Republican field, Clinton, Sanders and Biden all top Donald Trump, who has been leading most polling on the Republican nomination contest since this summer. But Biden is the only one who holds a significant lead over Ben Carson, a more recent addition to the top of the Republican field. Trump trails Clinton by 5, Sanders by 9 and Biden by 10. But against Carson, both Clinton (47% to Carson's 48%) and Sanders (46% to Carson's 48%) run about evenly with the former neurosurgeon. Biden tops Carson by 8 points.\\n\\nThe CNN/ORC International Poll was conducted by telephone October 14-17 among a random national sample of 1,028 adult Americans. Results among the 425 registered voters who say they are Democrats or independents who lean toward the Democratic Party have a margin of sampling error of plus or minus 5 percentage points.\",\n          \"Sanders expected to endorse Clinton on Tuesday: New York Times\\n WASHINGTON (Reuters) - Democrat Bernie Sanders is expected to endorse presidential rival Hillary Clinton on Tuesday at a campaign event in New Hampshire, The New York Times reported on Thursday. Citing three Democrats who have been involved in the planning, the Times said the endorsement was partly the result of daily talks between the candidates\\u2019 campaign managers about bringing them together and advancing Sanders\\u2019 policy priorities. The Sanders campaign declined to comment. Sanders, a U.S. senator from Vermont, has resisted endorsing Clinton in a show of party unity since she clinched the Democratic nomination last month. Sanders chose to continue his campaign as leverage to win concessions on his liberal policy agenda and reforms to the Democratic Party nominating process. In a speech to supporters last month, Sanders vowed to help Clinton defeat Republican Donald Trump in the Nov. 8 election but did not end his campaign. Sanders risked being left behind, however, as other prominent Democrats have rallied around Clinton, including President Barack Obama, Vice President Joe Biden and U.S. Senator Elizabeth Warren, a favorite of the party\\u2019s liberal wing. Clinton, who shifted to the left under pressure from Sanders during the campaign, adopted another of his issues on Wednesday when she proposed eliminating tuition at public colleges and universities for in-state students whose families earn less than $125,000 annually. Sanders\\u2019 endorsement is expected to ensure he has a prominent speaking slot at the Democratic convention later this month, the Times quoted the three Democrats as saying. \"\n        ],\n        \"semantic_type\": \"\",\n        \"description\": \"\"\n      }\n    },\n    {\n      \"column\": \"labels\",\n      \"properties\": {\n        \"dtype\": \"number\",\n        \"std\": 0,\n        \"min\": 0,\n        \"max\": 1,\n        \"num_unique_values\": 2,\n        \"samples\": [\n          0,\n          1\n        ],\n        \"semantic_type\": \"\",\n        \"description\": \"\"\n      }\n    }\n  ]\n}"
            }
          },
          "metadata": {},
          "execution_count": 20
        }
      ],
      "source": [
        "fake_data['text'] = fake_data['title'] + '\\n ' + fake_data['text']\n",
        "fake_data=fake_data[['text','labels']]\n",
        "fake_data.head(5)"
      ]
    },
    {
      "cell_type": "code",
      "execution_count": null,
      "metadata": {
        "colab": {
          "base_uri": "https://localhost:8080/"
        },
        "id": "75bZVcGUhgug",
        "outputId": "3abc490d-19c4-45e4-dbd0-3c84ebc9a53e"
      },
      "outputs": [
        {
          "output_type": "stream",
          "name": "stderr",
          "text": [
            "<ipython-input-21-9e895cabce07>:2: SettingWithCopyWarning: \n",
            "A value is trying to be set on a copy of a slice from a DataFrame\n",
            "\n",
            "See the caveats in the documentation: https://pandas.pydata.org/pandas-docs/stable/user_guide/indexing.html#returning-a-view-versus-a-copy\n",
            "  fake_data.text[i]=fake_data.text[i].replace(\"\\n\",\" \").strip()\n"
          ]
        }
      ],
      "source": [
        "for i in  range(len(fake_data.text)):\n",
        "  fake_data.text[i]=fake_data.text[i].replace(\"\\n\",\" \").strip()\n"
      ]
    },
    {
      "cell_type": "code",
      "execution_count": null,
      "metadata": {
        "colab": {
          "base_uri": "https://localhost:8080/",
          "height": 128
        },
        "id": "5K925QnqeY2w",
        "outputId": "4bd49671-0d30-4424-fc94-660f0ca4d7c9"
      },
      "outputs": [
        {
          "output_type": "execute_result",
          "data": {
            "text/plain": [
              "'Bobby Jindal, raised Hindu, uses story of Christian conversion to woo evangelicals for potential 2016 bid  A dozen politically active pastors came here for a private dinner Friday night to hear a conversion story unique in the context of presidential politics: how Louisiana Gov. Bobby Jindal traveled from Hinduism to Protestant Christianity and, ultimately, became what he calls an “evangelical Catholic.”  Over two hours, Jindal, 42, recalled talking with a girl in high school who wanted to “save my soul,” reading the Bible in a closet so his parents would not see him and feeling a stir while watching a movie during his senior year that depicted Jesus on the cross.  “I was struck, and struck hard,” Jindal told the pastors. “This was the Son of God, and He had died for our sins.”  Jindal’s session with the Christian clergy, who lead congregations in the early presidential battleground states of Iowa and South Carolina, was part of a behind-the-scenes effort by the Louisiana governor to find a political base that could help propel him into the top tier of Republican candidates seeking to run for the White House in 2016.  Known in GOP circles mostly for his mastery of policy issues such as health care, Jindal, a Rhodes Scholar and graduate of the Ivy League’s Brown University, does not have an obvious pool of activist supporters to help drive excitement outside his home state. So he is harnessing his religious experience in a way that has begun to appeal to parts of the GOP’s influential core of religious conservatives, many of whom have yet to find a favorite among the Republicans eyeing the presidential race.  Other potential 2016 GOP candidates are wooing the evangelical base, including Sens. Rand Paul (Ky.) and Ted Cruz (Tex.) and Indiana Gov. Mike Pence.  But over the weekend in Lynchburg — a mecca of sorts for evangelicals as the home of Liberty University, founded in the 1970s by the Rev. Jerry Falwell — Jindal appeared to make progress.  In addition to his dinner with the pastors, he delivered a well-received “call to action” address to 40,000 Christian conservatives gathered for Liberty’s commencement ceremony, talking again about his faith while assailing what he said was President Obama’s record of attacking religious liberty.  The pastors who came to meet Jindal said his intimate descriptions of his experiences stood out.  “He has the convictions, and he has what it takes to communicate them,” said Brad Sherman of Solid Rock Christian Church in Coralville, Iowa. Sherman helped former Arkansas governor Mike Huckabee in his winning 2008 campaign for delegates in Iowa.  Another Huckabee admirer, the Rev. C. Mitchell Brooks of Second Baptist Church in Belton, S.C., said Jindal’s commitment to Christian values and his compelling story put him “on a par” with Huckabee, who was a Baptist preacher before entering politics.  The visiting pastors flew to Lynchburg over the weekend at the invitation of the American Renewal Project, a well-funded nonprofit group that encourages evangelical Christians to engage in the civic arena with voter guides, get-out-the-vote drives and programs to train pastors in grass-roots activism. The group’s founder, David Lane, has built a pastor network in politically important states such as Iowa, Missouri, Ohio and South Carolina and has led trips to Israel with Paul and others seeking to make inroads with evangelical activists.  The group that Lane invited to\\xa0Lynchburg included Donald Wild\\xadmon, a retired minister and founder of the American Family Association, a prominent evangelical activist group that has influence through its network of more than 140 Christian radio stations.  Most of the pastors that Lane’s organization brought to Lynchburg had not met Jindal. But they said he captured their interest recently when he stepped forward to defend Phil Robertson, patriarch of the “Duck Dynasty” television-show family, amid a controversy over disparaging remarks he made about gays in an interview with GQ magazine.  Throughout his Lynchburg visit, Jindal presented himself as a willing culture warrior.  During his commencement address Saturday, he took up the cause of twin brothers whose HGTV reality series about renovating and reselling houses, “Flip It Forward,” was canceled last week after a Web site revealed that they had protested against same-sex marriage at the 2012 Democratic National Convention in Charlotte.  The siblings, Jason and David Benham, both Liberty graduates, attended the graduation and a private lunch with Jindal, who called the action against them “another demonstration of intolerance from the entertainment industry.”  “If these guys had protested at the Republican Party convention, instead of canceling their show, HGTV would probably have given them a raise,” Jindal said as the Liberty crowd applauded.  He cited the Hobby Lobby craft store chain, which faced a legal challenge after refusing to provide employees with insurance coverage for contraceptives as required under the Affordable Care Act. Members of the family that owns Hobby Lobby, who have become heroes to many religious conservatives, have said that they are morally opposed to the use of certain types of birth control and that they considered the requirement a violation of their First Amendment right to religious freedom.  The family was “committed to honor the Lord by being generous employers, paying well above minimum wage and increasing salaries four years in a row even in the midst of the enduring recession,” Jindal told the Liberty graduates. “None of this matters to the Obama administration.”  But for the pastors who came to see Jindal in action, the governor’s own story was the highlight of the weekend. And in many ways, he was unlike any other aspiring president these activists had met.  Piyush Jindal was born in 1971, four months after his parents arrived in Baton Rouge, La., from their native India. He changed his name to Bobby as a young boy, adopting the name of a character on a favorite television show, “The Brady Bunch.”  His decision to become a Christian, he told the pastors, did not come in one moment of lightning epiphany. Instead, he said, it happened in phases, growing from small seeds planted over time.  Jindal recalled that his closest friend from grade school gave him a Bible with his name emblazoned in gold on the cover as a Christmas present. It struck him initially as an unimpressive gift, Jindal told the pastors.  “Who in the world would spend good money for a Bible when everyone knows you can get one free in any hotel?” he recalled thinking at the time. “And the gold lettering meant I couldn’t give it away or return it.”  His religious education reached a higher plane during his junior year in high school, he told his dinner audience. He wanted to ask a pretty girl on a date during a hallway conversation, and she started talking about her faith in God and her opposition to abortion. The girl invited him to visit her church.  Jindal said he was skeptical and set out to “investigate all these fanciful claims” made by the girl and other friends. He started reading the Bible in his closet at home. “I was unsure how my parents would react,” he said.  After the stirring moment when he saw Christ depicted on the cross during the religious movie, the Bible and his very existence suddenly seemed clearer to him, Jindal told the pastors.  Jindal did not dwell on his subsequent conversion to Catholicism just a few years later in college, where he said he immersed himself in the traditions of the church.  He touched on it briefly during the commencement address, noting in passing that “I am best described as an evangelical Catholic.” Mostly, he sought to showcase the ways in which he shares values with other Christian conservatives.  “I read the words of Jesus Christ, and I realized that they were true,” Jindal told the graduates Saturday, offering a less detailed accounting of his conversion than he had done the night before with the pastors. “I used to think that I had found God, but I believe it is more accurate to say that He found me.”'"
            ],
            "application/vnd.google.colaboratory.intrinsic+json": {
              "type": "string"
            }
          },
          "metadata": {},
          "execution_count": 22
        }
      ],
      "source": [
        "fake_data.text[3]"
      ]
    },
    {
      "cell_type": "code",
      "execution_count": null,
      "metadata": {
        "colab": {
          "base_uri": "https://localhost:8080/"
        },
        "id": "tfZ8oFk3RvLU",
        "outputId": "5b41cafc-cfa8-47fa-c6f5-d1f4a2772caf"
      },
      "outputs": [
        {
          "output_type": "execute_result",
          "data": {
            "text/plain": [
              "72134"
            ]
          },
          "metadata": {},
          "execution_count": 23
        }
      ],
      "source": [
        "len(fake_data)"
      ]
    },
    {
      "cell_type": "code",
      "execution_count": null,
      "metadata": {
        "id": "zoFHvhBieqYO"
      },
      "outputs": [],
      "source": [
        "# use scikitlearn to split the data\n",
        "train_data ,test_data =train_test_split(fake_data,test_size=0.2,random_state=42)\n",
        "train_data.to_csv('train.csv',index=False)\n",
        "test_data.to_csv('test.csv',index=False)"
      ]
    },
    {
      "cell_type": "code",
      "execution_count": null,
      "metadata": {
        "colab": {
          "base_uri": "https://localhost:8080/"
        },
        "id": "DN4KBpHS21B5",
        "outputId": "23c1a4e7-5083-480b-a94b-7b1dbccbf760"
      },
      "outputs": [
        {
          "output_type": "stream",
          "name": "stdout",
          "text": [
            "LAW ENFORCEMENT ON HIGH ALERT Following Threats Against Cops And Whites On 9-11By #BlackLivesMatter And #FYF911 Terrorists [VIDEO]  No comment is expected from Barack Obama Members of the #FYF911 or #FukYoFlag and #BlackLivesMatter movements called for the lynching and hanging of white people and cops. They encouraged others on a radio show Tuesday night to  turn the tide  and kill white people and cops to send a message about the killing of black people in America.One of the F***YoFlag organizers is called  Sunshine.  She has a radio blog show hosted from Texas called,  Sunshine s F***ing Opinion Radio Show. A snapshot of her #FYF911 @LOLatWhiteFear Twitter page at 9:53 p.m. shows that she was urging supporters to  Call now!! #fyf911 tonight we continue to dismantle the illusion of white Below is a SNAPSHOT Twitter Radio Call Invite   #FYF911The radio show aired at 10:00 p.m. eastern standard time.During the show, callers clearly call for  lynching  and  killing  of white people.A 2:39 minute clip from the radio show can be heard here. It was provided to Breitbart Texas by someone who would like to be referred to as  Hannibal.  He has already received death threats as a result of interrupting #FYF911 conference calls.An unidentified black man said  when those mother f**kers are by themselves, that s when when we should start f***ing them up. Like they do us, when a bunch of them ni**ers takin  one of us out, that s how we should roll up.  He said,  Cause we already roll up in gangs anyway. There should be six or seven black mother f**ckers, see that white person, and then lynch their ass. Let s turn the tables. They conspired that if  cops started losing people,  then  there will be a state of emergency. He speculated that one of two things would happen,  a big-ass [R s?????] war,  or  ni**ers, they are going to start backin  up. We are already getting killed out here so what the f**k we got to lose? Sunshine could be heard saying,  Yep, that s true. That s so f**king true. He said,  We need to turn the tables on them. Our kids are getting shot out here. Somebody needs to become a sacrifice on their side.He said,  Everybody ain t down for that s**t, or whatever, but like I say, everybody has a different position of war.  He continued,  Because they don t give a f**k anyway.  He said again,  We might as well utilized them for that s**t and turn the tables on these n**ers. He said, that way  we can start lookin  like we ain t havin  that many casualties, and there can be more causalities on their side instead of ours. They are out their killing black people, black lives don t matter, that s what those mother f**kers   so we got to make it matter to them. Find a mother f**ker that is alone. Snap his ass, and then f***in hang him from a damn tree. Take a picture of it and then send it to the mother f**kers. We  just need one example,  and  then people will start watchin .  This will turn the tables on s**t, he said. He said this will start  a trickle-down effect.  He said that when one white person is hung and then they are just  flat-hanging,  that will start the  trickle-down effect.  He continued,  Black people are good at starting trends. He said that was how  to get the upper-hand. Another black man spoke up saying they needed to kill  cops that are killing us. The first black male said,  That will be the best method right there. Breitbart Texas previously reported how Sunshine was upset when  racist white people  infiltrated and disrupted one of her conference calls. She subsequently released the phone number of one of the infiltrators. The veteran immediately started receiving threatening calls.One of the #F***YoFlag movement supporters allegedly told a veteran who infiltrated their publicly posted conference call,  We are going to rape and gut your pregnant wife, and your f***ing piece of sh*t unborn creature will be hung from a tree. Breitbart Texas previously encountered Sunshine at a Sandra Bland protest at the Waller County Jail in Texas, where she said all white people should be killed. She told journalists and photographers,  You see this nappy-ass hair on my head?   That means I am one of those more militant Negroes.  She said she was at the protest because  these redneck mother-f**kers murdered Sandra Bland because she had nappy hair like me. #FYF911 black radicals say they will be holding the  imperial powers  that are actually responsible for the terrorist attacks on September 11th accountable on that day, as reported by Breitbart Texas. There are several websites and Twitter handles for the movement. Palmetto Star  describes himself as one of the head organizers. He said in a YouTube video that supporters will be burning their symbols of  the illusion of their superiority,  their  false white supremacy,  like the American flag, the British flag, police uniforms, and Ku Klux Klan hoods.Sierra McGrone or  Nocturnus Libertus  posted,  you too can help a young Afrikan clean their a** with the rag of oppression.  She posted two photos, one that appears to be herself, and a photo of a black man, wiping their naked butts with the American flag.For entire story: Breitbart News\n"
          ]
        }
      ],
      "source": [
        "print(train_data.text[0])"
      ]
    },
    {
      "cell_type": "code",
      "execution_count": null,
      "metadata": {
        "id": "_71ldGLiAwE-"
      },
      "outputs": [],
      "source": [
        "x_train ,y_train ,x_test, y_test=train_data['text'],train_data['labels'],test_data['text'],test_data['labels']"
      ]
    },
    {
      "cell_type": "code",
      "execution_count": null,
      "metadata": {
        "colab": {
          "base_uri": "https://localhost:8080/"
        },
        "id": "lj-SswjLAH69",
        "outputId": "7faf7cd0-ed6a-4008-d100-a41edbb5f327"
      },
      "outputs": [
        {
          "output_type": "execute_result",
          "data": {
            "text/plain": [
              "((57707, 2), (14427, 2))"
            ]
          },
          "metadata": {},
          "execution_count": 27
        }
      ],
      "source": [
        "train_data.shape ,test_data.shape"
      ]
    },
    {
      "cell_type": "code",
      "execution_count": null,
      "metadata": {
        "id": "yEzMvssoikDs"
      },
      "outputs": [],
      "source": [
        "\n",
        "\n",
        "# Naïve Bayes:\n",
        "text_clf_nb = Pipeline([('tfidf', TfidfVectorizer()),\n",
        "                     ('clf', MultinomialNB()),\n",
        "])\n",
        "\n",
        "# Linear SVC:\n",
        "text_clf_lsvc = Pipeline([('tfidf', TfidfVectorizer()),\n",
        "                     ('clf', LinearSVC()),\n",
        "])"
      ]
    },
    {
      "cell_type": "code",
      "execution_count": null,
      "metadata": {
        "colab": {
          "base_uri": "https://localhost:8080/"
        },
        "id": "HzaPJxjujBEV",
        "outputId": "921df714-a442-4d75-eaff-e4c64f00244f"
      },
      "outputs": [
        {
          "data": {
            "text/plain": [
              "(0.8825792364877745, 0.8684411173494143)"
            ]
          },
          "execution_count": 25,
          "metadata": {},
          "output_type": "execute_result"
        }
      ],
      "source": [
        "text_clf_nb.fit(x_train,y_train)\n",
        "text_clf_nb.score(x_train,y_train),text_clf_nb.score(x_test,y_test)"
      ]
    },
    {
      "cell_type": "code",
      "execution_count": null,
      "metadata": {
        "colab": {
          "base_uri": "https://localhost:8080/"
        },
        "id": "e3h1S8KgjIIr",
        "outputId": "cb803b6f-a73f-4d55-f228-7d9525dd45f2"
      },
      "outputs": [
        {
          "data": {
            "text/plain": [
              "(0.9958237302233698, 0.9695016288902751)"
            ]
          },
          "execution_count": 26,
          "metadata": {},
          "output_type": "execute_result"
        }
      ],
      "source": [
        "text_clf_lsvc.fit(x_train,y_train)\n",
        "text_clf_lsvc.score(x_train,y_train),text_clf_lsvc.score(x_test,y_test)"
      ]
    },
    {
      "cell_type": "code",
      "execution_count": null,
      "metadata": {
        "id": "O-JTEZjAkPqA"
      },
      "outputs": [],
      "source": [
        "#add stopwords to tfidfVectorizer\n",
        "# Naïve Bayes:with stop_words in tfidfVectorizer\n",
        "text_clf_nb_sw = Pipeline([('tfidf', TfidfVectorizer(stop_words='english')),\n",
        "                     ('clf', MultinomialNB()),\n",
        "])\n",
        "\n",
        "# Linear SVC:with stop_words in tfidfVectorizer\n",
        "text_clf_lsvc_sw = Pipeline([('tfidf', TfidfVectorizer(stop_words='english')),\n",
        "                     ('clf', LinearSVC()),\n",
        "])\n"
      ]
    },
    {
      "cell_type": "code",
      "execution_count": null,
      "metadata": {
        "colab": {
          "base_uri": "https://localhost:8080/"
        },
        "id": "CQTwn6OXkiBV",
        "outputId": "cb7b5a50-20dd-4c50-877a-37d319afcb1a"
      },
      "outputs": [
        {
          "data": {
            "text/plain": [
              "(0.885611797528896, 0.870589866223054)"
            ]
          },
          "execution_count": 28,
          "metadata": {},
          "output_type": "execute_result"
        }
      ],
      "source": [
        "text_clf_nb_sw.fit(x_train,y_train)\n",
        "text_clf_nb_sw.score(x_train,y_train),text_clf_nb_sw.score(x_test,y_test)"
      ]
    },
    {
      "cell_type": "code",
      "execution_count": null,
      "metadata": {
        "colab": {
          "background_save": true
        },
        "id": "Xnp1RYyKkkZ2",
        "outputId": "dfcab8bb-7c2e-47ca-9b86-55ed4778d78a"
      },
      "outputs": [
        {
          "data": {
            "text/plain": [
              "(0.9960143483459546, 0.9647882442642268)"
            ]
          },
          "execution_count": 29,
          "metadata": {},
          "output_type": "execute_result"
        }
      ],
      "source": [
        "text_clf_lsvc_sw.fit(x_train,y_train)\n",
        "text_clf_lsvc_sw.score(x_train,y_train),text_clf_lsvc_sw.score(x_test,y_test)"
      ]
    },
    {
      "cell_type": "code",
      "execution_count": null,
      "metadata": {
        "colab": {
          "base_uri": "https://localhost:8080/"
        },
        "id": "qxArsIURm-vE",
        "outputId": "e04e4c0f-61a4-40ed-c424-1c161af73029"
      },
      "outputs": [
        {
          "name": "stdout",
          "output_type": "stream",
          "text": [
            "Fitting 5 folds for each of 12 candidates, totalling 60 fits\n"
          ]
        },
        {
          "data": {
            "text/plain": [
              "(0.8947094806522605,\n",
              " {'clf__alpha': 0.5, 'clf__fit_prior': True},\n",
              " 0.8750953074097179)"
            ]
          },
          "execution_count": 30,
          "metadata": {},
          "output_type": "execute_result"
        }
      ],
      "source": [
        "\n",
        "params_NB = {'clf__alpha': np.linspace(0.5, 1.5, 6),\n",
        "             'clf__fit_prior': [True, False], }\n",
        "\n",
        "gs_NB = GridSearchCV(text_clf_nb_sw ,\n",
        "                     params_NB,\n",
        "                     cv=5,\n",
        "                     verbose=1,\n",
        "                     scoring='accuracy')\n",
        "\n",
        "\n",
        "gs_NB.fit(x_train,y_train);\n",
        "gs_NB.score(x_train,y_train),gs_NB.best_params_,gs_NB.score(x_test,y_test)"
      ]
    },
    {
      "cell_type": "code",
      "execution_count": null,
      "metadata": {
        "colab": {
          "base_uri": "https://localhost:8080/"
        },
        "id": "sNeu3RYvcDLb",
        "outputId": "7897e1e8-b051-45fb-bb78-8423e26339ba"
      },
      "outputs": [
        {
          "name": "stdout",
          "output_type": "stream",
          "text": [
            "Fitting 5 folds for each of 8 candidates, totalling 40 fits\n"
          ]
        },
        {
          "data": {
            "text/plain": [
              "(0.9959623615852496,\n",
              " {'clf__C': 1,\n",
              "  'clf__class_weight': 'balanced',\n",
              "  'clf__loss': 'squared_hinge',\n",
              "  'clf__max_iter': 1200000,\n",
              "  'clf__penalty': 'l2'},\n",
              " 0.9647882442642268)"
            ]
          },
          "execution_count": 31,
          "metadata": {},
          "output_type": "execute_result"
        }
      ],
      "source": [
        "params_SV = {'clf__C': [0.1, 1, 10, 100],\n",
        "    'clf__class_weight': ['balanced'] ,\n",
        "             'clf__penalty':['l2'],\n",
        "    'clf__loss': ['hinge', 'squared_hinge'],\n",
        "             'clf__max_iter':[1200000]}\n",
        "gs_SV = GridSearchCV(text_clf_lsvc_sw,\n",
        "                     params_SV,\n",
        "                     cv=5,\n",
        "                     verbose=1,\n",
        "                     scoring='accuracy')\n",
        "\n",
        "\n",
        "gs_SV.fit(x_train,y_train);\n",
        "gs_SV.score(x_train,y_train),gs_SV.best_params_,gs_SV.score(x_test,y_test)"
      ]
    },
    {
      "cell_type": "code",
      "execution_count": null,
      "metadata": {
        "colab": {
          "base_uri": "https://localhost:8080/"
        },
        "id": "HiZIII_ofa7S",
        "outputId": "d06dc1c6-6ece-41ba-d345-d50bab53a374"
      },
      "outputs": [
        {
          "data": {
            "text/plain": [
              "1    29768\n",
              "0    27939\n",
              "Name: labels, dtype: int64"
            ]
          },
          "execution_count": 28,
          "metadata": {},
          "output_type": "execute_result"
        }
      ],
      "source": [
        "train_data.labels.value_counts()"
      ]
    },
    {
      "cell_type": "code",
      "execution_count": null,
      "metadata": {
        "colab": {
          "base_uri": "https://localhost:8080/"
        },
        "id": "ujC3zJ82IxhQ",
        "outputId": "8092a9c0-b761-4d1e-c459-6262dd234b88"
      },
      "outputs": [
        {
          "name": "stdout",
          "output_type": "stream",
          "text": [
            "cuda:0\n"
          ]
        }
      ],
      "source": [
        "device = torch.device('cuda:0' if torch.cuda.is_available() else 'cpu')\n",
        "print(device)"
      ]
    },
    {
      "cell_type": "code",
      "execution_count": null,
      "metadata": {
        "id": "B5uEL3oemCYz"
      },
      "outputs": [],
      "source": [
        "destination_folder='/content/'"
      ]
    },
    {
      "cell_type": "code",
      "execution_count": null,
      "metadata": {
        "id": "FFSaOHZSXUKY"
      },
      "outputs": [],
      "source": [
        "def load_data():\n",
        "    # stopwords\n",
        "    stop_words =STOP_WORDS\n",
        "    punctuation=[pun for pun in string.punctuation]\n",
        "    stop_words.update(punctuation)\n",
        "    words=[' ','“','”','  ']\n",
        "    stop_words.update(words)\n",
        "\n",
        "\n",
        "    # Fields\n",
        "    label_field = Field(sequential=False, use_vocab=False, batch_first=True, dtype=torch.float)\n",
        "    text_field = Field(tokenize='spacy',tokenizer_language='en_core_web_sm',\n",
        "                      lower=True, include_lengths=True,\n",
        "                      batch_first=True,stop_words=stop_words)\n",
        "    fields = [ ('text', text_field),('labels', label_field)]\n",
        "\n",
        "    # TabularDataset\n",
        "    train, test = TabularDataset.splits(path='/content/', train='train.csv', test='test.csv',\n",
        "                                              format='CSV', fields=fields, skip_header=True)\n",
        "\n",
        "    # Iterators\n",
        "    train_iter = BucketIterator(train, batch_size=32, sort_key=lambda x: len(x.text),\n",
        "                                device=device, sort=True, sort_within_batch=True)\n",
        "    test_iter = BucketIterator(test, batch_size=32, sort_key=lambda x: len(x.text),\n",
        "                                device=device, sort=True, sort_within_batch=True)\n",
        "\n",
        "    # Vocabulary\n",
        "    text_field.build_vocab(train, min_freq=5)\n",
        "    label_field.build_vocab(train)\n",
        "    print(\"Size of text vocab:\",len(text_field.vocab))\n",
        "    print(\"most common vocab:\",text_field.vocab.freqs.most_common(10))\n",
        "\n",
        "    return train_iter, test_iter , text_field"
      ]
    },
    {
      "cell_type": "code",
      "execution_count": null,
      "metadata": {
        "colab": {
          "base_uri": "https://localhost:8080/"
        },
        "id": "Sizr8fXoj6qO",
        "outputId": "8f3b5c8d-819f-4ffc-f67d-5c7c426c1045"
      },
      "outputs": [
        {
          "name": "stdout",
          "output_type": "stream",
          "text": [
            "Size of text vocab: 72003\n",
            "most common vocab: [('trump', 187797), ('said', 186944), ('s', 140259), ('president', 74178), ('people', 73105), ('new', 63749), ('clinton', 61959), ('mr.', 57292), ('state', 52291), ('u.s.', 50927)]\n"
          ]
        }
      ],
      "source": [
        "train_iter, test_iter , text_field=load_data()"
      ]
    },
    {
      "cell_type": "code",
      "execution_count": null,
      "metadata": {
        "id": "DtXbRMzHbZBu"
      },
      "outputs": [],
      "source": [
        "class RNN_net(nn.Module):\n",
        "    def __init__(self, dimension=128,num_layers=2,dropout=0.5):\n",
        "        super(RNN_net, self).__init__()\n",
        "\n",
        "        # Embedding layer for text\n",
        "        self.embedding = nn.Embedding(len(text_field.vocab), 300)\n",
        "        self.dimension = dimension\n",
        "        self.num_layers=num_layers\n",
        "        self.dropout=dropout\n",
        "\n",
        "        # First RNN layer\n",
        "        self.RNN1 = nn.RNN(input_size=300, hidden_size=dimension, num_layers=num_layers,\n",
        "                             batch_first=True, bidirectional=True)\n",
        "        self.dropout1 = nn.Dropout(p=dropout)\n",
        "\n",
        "\n",
        "        # Fully connected layer for final output\n",
        "        self.fc = nn.Linear(2 * dimension, 1)\n",
        "\n",
        "    def forward(self, text):\n",
        "        # Embedding the text\n",
        "        #print(f'Input: {list(text.shape)}')\n",
        "        text_len = torch.tensor([len(seq) for seq in text], dtype=torch.int64)\n",
        "        text_emb = self.embedding(text)\n",
        "\n",
        "        # First RNN layer\n",
        "        packed_input_1 = pack_padded_sequence(text_emb, text_len.to('cpu'), batch_first=True, enforce_sorted=False)\n",
        "        packed_output_1, _ = self.RNN1(packed_input_1)\n",
        "        output_1, _ = pad_packed_sequence(packed_output_1, batch_first=True)\n",
        "\n",
        "        # Extracting the last forward and first backward outputs from the first LSTM layer\n",
        "        last_forward_output_1 = output_1[range(len(output_1)), text_len - 1, :self.dimension]\n",
        "        first_backward_output_1 = output_1[:, 0, self.dimension:]\n",
        "\n",
        "        # Concatenating the forward and backward outputs\n",
        "        concatenated_output_1 = torch.cat((last_forward_output_1, first_backward_output_1), 1)\n",
        "\n",
        "        # Applying dropout after the first LSTM layer\n",
        "        dropout_output_1 = self.dropout1(concatenated_output_1)\n",
        "\n",
        "\n",
        "\n",
        "        text = self.fc(dropout_output_1 )\n",
        "        text = torch.squeeze(text, 1)\n",
        "        text_out = torch.sigmoid(text)\n",
        "        #print(f'First block: {list(text_out.shape)}')\n",
        "\n",
        "        return text_out\n"
      ]
    },
    {
      "cell_type": "code",
      "execution_count": null,
      "metadata": {
        "id": "N67e4A6olaeP"
      },
      "outputs": [],
      "source": [
        "def train(model, optimizer, criterion=nn.BCELoss(),\n",
        "          train_loader=train_iter, valid_loader=test_iter,\n",
        "          num_epochs=50, eval_every=len(train_iter) // 2,\n",
        "          file_path=destination_folder, best_valid_loss=float(\"Inf\")):\n",
        "\n",
        "    train_loss_list = []\n",
        "    valid_loss_list = []\n",
        "    global_steps_list = []\n",
        "\n",
        "    for epoch in range(num_epochs):\n",
        "        model.train()\n",
        "        running_loss = 0.0\n",
        "\n",
        "        for batch_idx, data in enumerate(train_loader):\n",
        "            optimizer.zero_grad()\n",
        "            labels = data.labels.to(device)\n",
        "            text = data.text[0].to(device)\n",
        "            output = model(text)\n",
        "\n",
        "            loss = criterion(output, labels)\n",
        "            loss.backward()\n",
        "            optimizer.step()\n",
        "\n",
        "            running_loss += loss.item()\n",
        "\n",
        "            if batch_idx % eval_every == 0 and batch_idx > 0:\n",
        "                average_train_loss = running_loss / eval_every\n",
        "                valid_running_loss = evaluate(model, criterion, valid_loader)\n",
        "                average_valid_loss = valid_running_loss / len(valid_loader)\n",
        "\n",
        "                train_loss_list.append(average_train_loss)\n",
        "                valid_loss_list.append(average_valid_loss)\n",
        "                global_steps_list.append(batch_idx + epoch * len(train_loader))\n",
        "\n",
        "                print(f'Epoch [{epoch+1}/{num_epochs}], Step [{batch_idx}/{len(train_loader)}], '\n",
        "                      f'Train Loss: {average_train_loss:.4f}, Valid Loss: {average_valid_loss:.4f}')\n",
        "\n",
        "                running_loss = 0.0\n",
        "\n",
        "                if best_valid_loss > average_valid_loss:\n",
        "                    best_valid_loss = average_valid_loss\n",
        "                    save_checkpoint(file_path + '/model.pt', model, optimizer, best_valid_loss)\n",
        "                    save_metrics(file_path + '/metrics.pt', train_loss_list, valid_loss_list, global_steps_list)\n",
        "\n",
        "    save_metrics(file_path + '/metrics.pt', train_loss_list, valid_loss_list, global_steps_list)\n",
        "    print('Finished Training!')\n",
        "\n",
        "def evaluate(model, criterion, valid_loader):\n",
        "    model.eval()\n",
        "    valid_running_loss = 0.0\n",
        "\n",
        "    with torch.no_grad():\n",
        "        for batch_idx, data in enumerate(valid_loader):\n",
        "            labels = data.labels.to(device)\n",
        "            text = data.text[0].to(device)\n",
        "            output = model(text)\n",
        "\n",
        "            loss = criterion(output, labels)\n",
        "            valid_running_loss += loss.item()\n",
        "    model.train()\n",
        "    return valid_running_loss\n"
      ]
    },
    {
      "cell_type": "code",
      "execution_count": null,
      "metadata": {
        "id": "udwXVAseDTK7"
      },
      "outputs": [],
      "source": [
        "def save_checkpoint(save_path, model, optimizer, valid_loss):\n",
        "    if save_path is None:\n",
        "        return\n",
        "\n",
        "    state_dict = {\n",
        "        'model_state_dict': model.state_dict(),\n",
        "        'optimizer_state_dict': optimizer.state_dict(),\n",
        "        'valid_loss': valid_loss\n",
        "    }\n",
        "\n",
        "    torch.save(state_dict, save_path)\n",
        "    print(f'Model saved to ==> {save_path}')\n",
        "\n",
        "\n",
        "def load_checkpoint(load_path, model, optimizer):\n",
        "    if load_path is None:\n",
        "        return\n",
        "\n",
        "    state_dict = torch.load(load_path, map_location=device)\n",
        "    print(f'Model loaded from <== {load_path}')\n",
        "\n",
        "    model.load_state_dict(state_dict['model_state_dict'])\n",
        "    optimizer.load_state_dict(state_dict['optimizer_state_dict'])\n",
        "\n",
        "    return state_dict['valid_loss']\n",
        "\n",
        "\n",
        "def save_metrics(save_path, train_loss_list, valid_loss_list, global_steps_list):\n",
        "    if save_path is None:\n",
        "        return\n",
        "\n",
        "    state_dict = {\n",
        "        'train_loss_list': train_loss_list,\n",
        "        'valid_loss_list': valid_loss_list,\n",
        "        'global_steps_list': global_steps_list\n",
        "    }\n",
        "\n",
        "    torch.save(state_dict, save_path)\n",
        "    print(f'Metrics saved to ==> {save_path}')\n",
        "\n",
        "\n",
        "def load_metrics(load_path):\n",
        "    if load_path is None:\n",
        "        return\n",
        "\n",
        "    state_dict = torch.load(load_path, map_location=device)\n",
        "    print(f'Metrics loaded from <== {load_path}')\n",
        "\n",
        "    return (\n",
        "        state_dict['train_loss_list'],\n",
        "        state_dict['valid_loss_list'],\n",
        "        state_dict['global_steps_list']\n",
        "    )\n"
      ]
    },
    {
      "cell_type": "code",
      "execution_count": null,
      "metadata": {
        "colab": {
          "base_uri": "https://localhost:8080/"
        },
        "id": "zzcN4kQMmMKd",
        "outputId": "92ca97dd-ee5b-4fab-8f02-8fad72ef9e42"
      },
      "outputs": [
        {
          "name": "stdout",
          "output_type": "stream",
          "text": [
            "Epoch [1/10], Step [902/1804], Train Loss: 0.1935, Valid Loss: 0.2304\n",
            "Model saved to ==> /content//model.pt\n",
            "Metrics saved to ==> /content//metrics.pt\n",
            "Epoch [2/10], Step [902/1804], Train Loss: 0.1396, Valid Loss: 0.1764\n",
            "Model saved to ==> /content//model.pt\n",
            "Metrics saved to ==> /content//metrics.pt\n",
            "Epoch [3/10], Step [902/1804], Train Loss: 0.0903, Valid Loss: 0.1635\n",
            "Model saved to ==> /content//model.pt\n",
            "Metrics saved to ==> /content//metrics.pt\n",
            "Epoch [4/10], Step [902/1804], Train Loss: 0.0964, Valid Loss: 0.1734\n",
            "Epoch [5/10], Step [902/1804], Train Loss: 0.0756, Valid Loss: 0.1272\n",
            "Model saved to ==> /content//model.pt\n",
            "Metrics saved to ==> /content//metrics.pt\n",
            "Epoch [6/10], Step [902/1804], Train Loss: 0.0665, Valid Loss: 0.1198\n",
            "Model saved to ==> /content//model.pt\n",
            "Metrics saved to ==> /content//metrics.pt\n",
            "Epoch [7/10], Step [902/1804], Train Loss: 0.0428, Valid Loss: 0.1228\n",
            "Epoch [8/10], Step [902/1804], Train Loss: 0.0357, Valid Loss: 0.1182\n",
            "Model saved to ==> /content//model.pt\n",
            "Metrics saved to ==> /content//metrics.pt\n",
            "Epoch [9/10], Step [902/1804], Train Loss: 0.0299, Valid Loss: 0.1410\n",
            "Epoch [10/10], Step [902/1804], Train Loss: 0.0318, Valid Loss: 0.1179\n",
            "Model saved to ==> /content//model.pt\n",
            "Metrics saved to ==> /content//metrics.pt\n",
            "Metrics saved to ==> /content//metrics.pt\n",
            "Finished Training!\n"
          ]
        }
      ],
      "source": [
        "model = RNN_net().to(device)\n",
        "optimizer = optim.Adam(model.parameters(), lr=0.001)\n",
        "\n",
        "train(model=model, optimizer=optimizer, num_epochs=10)"
      ]
    },
    {
      "cell_type": "code",
      "execution_count": null,
      "metadata": {
        "colab": {
          "base_uri": "https://localhost:8080/",
          "height": 467
        },
        "id": "YaAfXkxjbsIU",
        "outputId": "94950624-e981-4259-d4f2-c29848e72b23"
      },
      "outputs": [
        {
          "name": "stdout",
          "output_type": "stream",
          "text": [
            "Metrics loaded from <== /content//metrics.pt\n"
          ]
        },
        {
          "data": {
            "image/png": "[encoded data removed]",
            "text/plain": [
              "<Figure size 640x480 with 1 Axes>"
            ]
          },
          "metadata": {},
          "output_type": "display_data"
        }
      ],
      "source": [
        "train_loss_list, valid_loss_list, global_steps_list = load_metrics(destination_folder + '/metrics.pt')\n",
        "plt.plot(global_steps_list, train_loss_list, label='Train')\n",
        "plt.plot(global_steps_list, valid_loss_list, label='Valid')\n",
        "plt.xlabel('Global Steps')\n",
        "plt.ylabel('Loss')\n",
        "plt.legend()\n",
        "plt.show()"
      ]
    },
    {
      "cell_type": "code",
      "execution_count": null,
      "metadata": {
        "id": "tfx-joikCrot"
      },
      "outputs": [],
      "source": [
        "BATCHSIZE = 32\n",
        "EPOCHS = 10\n",
        "N_TRAIN_EXAMPLES = BATCHSIZE *1500\n",
        "N_VALID_EXAMPLES = BATCHSIZE *500"
      ]
    },
    {
      "cell_type": "code",
      "execution_count": null,
      "metadata": {
        "id": "636lmIRZ7Wvl"
      },
      "outputs": [],
      "source": [
        "def objective_RNN(trial):\n",
        "    dimension = trial.suggest_int(\"dimentions{}\".format(i),128,256)\n",
        "    num_layers=trial.suggest_int(\"n_layers{}\".format(i), 2, 5)\n",
        "    dropout=trial.suggest_float(\"dropout{}\".format(i), 0.2, 0.7,step=0.1,log=False)\n",
        "    # Generate the model.\n",
        "    model = RNN_net(dimension=dimension, num_layers=num_layers,dropout=dropout).to(device)\n",
        "\n",
        "    # Generate the optimizers.\n",
        "   # lr = trial.suggest_float(\"lr\",0.00001, 0.1, log=False)\n",
        "    optimizer = optim.Adam(model.parameters(), lr=0.001)\n",
        "    criterion=nn.BCELoss()\n",
        "\n",
        "    # Training of the model.\n",
        "    for epoch in range(EPOCHS):\n",
        "        model.train()\n",
        "        for batch_idx, data in enumerate(train_iter):\n",
        "          # Limiting training data for faster epochs.\n",
        "            if batch_idx * BATCHSIZE >= N_TRAIN_EXAMPLES:\n",
        "                break\n",
        "\n",
        "            labels = data.labels.to(device)\n",
        "            text = data.text[0].to(device)\n",
        "\n",
        "            optimizer.zero_grad()\n",
        "            output = model(text)\n",
        "            loss =  criterion(output, labels)\n",
        "            loss.backward()\n",
        "            optimizer.step()\n",
        "\n",
        "        # Validation of the model.\n",
        "        model.eval()\n",
        "        valid_running_loss = 0.0\n",
        "        with torch.no_grad():\n",
        "            for batch_idx, data in enumerate(test_iter):\n",
        "                # Limiting validation data.\n",
        "               # if batch_idx * BATCHSIZE >= N_VALID_EXAMPLES:\n",
        "                   # break\n",
        "\n",
        "                labels = data.labels.to(device)\n",
        "                text = data.text[0].to(device)\n",
        "                output = model(text)\n",
        "                loss = criterion(output, labels)\n",
        "                valid_running_loss += loss.item()\n",
        "\n",
        "\n",
        "        average_valid_loss = valid_running_loss / len(test_iter)\n",
        "\n",
        "        trial.report(average_valid_loss, epoch)\n",
        "        # Handle pruning based on the intermediate value.\n",
        "        if trial.should_prune():\n",
        "            raise optuna.exceptions.TrialPruned()\n",
        "\n",
        "\n",
        "\n",
        "    return average_valid_loss\n"
      ]
    },
    {
      "cell_type": "code",
      "execution_count": null,
      "metadata": {
        "colab": {
          "base_uri": "https://localhost:8080/"
        },
        "id": "zuCO3w0J7Wvm",
        "outputId": "e20b45fc-1529-48ad-f36d-116685247be3"
      },
      "outputs": [
        {
          "name": "stderr",
          "output_type": "stream",
          "text": [
            "[I 2024-02-23 19:28:55,287] A new study created in memory with name: no-name-a80ba315-d616-460c-b1c8-068d121e60f2\n",
            "[I 2024-02-23 19:47:23,268] Trial 0 finished with value: 0.1710740134641146 and parameters: {'dimentions72133': 213, 'n_layers72133': 5, 'dropout72133': 0.4}. Best is trial 0 with value: 0.1710740134641146.\n",
            "[I 2024-02-23 19:59:57,600] Trial 1 finished with value: 0.2600319062294067 and parameters: {'dimentions72133': 134, 'n_layers72133': 3, 'dropout72133': 0.7}. Best is trial 0 with value: 0.1710740134641146.\n",
            "[I 2024-02-23 20:09:57,499] Trial 2 finished with value: 0.39308020070253413 and parameters: {'dimentions72133': 138, 'n_layers72133': 2, 'dropout72133': 0.30000000000000004}. Best is trial 0 with value: 0.1710740134641146.\n",
            "[I 2024-02-23 20:20:08,500] Trial 3 finished with value: 0.11150223020162302 and parameters: {'dimentions72133': 181, 'n_layers72133': 2, 'dropout72133': 0.30000000000000004}. Best is trial 3 with value: 0.11150223020162302.\n",
            "[I 2024-02-23 20:35:46,128] Trial 4 finished with value: 0.2538828273141703 and parameters: {'dimentions72133': 204, 'n_layers72133': 4, 'dropout72133': 0.30000000000000004}. Best is trial 3 with value: 0.11150223020162302.\n",
            "[I 2024-02-23 20:37:37,995] Trial 5 pruned. \n",
            "[I 2024-02-23 20:38:38,258] Trial 6 pruned. \n",
            "[I 2024-02-23 20:40:27,833] Trial 7 pruned. \n",
            "[I 2024-02-23 20:50:22,495] Trial 8 finished with value: 0.20503505134073285 and parameters: {'dimentions72133': 211, 'n_layers72133': 2, 'dropout72133': 0.30000000000000004}. Best is trial 3 with value: 0.11150223020162302.\n",
            "[I 2024-02-23 20:52:12,924] Trial 9 pruned. \n"
          ]
        },
        {
          "name": "stdout",
          "output_type": "stream",
          "text": [
            "Study statistics: \n",
            "  Number of finished trials:  10\n",
            "  Number of pruned trials:  4\n",
            "  Number of complete trials:  6\n",
            "Best trial:\n",
            "  Value:  0.11150223020162302\n",
            "  Params: \n",
            "    dimentions72133: 181\n",
            "    n_layers72133: 2\n",
            "    dropout72133: 0.30000000000000004\n"
          ]
        }
      ],
      "source": [
        "study = optuna.create_study(direction=\"minimize\")\n",
        "study.optimize(objective_RNN, n_trials=10, timeout=float('inf'))\n",
        "\n",
        "pruned_trials = study.get_trials(deepcopy=False, states=[TrialState.PRUNED])\n",
        "complete_trials = study.get_trials(deepcopy=False, states=[TrialState.COMPLETE])\n",
        "\n",
        "print(\"Study statistics: \")\n",
        "print(\"  Number of finished trials: \", len(study.trials))\n",
        "print(\"  Number of pruned trials: \", len(pruned_trials))\n",
        "print(\"  Number of complete trials: \", len(complete_trials))\n",
        "\n",
        "print(\"Best trial:\")\n",
        "trial = study.best_trial\n",
        "\n",
        "print(\"  Value: \", trial.value)\n",
        "\n",
        "print(\"  Params: \")\n",
        "for key, value in trial.params.items():\n",
        "  print(\"    {}: {}\".format(key, value))"
      ]
    },
    {
      "cell_type": "code",
      "execution_count": null,
      "metadata": {
        "colab": {
          "base_uri": "https://localhost:8080/"
        },
        "id": "vYiygyTXtijE",
        "outputId": "3c76ac1a-d6f7-47ad-bde1-2abc7953df7c"
      },
      "outputs": [
        {
          "name": "stdout",
          "output_type": "stream",
          "text": [
            "Epoch [1/30], Step [902/1804], Train Loss: 0.1950, Valid Loss: 0.3601\n",
            "Model saved to ==> /content//model.pt\n",
            "Metrics saved to ==> /content//metrics.pt\n",
            "Epoch [2/30], Step [902/1804], Train Loss: 0.2046, Valid Loss: 0.4610\n",
            "Epoch [3/30], Step [902/1804], Train Loss: 0.1790, Valid Loss: 0.3355\n",
            "Model saved to ==> /content//model.pt\n",
            "Metrics saved to ==> /content//metrics.pt\n",
            "Epoch [4/30], Step [902/1804], Train Loss: 0.1062, Valid Loss: 0.2200\n",
            "Model saved to ==> /content//model.pt\n",
            "Metrics saved to ==> /content//metrics.pt\n",
            "Epoch [5/30], Step [902/1804], Train Loss: 0.0972, Valid Loss: 0.3143\n",
            "Epoch [6/30], Step [902/1804], Train Loss: 0.0714, Valid Loss: 0.1365\n",
            "Model saved to ==> /content//model.pt\n",
            "Metrics saved to ==> /content//metrics.pt\n",
            "Epoch [7/30], Step [902/1804], Train Loss: 0.0460, Valid Loss: 0.1954\n",
            "Epoch [8/30], Step [902/1804], Train Loss: 0.0302, Valid Loss: 0.1525\n",
            "Epoch [9/30], Step [902/1804], Train Loss: 0.0318, Valid Loss: 0.1401\n",
            "Epoch [10/30], Step [902/1804], Train Loss: 0.0312, Valid Loss: 0.2217\n",
            "Epoch [11/30], Step [902/1804], Train Loss: 0.0278, Valid Loss: 0.1522\n",
            "Epoch [12/30], Step [902/1804], Train Loss: 0.0331, Valid Loss: 0.1601\n",
            "Epoch [13/30], Step [902/1804], Train Loss: 0.0186, Valid Loss: 0.1875\n",
            "Epoch [14/30], Step [902/1804], Train Loss: 0.0170, Valid Loss: 0.1486\n",
            "Epoch [15/30], Step [902/1804], Train Loss: 0.0124, Valid Loss: 0.1694\n",
            "Epoch [16/30], Step [902/1804], Train Loss: 0.0061, Valid Loss: 0.1948\n",
            "Epoch [17/30], Step [902/1804], Train Loss: 0.0096, Valid Loss: 0.1922\n",
            "Epoch [18/30], Step [902/1804], Train Loss: 0.0068, Valid Loss: 0.1593\n",
            "Epoch [19/30], Step [902/1804], Train Loss: 0.0049, Valid Loss: 0.2304\n",
            "Epoch [20/30], Step [902/1804], Train Loss: 0.0048, Valid Loss: 0.2373\n",
            "Epoch [21/30], Step [902/1804], Train Loss: 0.0059, Valid Loss: 0.2733\n",
            "Epoch [22/30], Step [902/1804], Train Loss: 0.0040, Valid Loss: 0.3440\n",
            "Epoch [23/30], Step [902/1804], Train Loss: 0.0107, Valid Loss: 0.2566\n",
            "Epoch [24/30], Step [902/1804], Train Loss: 0.0098, Valid Loss: 0.3113\n",
            "Epoch [25/30], Step [902/1804], Train Loss: 0.0030, Valid Loss: 0.2082\n",
            "Epoch [26/30], Step [902/1804], Train Loss: 0.0023, Valid Loss: 0.3243\n",
            "Epoch [27/30], Step [902/1804], Train Loss: 0.0041, Valid Loss: 0.2259\n",
            "Epoch [28/30], Step [902/1804], Train Loss: 0.0030, Valid Loss: 0.3189\n",
            "Epoch [29/30], Step [902/1804], Train Loss: 0.0014, Valid Loss: 0.3873\n",
            "Epoch [30/30], Step [902/1804], Train Loss: 0.0019, Valid Loss: 0.3647\n",
            "Metrics saved to ==> /content//metrics.pt\n",
            "Finished Training!\n"
          ]
        }
      ],
      "source": [
        "model = RNN_net(dimension=181, num_layers=2,dropout=0.3).to(device)\n",
        "optimizer = optim.Adam(model.parameters(), lr= 0.001)\n",
        "\n",
        "train(model=model, optimizer=optimizer, num_epochs=30)"
      ]
    },
    {
      "cell_type": "code",
      "execution_count": null,
      "metadata": {
        "colab": {
          "base_uri": "https://localhost:8080/",
          "height": 466
        },
        "id": "Un7NAooxtijF",
        "outputId": "a2f2168a-8d31-43ff-96dc-eea6f865cc8d"
      },
      "outputs": [
        {
          "name": "stdout",
          "output_type": "stream",
          "text": [
            "Metrics loaded from <== /content//metrics.pt\n"
          ]
        },
        {
          "data": {
            "image/png": "[encoded data removed]",
            "text/plain": [
              "<Figure size 640x480 with 1 Axes>"
            ]
          },
          "metadata": {},
          "output_type": "display_data"
        }
      ],
      "source": [
        "train_loss_list, valid_loss_list, global_steps_list = load_metrics(destination_folder + '/metrics.pt')\n",
        "plt.plot(global_steps_list, train_loss_list, label='Train')\n",
        "plt.plot(global_steps_list, valid_loss_list, label='Valid')\n",
        "plt.xlabel('Global Steps')\n",
        "plt.ylabel('Loss')\n",
        "plt.legend()\n",
        "plt.show()"
      ]
    },
    {
      "cell_type": "code",
      "execution_count": null,
      "metadata": {
        "id": "Hzk7t2SDLanT"
      },
      "outputs": [],
      "source": [
        "# Evaluation Function\n",
        "\n",
        "def evaluate_model(model, test_loader, version='title', threshold=0.5):\n",
        "    y_pred = []\n",
        "    y_true = []\n",
        "\n",
        "    model.eval()\n",
        "    with torch.no_grad():\n",
        "\n",
        "        for batch_idx, data in enumerate(test_loader):\n",
        "            labels = data.labels.to(device)\n",
        "            text = data.text[0].to(device)\n",
        "            output = model(text)\n",
        "\n",
        "\n",
        "            output = (output > threshold).int()\n",
        "            y_pred.extend(output.tolist())\n",
        "            y_true.extend(labels.tolist())\n",
        "\n",
        "    print('Classification Report:')\n",
        "    print(classification_report(y_true, y_pred, labels=[1,0], digits=4))\n",
        "    print('accutacy:', accuracy_score(y_true, y_pred))\n",
        "    print('precision_score:',precision_score(y_true, y_pred))\n",
        "    print('recall_score:',recall_score(y_true, y_pred))\n",
        "    print('f1_score:',f1_score(y_true, y_pred))\n",
        "\n",
        "\n",
        "    cm = confusion_matrix(y_true, y_pred, labels=[1,0])\n",
        "    ax= plt.subplot()\n",
        "    sns.heatmap(cm, annot=True, ax = ax, cmap='Blues', fmt=\"d\")\n",
        "\n",
        "    ax.set_title('Confusion Matrix')\n",
        "\n",
        "    ax.set_xlabel('Predicted Labels')\n",
        "    ax.set_ylabel('True Labels')\n",
        "\n",
        "    ax.xaxis.set_ticklabels(['FAKE', 'REAL'])\n",
        "    ax.yaxis.set_ticklabels(['FAKE', 'REAL'])"
      ]
    },
    {
      "cell_type": "code",
      "execution_count": null,
      "metadata": {
        "colab": {
          "base_uri": "https://localhost:8080/",
          "height": 732
        },
        "id": "BT13PB-DtijG",
        "outputId": "04b189bb-d575-4467-e027-4021cf2a4ae4"
      },
      "outputs": [
        {
          "name": "stdout",
          "output_type": "stream",
          "text": [
            "Model loaded from <== /content//model.pt\n",
            "Classification Report:\n",
            "              precision    recall  f1-score   support\n",
            "\n",
            "           1     0.9586    0.9364    0.9473      7338\n",
            "           0     0.9357    0.9581    0.9468      7089\n",
            "\n",
            "    accuracy                         0.9470     14427\n",
            "   macro avg     0.9471    0.9472    0.9470     14427\n",
            "weighted avg     0.9473    0.9470    0.9470     14427\n",
            "\n",
            "accutacy: 0.9470437374367505\n",
            "precision_score: 0.9585658482142857\n",
            "recall_score: 0.9363586808394658\n",
            "f1_score: 0.9473321384254791\n"
          ]
        },
        {
          "data": {
            "image/png": "[encoded data removed]",
            "text/plain": [
              "<Figure size 640x480 with 2 Axes>"
            ]
          },
          "metadata": {},
          "output_type": "display_data"
        }
      ],
      "source": [
        "best_model = RNN_net(dimension=181, num_layers= 2,dropout=0.3).to(device)\n",
        "optimizer = optim.Adam(model.parameters(), lr= 0.001)\n",
        "\n",
        "load_checkpoint(destination_folder + '/model.pt', best_model, optimizer)\n",
        "evaluate_model(best_model, test_iter)"
      ]
    },
    {
      "cell_type": "code",
      "execution_count": null,
      "metadata": {
        "colab": {
          "base_uri": "https://localhost:8080/"
        },
        "id": "AD8Hj_rfU80r",
        "outputId": "b11b9540-405f-4f8e-ecb6-49cadd422b3b"
      },
      "outputs": [
        {
          "name": "stdout",
          "output_type": "stream",
          "text": [
            "Epoch [1/30], Step [902/1804], Train Loss: 0.2010, Valid Loss: 0.2305\n",
            "Model saved to ==> /content//model.pt\n",
            "Metrics saved to ==> /content//metrics.pt\n",
            "Epoch [2/30], Step [902/1804], Train Loss: 0.1443, Valid Loss: 0.2737\n",
            "Epoch [3/30], Step [902/1804], Train Loss: 0.1365, Valid Loss: 0.1787\n",
            "Model saved to ==> /content//model.pt\n",
            "Metrics saved to ==> /content//metrics.pt\n",
            "Epoch [4/30], Step [902/1804], Train Loss: 0.1103, Valid Loss: 0.1762\n",
            "Model saved to ==> /content//model.pt\n",
            "Metrics saved to ==> /content//metrics.pt\n",
            "Epoch [5/30], Step [902/1804], Train Loss: 0.0654, Valid Loss: 0.1317\n",
            "Model saved to ==> /content//model.pt\n",
            "Metrics saved to ==> /content//metrics.pt\n",
            "Epoch [6/30], Step [902/1804], Train Loss: 0.0909, Valid Loss: 0.1363\n",
            "Epoch [7/30], Step [902/1804], Train Loss: 0.0833, Valid Loss: 0.5878\n",
            "Epoch [8/30], Step [902/1804], Train Loss: 0.0937, Valid Loss: 0.1733\n",
            "Epoch [9/30], Step [902/1804], Train Loss: 0.0510, Valid Loss: 0.1224\n",
            "Model saved to ==> /content//model.pt\n",
            "Metrics saved to ==> /content//metrics.pt\n",
            "Epoch [10/30], Step [902/1804], Train Loss: 0.0547, Valid Loss: 0.1163\n",
            "Model saved to ==> /content//model.pt\n",
            "Metrics saved to ==> /content//metrics.pt\n",
            "Epoch [11/30], Step [902/1804], Train Loss: 0.0428, Valid Loss: 0.1061\n",
            "Model saved to ==> /content//model.pt\n",
            "Metrics saved to ==> /content//metrics.pt\n",
            "Epoch [12/30], Step [902/1804], Train Loss: 0.0235, Valid Loss: 0.0887\n",
            "Model saved to ==> /content//model.pt\n",
            "Metrics saved to ==> /content//metrics.pt\n",
            "Epoch [13/30], Step [902/1804], Train Loss: 0.0340, Valid Loss: 0.1083\n",
            "Epoch [14/30], Step [902/1804], Train Loss: 0.0459, Valid Loss: 0.1470\n",
            "Epoch [15/30], Step [902/1804], Train Loss: 0.0253, Valid Loss: 0.1012\n",
            "Epoch [16/30], Step [902/1804], Train Loss: 0.0483, Valid Loss: 0.0886\n",
            "Model saved to ==> /content//model.pt\n",
            "Metrics saved to ==> /content//metrics.pt\n",
            "Epoch [17/30], Step [902/1804], Train Loss: 0.0324, Valid Loss: 0.1238\n",
            "Epoch [18/30], Step [902/1804], Train Loss: 0.0284, Valid Loss: 0.1239\n",
            "Epoch [19/30], Step [902/1804], Train Loss: 0.0210, Valid Loss: 0.1255\n",
            "Epoch [20/30], Step [902/1804], Train Loss: 0.0205, Valid Loss: 0.0951\n",
            "Epoch [21/30], Step [902/1804], Train Loss: 0.0135, Valid Loss: 0.0984\n",
            "Epoch [22/30], Step [902/1804], Train Loss: 0.0234, Valid Loss: 0.1467\n",
            "Epoch [23/30], Step [902/1804], Train Loss: 0.0106, Valid Loss: 0.1111\n",
            "Epoch [24/30], Step [902/1804], Train Loss: 0.0103, Valid Loss: 0.1426\n",
            "Epoch [25/30], Step [902/1804], Train Loss: 0.0095, Valid Loss: 0.1223\n",
            "Epoch [26/30], Step [902/1804], Train Loss: 0.0164, Valid Loss: 0.0883\n",
            "Model saved to ==> /content//model.pt\n",
            "Metrics saved to ==> /content//metrics.pt\n",
            "Epoch [27/30], Step [902/1804], Train Loss: 0.0157, Valid Loss: 0.0969\n",
            "Epoch [28/30], Step [902/1804], Train Loss: 0.0102, Valid Loss: 0.1170\n",
            "Epoch [29/30], Step [902/1804], Train Loss: 0.0097, Valid Loss: 0.1200\n",
            "Epoch [30/30], Step [902/1804], Train Loss: 0.0135, Valid Loss: 0.1352\n",
            "Metrics saved to ==> /content//metrics.pt\n",
            "Finished Training!\n"
          ]
        }
      ],
      "source": [
        "model = RNN_net(dimension=256, num_layers=2,dropout=0.5).to(device)\n",
        "optimizer = optim.Adam(model.parameters(), lr=0.001)\n",
        "\n",
        "train(model=model, optimizer=optimizer, num_epochs=30)"
      ]
    },
    {
      "cell_type": "code",
      "execution_count": null,
      "metadata": {
        "colab": {
          "base_uri": "https://localhost:8080/",
          "height": 467
        },
        "id": "9TMHwFGecDxI",
        "outputId": "aeb73161-b3fc-404e-89b9-dc0d67b44e10"
      },
      "outputs": [
        {
          "name": "stdout",
          "output_type": "stream",
          "text": [
            "Metrics loaded from <== /content//metrics.pt\n"
          ]
        },
        {
          "data": {
            "image/png": "[encoded data removed]",
            "text/plain": [
              "<Figure size 640x480 with 1 Axes>"
            ]
          },
          "metadata": {},
          "output_type": "display_data"
        }
      ],
      "source": [
        "train_loss_list, valid_loss_list, global_steps_list = load_metrics(destination_folder + '/metrics.pt')\n",
        "plt.plot(global_steps_list, train_loss_list, label='Train')\n",
        "plt.plot(global_steps_list, valid_loss_list, label='Valid')\n",
        "plt.xlabel('Global Steps')\n",
        "plt.ylabel('Loss')\n",
        "plt.legend()\n",
        "plt.show()"
      ]
    },
    {
      "cell_type": "code",
      "execution_count": null,
      "metadata": {
        "colab": {
          "base_uri": "https://localhost:8080/",
          "height": 746
        },
        "id": "a2qoAw4ULncG",
        "outputId": "c2ec6c7f-52aa-401f-ebaf-e67206802ef9"
      },
      "outputs": [
        {
          "name": "stdout",
          "output_type": "stream",
          "text": [
            "Model loaded from <== /content//model.pt\n",
            "Classification Report:\n",
            "              precision    recall  f1-score   support\n",
            "\n",
            "           1     0.9799    0.9809    0.9804      7338\n",
            "           0     0.9802    0.9791    0.9797      7089\n",
            "\n",
            "    accuracy                         0.9800     14427\n",
            "   macro avg     0.9800    0.9800    0.9800     14427\n",
            "weighted avg     0.9800    0.9800    0.9800     14427\n",
            "\n",
            "accutacy: 0.9800374298190893\n",
            "precision_score: 0.9798529812142662\n",
            "recall_score: 0.9809212319433088\n",
            "f1_score: 0.9803868155815855\n"
          ]
        },
        {
          "data": {
            "image/png": "[encoded data removed]",
            "text/plain": [
              "<Figure size 640x480 with 2 Axes>"
            ]
          },
          "metadata": {},
          "output_type": "display_data"
        }
      ],
      "source": [
        "best_model = RNN_net(dimension=256, num_layers=2,dropout=0.5).to(device)\n",
        "optimizer = optim.Adam(best_model.parameters(), lr=0.001)\n",
        "\n",
        "load_checkpoint(destination_folder + '/model.pt', best_model, optimizer)\n",
        "evaluate_model(best_model, test_iter)"
      ]
    },
    {
      "cell_type": "code",
      "execution_count": null,
      "metadata": {
        "id": "K2VBXSOY08Nw"
      },
      "outputs": [],
      "source": [
        "class LSTM_net(nn.Module):\n",
        "    def __init__(self, dimension=128,num_layers_1=3,num_layers_2=1,dropout_1=0.5,dropout_2=0.5):\n",
        "        super().__init__()\n",
        "\n",
        "        # Embedding layer for text\n",
        "        self.embedding = nn.Embedding(len(text_field.vocab), 300)\n",
        "        self.dimension = dimension\n",
        "        self.num_layers_1=num_layers_1\n",
        "        self.num_layers_2=num_layers_2\n",
        "        self.dropout_1=dropout_1\n",
        "        self.dropout_2=dropout_2\n",
        "\n",
        "\n",
        "        # First LSTM layer\n",
        "        self.lstm1 = nn.LSTM(input_size=300, hidden_size=dimension, num_layers=num_layers_1,\n",
        "                             batch_first=True, bidirectional=True)\n",
        "        self.dropout1 = nn.Dropout(p=dropout_1)\n",
        "\n",
        "        # Second LSTM layer\n",
        "        self.lstm2 = nn.LSTM(input_size= 2*dimension, hidden_size=dimension, num_layers=num_layers_2,\n",
        "                             batch_first=True, bidirectional=True,dropout=dropout_2)\n",
        "\n",
        "\n",
        "        # Fully connected layer for final output\n",
        "        self.fc = nn.Linear(2 * dimension, 1)\n",
        "\n",
        "    def forward(self, text):\n",
        "        # Embedding the text\n",
        "        #print(f'Input: {list(text.shape)}')\n",
        "        text_len = torch.tensor([len(seq) for seq in text], dtype=torch.int64)\n",
        "\n",
        "\n",
        "        text_emb = self.embedding(text)\n",
        "\n",
        "        # First LSTM layer\n",
        "        packed_input_1 = pack_padded_sequence(text_emb, text_len, batch_first=True, enforce_sorted=False)\n",
        "        packed_output_1, _ = self.lstm1(packed_input_1)\n",
        "        output_1, _ = pad_packed_sequence(packed_output_1, batch_first=True)\n",
        "\n",
        "        # Extracting the last forward and first backward outputs from the first LSTM layer\n",
        "        last_forward_output_1 = output_1[range(len(output_1)), text_len - 1, :self.dimension]\n",
        "        first_backward_output_1 = output_1[:, 0, self.dimension:]\n",
        "\n",
        "        # Concatenating the forward and backward outputs\n",
        "        concatenated_output_1 = torch.cat((last_forward_output_1, first_backward_output_1), 1)\n",
        "\n",
        "        # Applying dropout after the first LSTM layer\n",
        "        dropout_output_1 = self.dropout1(concatenated_output_1)\n",
        "\n",
        "        #print(f'First block: {list(dropout_output_1.shape)}')\n",
        "\n",
        "        # Second LSTM layer\n",
        "        output_2, _ = self.lstm2(dropout_output_1)\n",
        "\n",
        "\n",
        "\n",
        "\n",
        "\n",
        "        text = self.fc(output_2)\n",
        "        text = torch.squeeze(text, 1)\n",
        "        text_out = torch.sigmoid(text)\n",
        "        #print(f'First block: {list(text_out.shape)}')\n",
        "\n",
        "        return text_out\n"
      ]
    },
    {
      "cell_type": "code",
      "execution_count": null,
      "metadata": {
        "colab": {
          "base_uri": "https://localhost:8080/"
        },
        "id": "i0oZH76DcZjP",
        "outputId": "bbb144ab-0638-4807-fd93-50a3c90aa6a6"
      },
      "outputs": [
        {
          "name": "stdout",
          "output_type": "stream",
          "text": [
            "Epoch [1/10], Step [902/1804], Train Loss: 0.1284, Valid Loss: 0.0967\n",
            "Model saved to ==> /content//model.pt\n",
            "Metrics saved to ==> /content//metrics.pt\n",
            "Epoch [2/10], Step [902/1804], Train Loss: 0.0308, Valid Loss: 0.0375\n",
            "Model saved to ==> /content//model.pt\n",
            "Metrics saved to ==> /content//metrics.pt\n",
            "Epoch [3/10], Step [902/1804], Train Loss: 0.0182, Valid Loss: 0.0275\n",
            "Model saved to ==> /content//model.pt\n",
            "Metrics saved to ==> /content//metrics.pt\n",
            "Epoch [4/10], Step [902/1804], Train Loss: 0.0114, Valid Loss: 0.0219\n",
            "Model saved to ==> /content//model.pt\n",
            "Metrics saved to ==> /content//metrics.pt\n",
            "Epoch [5/10], Step [902/1804], Train Loss: 0.0044, Valid Loss: 0.0147\n",
            "Model saved to ==> /content//model.pt\n",
            "Metrics saved to ==> /content//metrics.pt\n",
            "Epoch [6/10], Step [902/1804], Train Loss: 0.0031, Valid Loss: 0.0137\n",
            "Model saved to ==> /content//model.pt\n",
            "Metrics saved to ==> /content//metrics.pt\n",
            "Epoch [7/10], Step [902/1804], Train Loss: 0.0032, Valid Loss: 0.0161\n",
            "Epoch [8/10], Step [902/1804], Train Loss: 0.0020, Valid Loss: 0.0137\n",
            "Epoch [9/10], Step [902/1804], Train Loss: 0.0026, Valid Loss: 0.0218\n",
            "Epoch [10/10], Step [902/1804], Train Loss: 0.0012, Valid Loss: 0.0132\n",
            "Model saved to ==> /content//model.pt\n",
            "Metrics saved to ==> /content//metrics.pt\n",
            "Metrics saved to ==> /content//metrics.pt\n",
            "Finished Training!\n"
          ]
        }
      ],
      "source": [
        "model = LSTM_net().to(device)\n",
        "optimizer = optim.Adam(model.parameters(), lr=0.001)\n",
        "\n",
        "train(model=model, optimizer=optimizer, num_epochs=10)"
      ]
    },
    {
      "cell_type": "code",
      "execution_count": null,
      "metadata": {
        "colab": {
          "base_uri": "https://localhost:8080/",
          "height": 467
        },
        "id": "tofQXt77d8Gk",
        "outputId": "808593bc-e0e4-44e1-8960-ce9ea0c2937e"
      },
      "outputs": [
        {
          "name": "stdout",
          "output_type": "stream",
          "text": [
            "Metrics loaded from <== /content//metrics.pt\n"
          ]
        },
        {
          "data": {
            "image/png": "[encoded data removed]",
            "text/plain": [
              "<Figure size 640x480 with 1 Axes>"
            ]
          },
          "metadata": {},
          "output_type": "display_data"
        }
      ],
      "source": [
        "train_loss_list, valid_loss_list, global_steps_list = load_metrics(destination_folder + '/metrics.pt')\n",
        "plt.plot(global_steps_list, train_loss_list, label='Train')\n",
        "plt.plot(global_steps_list, valid_loss_list, label='Valid')\n",
        "plt.xlabel('Global Steps')\n",
        "plt.ylabel('Loss')\n",
        "plt.legend()\n",
        "plt.show()"
      ]
    },
    {
      "cell_type": "code",
      "execution_count": null,
      "metadata": {
        "colab": {
          "base_uri": "https://localhost:8080/",
          "height": 746
        },
        "id": "SCBfObdIeI68",
        "outputId": "ae56991b-3f10-4c89-e3e9-3870d0ea6ef3"
      },
      "outputs": [
        {
          "name": "stdout",
          "output_type": "stream",
          "text": [
            "Model loaded from <== /content//model.pt\n",
            "Classification Report:\n",
            "              precision    recall  f1-score   support\n",
            "\n",
            "           1     0.9969    0.9974    0.9971      7338\n",
            "           0     0.9973    0.9968    0.9970      7089\n",
            "\n",
            "    accuracy                         0.9971     14427\n",
            "   macro avg     0.9971    0.9971    0.9971     14427\n",
            "weighted avg     0.9971    0.9971    0.9971     14427\n",
            "\n",
            "accutacy: 0.9970887918486172\n",
            "precision_score: 0.9968673385998366\n",
            "recall_score: 0.9974107386208776\n",
            "f1_score: 0.9971389645776566\n"
          ]
        },
        {
          "data": {
            "image/png": "[encoded data removed]",
            "text/plain": [
              "<Figure size 640x480 with 2 Axes>"
            ]
          },
          "metadata": {},
          "output_type": "display_data"
        }
      ],
      "source": [
        "best_model = LSTM_net().to(device)\n",
        "optimizer = optim.Adam(best_model.parameters(), lr=0.001)\n",
        "\n",
        "load_checkpoint(destination_folder + '/model.pt', best_model, optimizer)\n",
        "evaluate_model(best_model, test_iter)"
      ]
    },
    {
      "cell_type": "code",
      "execution_count": null,
      "metadata": {
        "id": "MlOtxv-OxQUG"
      },
      "outputs": [],
      "source": [
        "EPOCHS = 10\n",
        "def objective(trial):\n",
        "    dimension = trial.suggest_int(\"dimentions{}\".format(i),128,200)\n",
        "    num_layers_1=trial.suggest_int(\"n_layers_l{}\".format(i), 2, 5)\n",
        "    num_layers_2=trial.suggest_int(\"n_layers_2{}\".format(i), 2, 5)\n",
        "    dropout_1=trial.suggest_float(\"dropout_l{}\".format(i), 0.2, 0.7,step=0.1)\n",
        "    dropout_2=trial.suggest_float(\"dropout_2{}\".format(i), 0.2, 0.7,step=0.1)\n",
        "    # Generate the model.\n",
        "    model = LSTM_net(dimension,num_layers_1,num_layers_2,dropout_1,dropout_2).to(device)\n",
        "\n",
        "    # Generate the optimizers.\n",
        "    lr = trial.suggest_float(\"lr\", 1e-5, 1e-1, log=True)\n",
        "    optimizer = optim.Adam(model.parameters(), lr=lr)\n",
        "    criterion=nn.BCELoss()\n",
        "\n",
        "    # Training of the model.\n",
        "    for epoch in range(EPOCHS):\n",
        "        model.train()\n",
        "        for batch_idx, data in enumerate(train_iter):\n",
        "\n",
        "\n",
        "\n",
        "            labels = data.labels.to(device)\n",
        "            text = data.text[0].to(device)\n",
        "\n",
        "            optimizer.zero_grad()\n",
        "            output = model(text)\n",
        "            loss =  criterion(output, labels)\n",
        "            loss.backward()\n",
        "            optimizer.step()\n",
        "\n",
        "        # Validation of the model.\n",
        "        model.eval()\n",
        "        valid_running_loss = 0.0\n",
        "        with torch.no_grad():\n",
        "            for batch_idx, data in enumerate(test_iter):\n",
        "                # Limiting validation data.\n",
        "\n",
        "                labels = data.labels.to(device)\n",
        "                text = data.text[0].to(device)\n",
        "                output = model(text)\n",
        "                loss = criterion(output, labels)\n",
        "                valid_running_loss += loss.item()\n",
        "\n",
        "\n",
        "        average_valid_loss = valid_running_loss / len(test_iter)\n",
        "\n",
        "        trial.report(average_valid_loss, epoch)\n",
        "\n",
        "\n",
        "\n",
        "    return average_valid_loss\n"
      ]
    },
    {
      "cell_type": "code",
      "execution_count": null,
      "metadata": {
        "colab": {
          "base_uri": "https://localhost:8080/"
        },
        "id": "S3B8uaOGEf4B",
        "outputId": "cae471cf-bcac-4bb3-ffda-bed945924199"
      },
      "outputs": [
        {
          "name": "stderr",
          "output_type": "stream",
          "text": [
            "[I 2024-02-17 22:01:03,324] A new study created in memory with name: no-name-b708b18f-fdd6-4973-8183-9209de20425f\n",
            "[I 2024-02-17 22:27:21,028] Trial 0 finished with value: 0.15258953111648133 and parameters: {'dimentions72133': 147, 'n_layers_l72133': 3, 'n_layers_272133': 2, 'dropout_l72133': 0.6000000000000001, 'dropout_272133': 0.30000000000000004, 'lr': 3.423808250293583e-05}. Best is trial 0 with value: 0.15258953111648133.\n",
            "[I 2024-02-17 22:46:05,005] Trial 1 finished with value: 0.0989378040973363 and parameters: {'dimentions72133': 130, 'n_layers_l72133': 2, 'n_layers_272133': 2, 'dropout_l72133': 0.30000000000000004, 'dropout_272133': 0.2, 'lr': 0.006581760130257569}. Best is trial 1 with value: 0.0989378040973363.\n",
            "[I 2024-02-17 23:07:45,960] Trial 2 finished with value: 0.06716755297869827 and parameters: {'dimentions72133': 166, 'n_layers_l72133': 2, 'n_layers_272133': 2, 'dropout_l72133': 0.30000000000000004, 'dropout_272133': 0.4, 'lr': 0.0010031433840987135}. Best is trial 2 with value: 0.06716755297869827.\n"
          ]
        },
        {
          "name": "stdout",
          "output_type": "stream",
          "text": [
            "Study statistics: \n",
            "  Number of finished trials:  3\n",
            "  Number of complete trials:  3\n",
            "Best trial:\n",
            "  Value:  0.06716755297869827\n",
            "  Params: \n",
            "    dimentions72133: 166\n",
            "    n_layers_l72133: 2\n",
            "    n_layers_272133: 2\n",
            "    dropout_l72133: 0.30000000000000004\n",
            "    dropout_272133: 0.4\n",
            "    lr: 0.0010031433840987135\n"
          ]
        }
      ],
      "source": [
        "study = optuna.create_study(direction=\"minimize\")\n",
        "study.optimize(objective, n_trials=3, timeout=float('inf'))\n",
        "\n",
        "complete_trials = study.get_trials(deepcopy=False, states=[TrialState.COMPLETE])\n",
        "\n",
        "print(\"Study statistics: \")\n",
        "print(\"  Number of finished trials: \", len(study.trials))\n",
        "print(\"  Number of complete trials: \", len(complete_trials))\n",
        "\n",
        "print(\"Best trial:\")\n",
        "trial = study.best_trial\n",
        "\n",
        "print(\"  Value: \", trial.value)\n",
        "\n",
        "print(\"  Params: \")\n",
        "for key, value in trial.params.items():\n",
        "  print(\"    {}: {}\".format(key, value))"
      ]
    },
    {
      "cell_type": "code",
      "execution_count": null,
      "metadata": {
        "colab": {
          "base_uri": "https://localhost:8080/"
        },
        "id": "KPbOr8nWYOUT",
        "outputId": "0daa51d5-e036-4728-892c-9b803adb65ac"
      },
      "outputs": [
        {
          "name": "stdout",
          "output_type": "stream",
          "text": [
            "Epoch [1/10], Step [902/1804], Train Loss: 0.2027, Valid Loss: 0.1618\n",
            "Model saved to ==> /content//model.pt\n",
            "Metrics saved to ==> /content//metrics.pt\n",
            "Epoch [2/10], Step [902/1804], Train Loss: 0.0427, Valid Loss: 0.0573\n",
            "Model saved to ==> /content//model.pt\n",
            "Metrics saved to ==> /content//metrics.pt\n",
            "Epoch [3/10], Step [902/1804], Train Loss: 0.0187, Valid Loss: 0.0540\n",
            "Model saved to ==> /content//model.pt\n",
            "Metrics saved to ==> /content//metrics.pt\n",
            "Epoch [4/10], Step [902/1804], Train Loss: 0.0146, Valid Loss: 0.0570\n",
            "Epoch [5/10], Step [902/1804], Train Loss: 0.0103, Valid Loss: 0.0615\n",
            "Epoch [6/10], Step [902/1804], Train Loss: 0.0063, Valid Loss: 0.0551\n",
            "Epoch [7/10], Step [902/1804], Train Loss: 0.0050, Valid Loss: 0.0776\n",
            "Epoch [8/10], Step [902/1804], Train Loss: 0.0031, Valid Loss: 0.0712\n",
            "Epoch [9/10], Step [902/1804], Train Loss: 0.0029, Valid Loss: 0.0652\n",
            "Epoch [10/10], Step [902/1804], Train Loss: 0.0025, Valid Loss: 0.0884\n",
            "Metrics saved to ==> /content//metrics.pt\n",
            "Finished Training!\n"
          ]
        }
      ],
      "source": [
        "final_Lstm_model = LSTM_net(dimension=166,num_layers_1=2,num_layers_2=2,dropout_1=0.30000000000000004,dropout_2=0.4).to(device)\n",
        "optimizer = optim.Adam(final_Lstm_model.parameters(), lr=0.0010031433840987135)\n",
        "\n",
        "train(model=final_Lstm_model, optimizer=optimizer, num_epochs=10)"
      ]
    },
    {
      "cell_type": "code",
      "execution_count": null,
      "metadata": {
        "colab": {
          "base_uri": "https://localhost:8080/",
          "height": 466
        },
        "id": "G4h1Yn0yVdUH",
        "outputId": "51d5f272-6460-40f0-e31a-e5cbdbfd25b7"
      },
      "outputs": [
        {
          "name": "stdout",
          "output_type": "stream",
          "text": [
            "Metrics loaded from <== /content//metrics.pt\n"
          ]
        },
        {
          "data": {
            "image/png": "[encoded data removed]",
            "text/plain": [
              "<Figure size 640x480 with 1 Axes>"
            ]
          },
          "metadata": {},
          "output_type": "display_data"
        }
      ],
      "source": [
        "train_loss_list, valid_loss_list, global_steps_list = load_metrics(destination_folder + '/metrics.pt')\n",
        "plt.plot(global_steps_list, train_loss_list, label='Train')\n",
        "plt.plot(global_steps_list, valid_loss_list, label='Valid')\n",
        "plt.xlabel('Global Steps')\n",
        "plt.ylabel('Loss')\n",
        "plt.legend()\n",
        "plt.show()"
      ]
    },
    {
      "cell_type": "code",
      "execution_count": null,
      "metadata": {
        "colab": {
          "base_uri": "https://localhost:8080/",
          "height": 732
        },
        "id": "f8vUpwdTVt-F",
        "outputId": "068c4814-ce9d-4fab-c979-e377b9d7da64"
      },
      "outputs": [
        {
          "name": "stdout",
          "output_type": "stream",
          "text": [
            "Model loaded from <== /content//model.pt\n",
            "Classification Report:\n",
            "              precision    recall  f1-score   support\n",
            "\n",
            "           1     0.9893    0.9790    0.9841      7338\n",
            "           0     0.9785    0.9890    0.9837      7089\n",
            "\n",
            "    accuracy                         0.9839     14427\n",
            "   macro avg     0.9839    0.9840    0.9839     14427\n",
            "weighted avg     0.9840    0.9839    0.9839     14427\n",
            "\n",
            "accutacy: 0.9839190406875996\n",
            "precision_score: 0.989259157256954\n",
            "recall_score: 0.9790133551376397\n",
            "f1_score: 0.9841095890410959\n"
          ]
        },
        {
          "data": {
            "image/png": "[encoded data removed]",
            "text/plain": [
              "<Figure size 640x480 with 2 Axes>"
            ]
          },
          "metadata": {},
          "output_type": "display_data"
        }
      ],
      "source": [
        "best_Lstm_model = LSTM_net(dimension=166,num_layers_1=2,num_layers_2=2,dropout_1=0.3,dropout_2=0.4).to(device)\n",
        "optimizer = optim.Adam(final_Lstm_model.parameters(), lr=0.001)\n",
        "\n",
        "load_checkpoint(destination_folder + '/model.pt',best_Lstm_model, optimizer)\n",
        "evaluate_model(best_Lstm_model, test_iter)"
      ]
    },
    {
      "cell_type": "code",
      "execution_count": null,
      "metadata": {
        "colab": {
          "base_uri": "https://localhost:8080/",
          "height": 423,
          "referenced_widgets": [
            "60a22afe003a41aca7c8c31dcdbd70c0",
            "59934e386bd44e41b255381d4534775f",
            "7cb845cbce8247d4b80ffc24c7160d2a",
            "bf8d7652e645436eac9e2cdd3ae7b947",
            "ee13d6e12d914f0799685547b8edeac6",
            "2fccffd7d5df45b6bda87a67b6bd3336",
            "7683716ab09d4d91adfc607d87890a7e",
            "f1d0bebfa3b147229ee9e38e5bb53bd1",
            "1ead04f1f2c64f52b33e6c03c8db23a5",
            "e53e7f73e81f45bf8f6952a4e177b0ad",
            "b25108364c1340368f44c08c500d5030",
            "e3799d1bdfa84a9f94605ad0a6270844",
            "32c84fa325d4499c8f3d32ed3cc44572",
            "879dc9345ded41a0af845fe71cc16537",
            "9243b1b95cc140bf858d1c453a9e9d23",
            "070f234565ea4bd8b6658c8e4fe723d8",
            "c40a3f029062431bb3f2c9141dd82f2d",
            "0a1267c654704534a40fdd3ee9fcd5d8",
            "d97108da02294300a34976f392c6bbfd",
            "f61ffbcd89074918832063df94455f05",
            "36a523af8f8a4e4592dcb3de51058f8b",
            "fc094e46d07d4e2a8b6150fdcee76206",
            "f3826aef523e458e90423ea856e24328",
            "e70218f828f245ba85eb9a59e8381040",
            "f0bf089d414b4891ba5416a4d63e41d8",
            "d947bfc0f2e448869a6c6ad8777516d4",
            "865dddbabebe4f1192e32ff6035c9f82",
            "0304cb3a0a0d4d189aef46ee4b3bbcbd",
            "781ea3818a6e401484fc4522ed30992c",
            "0498f691ab4445389bf20f4956474135",
            "3d6e8b691cb04152bb22600fdb6cfa97",
            "3dee93db0dc64b4ba614112e0ac81fa3",
            "4e635b9ce0434139aae6aaa0e0ba7088",
            "8abaa5a33f814419a76c50a61076fd93",
            "e18b3c04f47b42bcb841385f8c8d5fe8",
            "f3e16f4608cb4dc4a0e79c991ca07ef2",
            "adb8b91b3dbe4e4e92c282077a1f0d1d",
            "95ce2714b3614ab3a7afd4b006759717",
            "c06c8ea295a24aee9e6deba561256db2",
            "6fce6cb26ac54ce78ef5b242de3767cc",
            "d30d1b7028f145eeac51bdd37566ecf9",
            "cbaf0573e835471a8c6773c2a63d8877",
            "f0bd9055fc214e43ac989ac99d6d5754",
            "ef9c962f71994530a45e55259b39bbc4"
          ]
        },
        "id": "KmHHJZxrPFii",
        "outputId": "950c6e16-bc0c-4893-cf2f-20aed0d5b250"
      },
      "outputs": [
        {
          "output_type": "stream",
          "name": "stderr",
          "text": [
            "/usr/local/lib/python3.10/dist-packages/huggingface_hub/utils/_token.py:88: UserWarning: \n",
            "The secret `HF_TOKEN` does not exist in your Colab secrets.\n",
            "To authenticate with the Hugging Face Hub, create a token in your settings tab (https://huggingface.co/settings/tokens), set it as secret in your Google Colab and restart your session.\n",
            "You will be able to reuse this secret in all of your notebooks.\n",
            "Please note that authentication is recommended but still optional to access public models or datasets.\n",
            "  warnings.warn(\n"
          ]
        },
        {
          "output_type": "display_data",
          "data": {
            "text/plain": [
              "tokenizer_config.json:   0%|          | 0.00/49.0 [00:00<?, ?B/s]"
            ],
            "application/vnd.jupyter.widget-view+json": {
              "version_major": 2,
              "version_minor": 0,
              "model_id": "60a22afe003a41aca7c8c31dcdbd70c0"
            }
          },
          "metadata": {}
        },
        {
          "output_type": "display_data",
          "data": {
            "text/plain": [
              "config.json:   0%|          | 0.00/570 [00:00<?, ?B/s]"
            ],
            "application/vnd.jupyter.widget-view+json": {
              "version_major": 2,
              "version_minor": 0,
              "model_id": "e3799d1bdfa84a9f94605ad0a6270844"
            }
          },
          "metadata": {}
        },
        {
          "output_type": "display_data",
          "data": {
            "text/plain": [
              "vocab.txt:   0%|          | 0.00/213k [00:00<?, ?B/s]"
            ],
            "application/vnd.jupyter.widget-view+json": {
              "version_major": 2,
              "version_minor": 0,
              "model_id": "f3826aef523e458e90423ea856e24328"
            }
          },
          "metadata": {}
        },
        {
          "output_type": "display_data",
          "data": {
            "text/plain": [
              "tokenizer.json:   0%|          | 0.00/436k [00:00<?, ?B/s]"
            ],
            "application/vnd.jupyter.widget-view+json": {
              "version_major": 2,
              "version_minor": 0,
              "model_id": "8abaa5a33f814419a76c50a61076fd93"
            }
          },
          "metadata": {}
        },
        {
          "output_type": "execute_result",
          "data": {
            "text/plain": [
              "BertTokenizerFast(name_or_path='bert-base-cased', vocab_size=28996, model_max_length=512, is_fast=True, padding_side='right', truncation_side='right', special_tokens={'unk_token': '[UNK]', 'sep_token': '[SEP]', 'pad_token': '[PAD]', 'cls_token': '[CLS]', 'mask_token': '[MASK]'}, clean_up_tokenization_spaces=True),  added_tokens_decoder={\n",
              "\t0: AddedToken(\"[PAD]\", rstrip=False, lstrip=False, single_word=False, normalized=False, special=True),\n",
              "\t100: AddedToken(\"[UNK]\", rstrip=False, lstrip=False, single_word=False, normalized=False, special=True),\n",
              "\t101: AddedToken(\"[CLS]\", rstrip=False, lstrip=False, single_word=False, normalized=False, special=True),\n",
              "\t102: AddedToken(\"[SEP]\", rstrip=False, lstrip=False, single_word=False, normalized=False, special=True),\n",
              "\t103: AddedToken(\"[MASK]\", rstrip=False, lstrip=False, single_word=False, normalized=False, special=True),\n",
              "}"
            ]
          },
          "metadata": {},
          "execution_count": 28
        }
      ],
      "source": [
        "from transformers import AutoTokenizer\n",
        "\n",
        "tokenizer = AutoTokenizer.from_pretrained(\"bert-base-cased\")\n",
        "tokenizer"
      ]
    },
    {
      "cell_type": "code",
      "execution_count": null,
      "metadata": {
        "colab": {
          "base_uri": "https://localhost:8080/",
          "height": 81,
          "referenced_widgets": [
            "bf12c4dc745348d1853e9991b9b6a649",
            "67a8e4c1163b4481a100ec4fa3b9a89d",
            "adb3bb5616cd40e1a86b2059c44be2f2",
            "6a17672544454155880d248dff7a90e0",
            "6d56127080824a138f7af786e6658cfd",
            "4e04e92174b3441a9904e31e1a67abad",
            "8e9d356ca9204721af11c7b1fe54c824",
            "95a79fd1bcd7449787a595515c220d58",
            "8a5795be00094f91b23376ade9c22ed5",
            "22ccca74116d4063b641a2ad7def6781",
            "753f4140904d475b96185ad92af5d8f7",
            "9dcc3f2727dc4a4597221f385cce6082",
            "a36cfb0503034dae845d6aa8ad0bd76d",
            "336c01594ce94c78a559dd89b6132954",
            "34857890821845e28dc6e6468d7c8dc3",
            "02ea0b4f62a2406bbe807c6c107a711d",
            "d066c426addd4a068a94b29cb7bb990c",
            "27d968535de941649abde24757d91230",
            "8088427a4073485eb142e19172342ba6",
            "537d31f08e4540bd96763f7cc610a60f",
            "6ee69bc35187468ab15b4558327fcde9",
            "baccca1874be41d1aae8f10e8fd05c0a"
          ]
        },
        "id": "gwHdkKzyT8VA",
        "outputId": "1f59b2b3-5c84-4a86-9d69-f2b964b0813f"
      },
      "outputs": [
        {
          "output_type": "display_data",
          "data": {
            "text/plain": [
              "Generating train split: 0 examples [00:00, ? examples/s]"
            ],
            "application/vnd.jupyter.widget-view+json": {
              "version_major": 2,
              "version_minor": 0,
              "model_id": "bf12c4dc745348d1853e9991b9b6a649"
            }
          },
          "metadata": {}
        },
        {
          "output_type": "display_data",
          "data": {
            "text/plain": [
              "Generating test split: 0 examples [00:00, ? examples/s]"
            ],
            "application/vnd.jupyter.widget-view+json": {
              "version_major": 2,
              "version_minor": 0,
              "model_id": "9dcc3f2727dc4a4597221f385cce6082"
            }
          },
          "metadata": {}
        }
      ],
      "source": [
        "data_files = {\"train\": \"train.csv\", \"test\": \"test.csv\"}\n",
        "dataset = load_dataset(\"/content/\", data_files=data_files)"
      ]
    },
    {
      "cell_type": "code",
      "execution_count": null,
      "metadata": {
        "colab": {
          "base_uri": "https://localhost:8080/"
        },
        "id": "MHwOORcLefen",
        "outputId": "b1105788-d71e-46b2-f526-18739b1b3732"
      },
      "outputs": [
        {
          "output_type": "execute_result",
          "data": {
            "text/plain": [
              "DatasetDict({\n",
              "    train: Dataset({\n",
              "        features: ['text', 'labels'],\n",
              "        num_rows: 57707\n",
              "    })\n",
              "    test: Dataset({\n",
              "        features: ['text', 'labels'],\n",
              "        num_rows: 14427\n",
              "    })\n",
              "})"
            ]
          },
          "metadata": {},
          "execution_count": 30
        }
      ],
      "source": [
        "dataset"
      ]
    },
    {
      "cell_type": "code",
      "execution_count": null,
      "metadata": {
        "colab": {
          "base_uri": "https://localhost:8080/",
          "height": 81,
          "referenced_widgets": [
            "9a0c95c96bb74bb1a6026420b8f35ada",
            "f6ab4df319584f279fddcf2d89208a49",
            "be9c075fbd7147a586e7c76d19783048",
            "a13c2aa537224cd288e7e213bc963581",
            "645a3dfb8ae14152bde5037ae7e4ee1d",
            "7a3531f5c6044cee8ed4a058b7f7dae0",
            "31da0840c5d442a3bc41b37b31fbddfe",
            "ac33a9cac034471ea90d3f50e37445c0",
            "d2b9c7f09975409d8e674d504fd20c88",
            "08d40c9ac9b44353bde358030bb43913",
            "486daca9a892460dbf129f2c1b586901",
            "1dcac92a391449c692482a45f8c8a4e6",
            "d91a436653b84f92a33365427f8600ed",
            "181547de0163403e872a4195fdca4989",
            "26490ffd53454c5f840104ef560d00a5",
            "c8f2974c3a03449d9184017145e709c9",
            "891d145a67f848feab632b6aa65874b4",
            "3801d3de12c24a12b352c18bfc5fb3a9",
            "db403416eb804698a821385c0d946217",
            "0b62780cd78642b4903f2941b5f206f6",
            "cdbc1b207c0c45fa95d2c1066c8edb58",
            "32c5ba7b4ef34ae7866704e51be2bf84"
          ]
        },
        "id": "Guc7XkYEX59U",
        "outputId": "4aa8d7ae-b4a1-4b97-d7aa-643f4d644a71"
      },
      "outputs": [
        {
          "output_type": "display_data",
          "data": {
            "text/plain": [
              "Map:   0%|          | 0/57707 [00:00<?, ? examples/s]"
            ],
            "application/vnd.jupyter.widget-view+json": {
              "version_major": 2,
              "version_minor": 0,
              "model_id": "9a0c95c96bb74bb1a6026420b8f35ada"
            }
          },
          "metadata": {}
        },
        {
          "output_type": "display_data",
          "data": {
            "text/plain": [
              "Map:   0%|          | 0/14427 [00:00<?, ? examples/s]"
            ],
            "application/vnd.jupyter.widget-view+json": {
              "version_major": 2,
              "version_minor": 0,
              "model_id": "1dcac92a391449c692482a45f8c8a4e6"
            }
          },
          "metadata": {}
        }
      ],
      "source": [
        "def tokenize_function(examples):\n",
        "    return tokenizer(examples[\"text\"], padding=\"max_length\", truncation=True)\n",
        "\n",
        "\n",
        "tokenized_datasets = dataset.map(tokenize_function, batched=True)"
      ]
    },
    {
      "cell_type": "code",
      "execution_count": null,
      "metadata": {
        "id": "3OhG1AlBA0Xw"
      },
      "outputs": [],
      "source": [
        "label2id={\"Fake\":1, \"Real\":0}\n",
        "id2label={1:\"Fake\", 0:\"Real\"}"
      ]
    },
    {
      "cell_type": "code",
      "execution_count": null,
      "metadata": {
        "colab": {
          "base_uri": "https://localhost:8080/",
          "height": 86,
          "referenced_widgets": [
            "f606d0030a5b47749171af7456d76b83",
            "c4b1cac34e1940c19ebbbb3cb663d339",
            "3d8cbd1a596e4dee91701e0aa8548b6f",
            "272ec9a67db44254bd72985cd845c1cf",
            "f540cd0d763d4e7c8258d1aacf8b971a",
            "9aad791989dc4926b90b9ea75bd71bbe",
            "b113ae52d76946b4b3363aade373781e",
            "25510d357aa54f4097f434d385ee6f5b",
            "814f1bbaf5c043a98f8eb79b2d91c6e2",
            "e1c83949e92647af92220ee2ee2affcf",
            "786d0729ab774a27b2be8cd04c457469"
          ]
        },
        "id": "rozyQdM59PVl",
        "outputId": "7e5ec230-946c-49c0-945d-18eb5714683c"
      },
      "outputs": [
        {
          "output_type": "display_data",
          "data": {
            "text/plain": [
              "model.safetensors:   0%|          | 0.00/436M [00:00<?, ?B/s]"
            ],
            "application/vnd.jupyter.widget-view+json": {
              "version_major": 2,
              "version_minor": 0,
              "model_id": "f606d0030a5b47749171af7456d76b83"
            }
          },
          "metadata": {}
        },
        {
          "output_type": "stream",
          "name": "stderr",
          "text": [
            "Some weights of BertForSequenceClassification were not initialized from the model checkpoint at bert-base-cased and are newly initialized: ['classifier.bias', 'classifier.weight']\n",
            "You should probably TRAIN this model on a down-stream task to be able to use it for predictions and inference.\n"
          ]
        }
      ],
      "source": [
        "from transformers import AutoModelForSequenceClassification\n",
        "\n",
        "model = AutoModelForSequenceClassification.from_pretrained(\"bert-base-cased\",\n",
        "                                                           num_labels=2,\n",
        "                                                           label2id=label2id,\n",
        "                                                           id2label=id2label)"
      ]
    },
    {
      "cell_type": "code",
      "execution_count": null,
      "metadata": {
        "id": "zvRlpC3y9YLf"
      },
      "outputs": [],
      "source": [
        "from transformers import TrainingArguments"
      ]
    },
    {
      "cell_type": "code",
      "execution_count": null,
      "metadata": {
        "colab": {
          "base_uri": "https://localhost:8080/",
          "height": 180,
          "referenced_widgets": [
            "862f11eedbd247b18ff625c2281b0bb4",
            "0c78e543a8224f7183f52e397cd4cba4",
            "b6186c70acc04e828a9dd0b01a0f3ae6",
            "ff654503de13401684da4c6acd03c051",
            "62a9133f8fed42239b133c03b27735c1",
            "24da3ac1afb842d49c17edc120bddd04",
            "793a9da4e7024449a5a7561748049302",
            "e57d33c6b5c447588c8445896bd4dcc9",
            "368febe299b44b9aaee4e42d481bd8b2",
            "d843416da62f4f26935511cb23750c5b",
            "6634c8e1e450491ea2bdb05041bd0987"
          ]
        },
        "id": "h7PlK9qe9crd",
        "outputId": "7051bac8-421d-4c42-a55a-c009f2b2c325"
      },
      "outputs": [
        {
          "output_type": "stream",
          "name": "stderr",
          "text": [
            "<ipython-input-35-56b0b4182bac>:4: FutureWarning: load_metric is deprecated and will be removed in the next major version of datasets. Use 'evaluate.load' instead, from the new library 🤗 Evaluate: https://huggingface.co/docs/evaluate\n",
            "  metric = load_metric(\"accuracy\")\n",
            "/usr/local/lib/python3.10/dist-packages/datasets/load.py:756: FutureWarning: The repository for accuracy contains custom code which must be executed to correctly load the metric. You can inspect the repository content at https://raw.githubusercontent.com/huggingface/datasets/2.18.0/metrics/accuracy/accuracy.py\n",
            "You can avoid this message in future by passing the argument `trust_remote_code=True`.\n",
            "Passing `trust_remote_code=True` will be mandatory to load this metric from the next major release of `datasets`.\n",
            "  warnings.warn(\n"
          ]
        },
        {
          "output_type": "display_data",
          "data": {
            "text/plain": [
              "Downloading builder script:   0%|          | 0.00/1.65k [00:00<?, ?B/s]"
            ],
            "application/vnd.jupyter.widget-view+json": {
              "version_major": 2,
              "version_minor": 0,
              "model_id": "862f11eedbd247b18ff625c2281b0bb4"
            }
          },
          "metadata": {}
        }
      ],
      "source": [
        "import numpy as np\n",
        "from datasets import load_metric\n",
        "\n",
        "metric = load_metric(\"accuracy\")"
      ]
    },
    {
      "cell_type": "code",
      "execution_count": null,
      "metadata": {
        "id": "hxv7G6oq9hH8"
      },
      "outputs": [],
      "source": [
        "def compute_metrics(eval_pred):\n",
        "\n",
        "\n",
        "   logits, labels = eval_pred\n",
        "   predictions = np.argmax(logits, axis=-1)\n",
        "   accuracy = np.mean(predictions==labels)\n",
        "   return {\"accuracy\": accuracy}\n"
      ]
    },
    {
      "cell_type": "code",
      "execution_count": null,
      "metadata": {
        "id": "3rvOy2x69mlX"
      },
      "outputs": [],
      "source": [
        "from transformers import TrainingArguments, Trainer\n",
        "\n",
        "training_args = TrainingArguments(output_dir=\"test_trainer\",\n",
        "                                  evaluation_strategy=\"epoch\"  ,\n",
        "                                  learning_rate=2e-5,\n",
        "                                  per_device_train_batch_size=8,\n",
        "                                  per_device_eval_batch_size=32,\n",
        "                                  num_train_epochs=5,\n",
        "                                  warmup_steps = 50,\n",
        "                                  weight_decay=0.01,\n",
        "                                  save_strategy=\"epoch\",\n",
        "                                  load_best_model_at_end=True,)"
      ]
    },
    {
      "cell_type": "code",
      "execution_count": null,
      "metadata": {
        "id": "zv9VnWYm9qU1"
      },
      "outputs": [],
      "source": [
        "trainer = Trainer(\n",
        "    model=model,\n",
        "    args=training_args,\n",
        "    train_dataset=tokenized_datasets['train'],\n",
        "    eval_dataset=tokenized_datasets['test'],\n",
        "    tokenizer=tokenizer,\n",
        "    compute_metrics=compute_metrics,\n",
        ")"
      ]
    },
    {
      "cell_type": "code",
      "source": [
        "trainer.train()"
      ],
      "metadata": {
        "colab": {
          "base_uri": "https://localhost:8080/",
          "height": 76
        },
        "outputId": "9c16cb2d-ee56-4f1d-c678-3a36a323a7de",
        "execution": {
          "iopub.status.busy": "2024-03-02T17:24:32.799359Z",
          "iopub.execute_input": "2024-03-02T17:24:32.799774Z",
          "iopub.status.idle": "2024-03-02T20:12:31.680889Z",
          "shell.execute_reply.started": "2024-03-02T17:24:32.799736Z",
          "shell.execute_reply": "2024-03-02T20:12:31.680003Z"
        },
        "trusted": true,
        "id": "D3nvLS8tYDJd"
      },
      "execution_count": null,
      "outputs": [
        {
          "name": "stderr",
          "text": "/opt/conda/lib/python3.10/site-packages/torch/nn/parallel/_functions.py:68: UserWarning: Was asked to gather along dimension 0, but all input tensors were scalars; will instead unsqueeze and return a vector.\n  warnings.warn('Was asked to gather along dimension 0, but all '\n",
          "output_type": "stream"
        },
        {
          "output_type": "display_data",
          "data": {
            "text/plain": "<IPython.core.display.HTML object>",
            "text/html": "\n    <div>\n      \n      <progress value='10821' max='10821' style='width:300px; height:20px; vertical-align: middle;'></progress>\n      [10821/10821 2:47:54, Epoch 3/3]\n    </div>\n    <table border=\"1\" class=\"dataframe\">\n  <thead>\n <tr style=\"text-align: left;\">\n      <th>Epoch</th>\n      <th>Training Loss</th>\n      <th>Validation Loss</th>\n      <th>Accuracy</th>\n    </tr>\n  </thead>\n  <tbody>\n    <tr>\n      <td>1</td>\n      <td>0.023100</td>\n      <td>0.018704</td>\n      <td>0.996049</td>\n    </tr>\n    <tr>\n      <td>2</td>\n      <td>0.007100</td>\n      <td>0.017284</td>\n      <td>0.996465</td>\n    </tr>\n    <tr>\n      <td>3</td>\n      <td>0.001300</td>\n      <td>0.020090</td>\n      <td>0.997366</td>\n    </tr>\n  </tbody>\n</table><p>"
          },
          "metadata": {}
        },
        {
          "name": "stderr",
          "text": "/opt/conda/lib/python3.10/site-packages/torch/nn/parallel/_functions.py:68: UserWarning: Was asked to gather along dimension 0, but all input tensors were scalars; will instead unsqueeze and return a vector.\n  warnings.warn('Was asked to gather along dimension 0, but all '\n/opt/conda/lib/python3.10/site-packages/torch/nn/parallel/_functions.py:68: UserWarning: Was asked to gather along dimension 0, but all input tensors were scalars; will instead unsqueeze and return a vector.\n  warnings.warn('Was asked to gather along dimension 0, but all '\n",
          "output_type": "stream"
        },
        {
          "execution_count": 14,
          "output_type": "execute_result",
          "data": {
            "text/plain": "TrainOutput(global_step=10821, training_loss=0.018939773588697875, metrics={'train_runtime': 10078.5188, 'train_samples_per_second': 17.177, 'train_steps_per_second': 1.074, 'total_flos': 4.555004901497856e+16, 'train_loss': 0.018939773588697875, 'epoch': 3.0})"
          },
          "metadata": {}
        }
      ]
    },
    {
      "cell_type": "code",
      "source": [
        "metrics = trainer.evaluate()\n",
        "# some nice to haves:\n",
        "trainer.log_metrics(\"eval\", metrics)\n",
        "trainer.save_metrics(\"eval\", metrics)"
      ],
      "metadata": {
        "execution": {
          "iopub.status.busy": "2024-03-02T20:12:31.681938Z",
          "iopub.execute_input": "2024-03-02T20:12:31.682206Z",
          "iopub.status.idle": "2024-03-02T20:17:02.705718Z",
          "shell.execute_reply.started": "2024-03-02T20:12:31.682177Z",
          "shell.execute_reply": "2024-03-02T20:17:02.704800Z"
        },
        "trusted": true,
        "id": "jFSrkGolXwgH",
        "outputId": "2f1f9a4d-b367-411c-a673-86c94923cda0"
      },
      "execution_count": null,
      "outputs": [
        {
          "name": "stderr",
          "text": "/opt/conda/lib/python3.10/site-packages/torch/nn/parallel/_functions.py:68: UserWarning: Was asked to gather along dimension 0, but all input tensors were scalars; will instead unsqueeze and return a vector.\n  warnings.warn('Was asked to gather along dimension 0, but all '\n",
          "output_type": "stream"
        },
        {
          "output_type": "display_data",
          "data": {
            "text/plain": "<IPython.core.display.HTML object>",
            "text/html": "\n    <div>\n      \n      <progress value='226' max='226' style='width:300px; height:20px; vertical-align: middle;'></progress>\n      [226/226 04:29]\n    </div>\n    "
          },
          "metadata": {}
        },
        {
          "name": "stdout",
          "text": "***** eval metrics *****\n  epoch                   =        3.0\n  eval_accuracy           =     0.9965\n  eval_loss               =     0.0173\n  eval_runtime            = 0:04:31.01\n  eval_samples_per_second =     53.234\n  eval_steps_per_second   =      0.834\n",
          "output_type": "stream"
        }
      ]
    }
  ],
  "metadata": {
    "colab": {
      "provenance": [],
      "gpuType": "T4"
    },
    "kernelspec": {
      "display_name": "Python 3",
      "name": "python3"
    },
    "language_info": {
      "name": "python"
    },
    "widgets": {
      "application/vnd.jupyter.widget-state+json": {
        "60a22afe003a41aca7c8c31dcdbd70c0": {
          "model_module": "@jupyter-widgets/controls",
          "model_name": "HBoxModel",
          "model_module_version": "1.5.0",
          "state": {
            "_dom_classes": [],
            "_model_module": "@jupyter-widgets/controls",
            "_model_module_version": "1.5.0",
            "_model_name": "HBoxModel",
            "_view_count": null,
            "_view_module": "@jupyter-widgets/controls",
            "_view_module_version": "1.5.0",
            "_view_name": "HBoxView",
            "box_style": "",
            "children": [
              "IPY_MODEL_59934e386bd44e41b255381d4534775f",
              "IPY_MODEL_7cb845cbce8247d4b80ffc24c7160d2a",
              "IPY_MODEL_bf8d7652e645436eac9e2cdd3ae7b947"
            ],
            "layout": "IPY_MODEL_ee13d6e12d914f0799685547b8edeac6"
          }
        },
        "59934e386bd44e41b255381d4534775f": {
          "model_module": "@jupyter-widgets/controls",
          "model_name": "HTMLModel",
          "model_module_version": "1.5.0",
          "state": {
            "_dom_classes": [],
            "_model_module": "@jupyter-widgets/controls",
            "_model_module_version": "1.5.0",
            "_model_name": "HTMLModel",
            "_view_count": null,
            "_view_module": "@jupyter-widgets/controls",
            "_view_module_version": "1.5.0",
            "_view_name": "HTMLView",
            "description": "",
            "description_tooltip": null,
            "layout": "IPY_MODEL_2fccffd7d5df45b6bda87a67b6bd3336",
            "placeholder": "​",
            "style": "IPY_MODEL_7683716ab09d4d91adfc607d87890a7e",
            "value": "tokenizer_config.json: 100%"
          }
        },
        "7cb845cbce8247d4b80ffc24c7160d2a": {
          "model_module": "@jupyter-widgets/controls",
          "model_name": "FloatProgressModel",
          "model_module_version": "1.5.0",
          "state": {
            "_dom_classes": [],
            "_model_module": "@jupyter-widgets/controls",
            "_model_module_version": "1.5.0",
            "_model_name": "FloatProgressModel",
            "_view_count": null,
            "_view_module": "@jupyter-widgets/controls",
            "_view_module_version": "1.5.0",
            "_view_name": "ProgressView",
            "bar_style": "success",
            "description": "",
            "description_tooltip": null,
            "layout": "IPY_MODEL_f1d0bebfa3b147229ee9e38e5bb53bd1",
            "max": 49,
            "min": 0,
            "orientation": "horizontal",
            "style": "IPY_MODEL_1ead04f1f2c64f52b33e6c03c8db23a5",
            "value": 49
          }
        },
        "bf8d7652e645436eac9e2cdd3ae7b947": {
          "model_module": "@jupyter-widgets/controls",
          "model_name": "HTMLModel",
          "model_module_version": "1.5.0",
          "state": {
            "_dom_classes": [],
            "_model_module": "@jupyter-widgets/controls",
            "_model_module_version": "1.5.0",
            "_model_name": "HTMLModel",
            "_view_count": null,
            "_view_module": "@jupyter-widgets/controls",
            "_view_module_version": "1.5.0",
            "_view_name": "HTMLView",
            "description": "",
            "description_tooltip": null,
            "layout": "IPY_MODEL_e53e7f73e81f45bf8f6952a4e177b0ad",
            "placeholder": "​",
            "style": "IPY_MODEL_b25108364c1340368f44c08c500d5030",
            "value": " 49.0/49.0 [00:00&lt;00:00, 2.42kB/s]"
          }
        },
        "ee13d6e12d914f0799685547b8edeac6": {
          "model_module": "@jupyter-widgets/base",
          "model_name": "LayoutModel",
          "model_module_version": "1.2.0",
          "state": {
            "_model_module": "@jupyter-widgets/base",
            "_model_module_version": "1.2.0",
            "_model_name": "LayoutModel",
            "_view_count": null,
            "_view_module": "@jupyter-widgets/base",
            "_view_module_version": "1.2.0",
            "_view_name": "LayoutView",
            "align_content": null,
            "align_items": null,
            "align_self": null,
            "border": null,
            "bottom": null,
            "display": null,
            "flex": null,
            "flex_flow": null,
            "grid_area": null,
            "grid_auto_columns": null,
            "grid_auto_flow": null,
            "grid_auto_rows": null,
            "grid_column": null,
            "grid_gap": null,
            "grid_row": null,
            "grid_template_areas": null,
            "grid_template_columns": null,
            "grid_template_rows": null,
            "height": null,
            "justify_content": null,
            "justify_items": null,
            "left": null,
            "margin": null,
            "max_height": null,
            "max_width": null,
            "min_height": null,
            "min_width": null,
            "object_fit": null,
            "object_position": null,
            "order": null,
            "overflow": null,
            "overflow_x": null,
            "overflow_y": null,
            "padding": null,
            "right": null,
            "top": null,
            "visibility": null,
            "width": null
          }
        },
        "2fccffd7d5df45b6bda87a67b6bd3336": {
          "model_module": "@jupyter-widgets/base",
          "model_name": "LayoutModel",
          "model_module_version": "1.2.0",
          "state": {
            "_model_module": "@jupyter-widgets/base",
            "_model_module_version": "1.2.0",
            "_model_name": "LayoutModel",
            "_view_count": null,
            "_view_module": "@jupyter-widgets/base",
            "_view_module_version": "1.2.0",
            "_view_name": "LayoutView",
            "align_content": null,
            "align_items": null,
            "align_self": null,
            "border": null,
            "bottom": null,
            "display": null,
            "flex": null,
            "flex_flow": null,
            "grid_area": null,
            "grid_auto_columns": null,
            "grid_auto_flow": null,
            "grid_auto_rows": null,
            "grid_column": null,
            "grid_gap": null,
            "grid_row": null,
            "grid_template_areas": null,
            "grid_template_columns": null,
            "grid_template_rows": null,
            "height": null,
            "justify_content": null,
            "justify_items": null,
            "left": null,
            "margin": null,
            "max_height": null,
            "max_width": null,
            "min_height": null,
            "min_width": null,
            "object_fit": null,
            "object_position": null,
            "order": null,
            "overflow": null,
            "overflow_x": null,
            "overflow_y": null,
            "padding": null,
            "right": null,
            "top": null,
            "visibility": null,
            "width": null
          }
        },
        "7683716ab09d4d91adfc607d87890a7e": {
          "model_module": "@jupyter-widgets/controls",
          "model_name": "DescriptionStyleModel",
          "model_module_version": "1.5.0",
          "state": {
            "_model_module": "@jupyter-widgets/controls",
            "_model_module_version": "1.5.0",
            "_model_name": "DescriptionStyleModel",
            "_view_count": null,
            "_view_module": "@jupyter-widgets/base",
            "_view_module_version": "1.2.0",
            "_view_name": "StyleView",
            "description_width": ""
          }
        },
        "f1d0bebfa3b147229ee9e38e5bb53bd1": {
          "model_module": "@jupyter-widgets/base",
          "model_name": "LayoutModel",
          "model_module_version": "1.2.0",
          "state": {
            "_model_module": "@jupyter-widgets/base",
            "_model_module_version": "1.2.0",
            "_model_name": "LayoutModel",
            "_view_count": null,
            "_view_module": "@jupyter-widgets/base",
            "_view_module_version": "1.2.0",
            "_view_name": "LayoutView",
            "align_content": null,
            "align_items": null,
            "align_self": null,
            "border": null,
            "bottom": null,
            "display": null,
            "flex": null,
            "flex_flow": null,
            "grid_area": null,
            "grid_auto_columns": null,
            "grid_auto_flow": null,
            "grid_auto_rows": null,
            "grid_column": null,
            "grid_gap": null,
            "grid_row": null,
            "grid_template_areas": null,
            "grid_template_columns": null,
            "grid_template_rows": null,
            "height": null,
            "justify_content": null,
            "justify_items": null,
            "left": null,
            "margin": null,
            "max_height": null,
            "max_width": null,
            "min_height": null,
            "min_width": null,
            "object_fit": null,
            "object_position": null,
            "order": null,
            "overflow": null,
            "overflow_x": null,
            "overflow_y": null,
            "padding": null,
            "right": null,
            "top": null,
            "visibility": null,
            "width": null
          }
        },
        "1ead04f1f2c64f52b33e6c03c8db23a5": {
          "model_module": "@jupyter-widgets/controls",
          "model_name": "ProgressStyleModel",
          "model_module_version": "1.5.0",
          "state": {
            "_model_module": "@jupyter-widgets/controls",
            "_model_module_version": "1.5.0",
            "_model_name": "ProgressStyleModel",
            "_view_count": null,
            "_view_module": "@jupyter-widgets/base",
            "_view_module_version": "1.2.0",
            "_view_name": "StyleView",
            "bar_color": null,
            "description_width": ""
          }
        },
        "e53e7f73e81f45bf8f6952a4e177b0ad": {
          "model_module": "@jupyter-widgets/base",
          "model_name": "LayoutModel",
          "model_module_version": "1.2.0",
          "state": {
            "_model_module": "@jupyter-widgets/base",
            "_model_module_version": "1.2.0",
            "_model_name": "LayoutModel",
            "_view_count": null,
            "_view_module": "@jupyter-widgets/base",
            "_view_module_version": "1.2.0",
            "_view_name": "LayoutView",
            "align_content": null,
            "align_items": null,
            "align_self": null,
            "border": null,
            "bottom": null,
            "display": null,
            "flex": null,
            "flex_flow": null,
            "grid_area": null,
            "grid_auto_columns": null,
            "grid_auto_flow": null,
            "grid_auto_rows": null,
            "grid_column": null,
            "grid_gap": null,
            "grid_row": null,
            "grid_template_areas": null,
            "grid_template_columns": null,
            "grid_template_rows": null,
            "height": null,
            "justify_content": null,
            "justify_items": null,
            "left": null,
            "margin": null,
            "max_height": null,
            "max_width": null,
            "min_height": null,
            "min_width": null,
            "object_fit": null,
            "object_position": null,
            "order": null,
            "overflow": null,
            "overflow_x": null,
            "overflow_y": null,
            "padding": null,
            "right": null,
            "top": null,
            "visibility": null,
            "width": null
          }
        },
        "b25108364c1340368f44c08c500d5030": {
          "model_module": "@jupyter-widgets/controls",
          "model_name": "DescriptionStyleModel",
          "model_module_version": "1.5.0",
          "state": {
            "_model_module": "@jupyter-widgets/controls",
            "_model_module_version": "1.5.0",
            "_model_name": "DescriptionStyleModel",
            "_view_count": null,
            "_view_module": "@jupyter-widgets/base",
            "_view_module_version": "1.2.0",
            "_view_name": "StyleView",
            "description_width": ""
          }
        },
        "e3799d1bdfa84a9f94605ad0a6270844": {
          "model_module": "@jupyter-widgets/controls",
          "model_name": "HBoxModel",
          "model_module_version": "1.5.0",
          "state": {
            "_dom_classes": [],
            "_model_module": "@jupyter-widgets/controls",
            "_model_module_version": "1.5.0",
            "_model_name": "HBoxModel",
            "_view_count": null,
            "_view_module": "@jupyter-widgets/controls",
            "_view_module_version": "1.5.0",
            "_view_name": "HBoxView",
            "box_style": "",
            "children": [
              "IPY_MODEL_32c84fa325d4499c8f3d32ed3cc44572",
              "IPY_MODEL_879dc9345ded41a0af845fe71cc16537",
              "IPY_MODEL_9243b1b95cc140bf858d1c453a9e9d23"
            ],
            "layout": "IPY_MODEL_070f234565ea4bd8b6658c8e4fe723d8"
          }
        },
        "32c84fa325d4499c8f3d32ed3cc44572": {
          "model_module": "@jupyter-widgets/controls",
          "model_name": "HTMLModel",
          "model_module_version": "1.5.0",
          "state": {
            "_dom_classes": [],
            "_model_module": "@jupyter-widgets/controls",
            "_model_module_version": "1.5.0",
            "_model_name": "HTMLModel",
            "_view_count": null,
            "_view_module": "@jupyter-widgets/controls",
            "_view_module_version": "1.5.0",
            "_view_name": "HTMLView",
            "description": "",
            "description_tooltip": null,
            "layout": "IPY_MODEL_c40a3f029062431bb3f2c9141dd82f2d",
            "placeholder": "​",
            "style": "IPY_MODEL_0a1267c654704534a40fdd3ee9fcd5d8",
            "value": "config.json: 100%"
          }
        },
        "879dc9345ded41a0af845fe71cc16537": {
          "model_module": "@jupyter-widgets/controls",
          "model_name": "FloatProgressModel",
          "model_module_version": "1.5.0",
          "state": {
            "_dom_classes": [],
            "_model_module": "@jupyter-widgets/controls",
            "_model_module_version": "1.5.0",
            "_model_name": "FloatProgressModel",
            "_view_count": null,
            "_view_module": "@jupyter-widgets/controls",
            "_view_module_version": "1.5.0",
            "_view_name": "ProgressView",
            "bar_style": "success",
            "description": "",
            "description_tooltip": null,
            "layout": "IPY_MODEL_d97108da02294300a34976f392c6bbfd",
            "max": 570,
            "min": 0,
            "orientation": "horizontal",
            "style": "IPY_MODEL_f61ffbcd89074918832063df94455f05",
            "value": 570
          }
        },
        "9243b1b95cc140bf858d1c453a9e9d23": {
          "model_module": "@jupyter-widgets/controls",
          "model_name": "HTMLModel",
          "model_module_version": "1.5.0",
          "state": {
            "_dom_classes": [],
            "_model_module": "@jupyter-widgets/controls",
            "_model_module_version": "1.5.0",
            "_model_name": "HTMLModel",
            "_view_count": null,
            "_view_module": "@jupyter-widgets/controls",
            "_view_module_version": "1.5.0",
            "_view_name": "HTMLView",
            "description": "",
            "description_tooltip": null,
            "layout": "IPY_MODEL_36a523af8f8a4e4592dcb3de51058f8b",
            "placeholder": "​",
            "style": "IPY_MODEL_fc094e46d07d4e2a8b6150fdcee76206",
            "value": " 570/570 [00:00&lt;00:00, 36.9kB/s]"
          }
        },
        "070f234565ea4bd8b6658c8e4fe723d8": {
          "model_module": "@jupyter-widgets/base",
          "model_name": "LayoutModel",
          "model_module_version": "1.2.0",
          "state": {
            "_model_module": "@jupyter-widgets/base",
            "_model_module_version": "1.2.0",
            "_model_name": "LayoutModel",
            "_view_count": null,
            "_view_module": "@jupyter-widgets/base",
            "_view_module_version": "1.2.0",
            "_view_name": "LayoutView",
            "align_content": null,
            "align_items": null,
            "align_self": null,
            "border": null,
            "bottom": null,
            "display": null,
            "flex": null,
            "flex_flow": null,
            "grid_area": null,
            "grid_auto_columns": null,
            "grid_auto_flow": null,
            "grid_auto_rows": null,
            "grid_column": null,
            "grid_gap": null,
            "grid_row": null,
            "grid_template_areas": null,
            "grid_template_columns": null,
            "grid_template_rows": null,
            "height": null,
            "justify_content": null,
            "justify_items": null,
            "left": null,
            "margin": null,
            "max_height": null,
            "max_width": null,
            "min_height": null,
            "min_width": null,
            "object_fit": null,
            "object_position": null,
            "order": null,
            "overflow": null,
            "overflow_x": null,
            "overflow_y": null,
            "padding": null,
            "right": null,
            "top": null,
            "visibility": null,
            "width": null
          }
        },
        "c40a3f029062431bb3f2c9141dd82f2d": {
          "model_module": "@jupyter-widgets/base",
          "model_name": "LayoutModel",
          "model_module_version": "1.2.0",
          "state": {
            "_model_module": "@jupyter-widgets/base",
            "_model_module_version": "1.2.0",
            "_model_name": "LayoutModel",
            "_view_count": null,
            "_view_module": "@jupyter-widgets/base",
            "_view_module_version": "1.2.0",
            "_view_name": "LayoutView",
            "align_content": null,
            "align_items": null,
            "align_self": null,
            "border": null,
            "bottom": null,
            "display": null,
            "flex": null,
            "flex_flow": null,
            "grid_area": null,
            "grid_auto_columns": null,
            "grid_auto_flow": null,
            "grid_auto_rows": null,
            "grid_column": null,
            "grid_gap": null,
            "grid_row": null,
            "grid_template_areas": null,
            "grid_template_columns": null,
            "grid_template_rows": null,
            "height": null,
            "justify_content": null,
            "justify_items": null,
            "left": null,
            "margin": null,
            "max_height": null,
            "max_width": null,
            "min_height": null,
            "min_width": null,
            "object_fit": null,
            "object_position": null,
            "order": null,
            "overflow": null,
            "overflow_x": null,
            "overflow_y": null,
            "padding": null,
            "right": null,
            "top": null,
            "visibility": null,
            "width": null
          }
        },
        "0a1267c654704534a40fdd3ee9fcd5d8": {
          "model_module": "@jupyter-widgets/controls",
          "model_name": "DescriptionStyleModel",
          "model_module_version": "1.5.0",
          "state": {
            "_model_module": "@jupyter-widgets/controls",
            "_model_module_version": "1.5.0",
            "_model_name": "DescriptionStyleModel",
            "_view_count": null,
            "_view_module": "@jupyter-widgets/base",
            "_view_module_version": "1.2.0",
            "_view_name": "StyleView",
            "description_width": ""
          }
        },
        "d97108da02294300a34976f392c6bbfd": {
          "model_module": "@jupyter-widgets/base",
          "model_name": "LayoutModel",
          "model_module_version": "1.2.0",
          "state": {
            "_model_module": "@jupyter-widgets/base",
            "_model_module_version": "1.2.0",
            "_model_name": "LayoutModel",
            "_view_count": null,
            "_view_module": "@jupyter-widgets/base",
            "_view_module_version": "1.2.0",
            "_view_name": "LayoutView",
            "align_content": null,
            "align_items": null,
            "align_self": null,
            "border": null,
            "bottom": null,
            "display": null,
            "flex": null,
            "flex_flow": null,
            "grid_area": null,
            "grid_auto_columns": null,
            "grid_auto_flow": null,
            "grid_auto_rows": null,
            "grid_column": null,
            "grid_gap": null,
            "grid_row": null,
            "grid_template_areas": null,
            "grid_template_columns": null,
            "grid_template_rows": null,
            "height": null,
            "justify_content": null,
            "justify_items": null,
            "left": null,
            "margin": null,
            "max_height": null,
            "max_width": null,
            "min_height": null,
            "min_width": null,
            "object_fit": null,
            "object_position": null,
            "order": null,
            "overflow": null,
            "overflow_x": null,
            "overflow_y": null,
            "padding": null,
            "right": null,
            "top": null,
            "visibility": null,
            "width": null
          }
        },
        "f61ffbcd89074918832063df94455f05": {
          "model_module": "@jupyter-widgets/controls",
          "model_name": "ProgressStyleModel",
          "model_module_version": "1.5.0",
          "state": {
            "_model_module": "@jupyter-widgets/controls",
            "_model_module_version": "1.5.0",
            "_model_name": "ProgressStyleModel",
            "_view_count": null,
            "_view_module": "@jupyter-widgets/base",
            "_view_module_version": "1.2.0",
            "_view_name": "StyleView",
            "bar_color": null,
            "description_width": ""
          }
        },
        "36a523af8f8a4e4592dcb3de51058f8b": {
          "model_module": "@jupyter-widgets/base",
          "model_name": "LayoutModel",
          "model_module_version": "1.2.0",
          "state": {
            "_model_module": "@jupyter-widgets/base",
            "_model_module_version": "1.2.0",
            "_model_name": "LayoutModel",
            "_view_count": null,
            "_view_module": "@jupyter-widgets/base",
            "_view_module_version": "1.2.0",
            "_view_name": "LayoutView",
            "align_content": null,
            "align_items": null,
            "align_self": null,
            "border": null,
            "bottom": null,
            "display": null,
            "flex": null,
            "flex_flow": null,
            "grid_area": null,
            "grid_auto_columns": null,
            "grid_auto_flow": null,
            "grid_auto_rows": null,
            "grid_column": null,
            "grid_gap": null,
            "grid_row": null,
            "grid_template_areas": null,
            "grid_template_columns": null,
            "grid_template_rows": null,
            "height": null,
            "justify_content": null,
            "justify_items": null,
            "left": null,
            "margin": null,
            "max_height": null,
            "max_width": null,
            "min_height": null,
            "min_width": null,
            "object_fit": null,
            "object_position": null,
            "order": null,
            "overflow": null,
            "overflow_x": null,
            "overflow_y": null,
            "padding": null,
            "right": null,
            "top": null,
            "visibility": null,
            "width": null
          }
        },
        "fc094e46d07d4e2a8b6150fdcee76206": {
          "model_module": "@jupyter-widgets/controls",
          "model_name": "DescriptionStyleModel",
          "model_module_version": "1.5.0",
          "state": {
            "_model_module": "@jupyter-widgets/controls",
            "_model_module_version": "1.5.0",
            "_model_name": "DescriptionStyleModel",
            "_view_count": null,
            "_view_module": "@jupyter-widgets/base",
            "_view_module_version": "1.2.0",
            "_view_name": "StyleView",
            "description_width": ""
          }
        },
        "f3826aef523e458e90423ea856e24328": {
          "model_module": "@jupyter-widgets/controls",
          "model_name": "HBoxModel",
          "model_module_version": "1.5.0",
          "state": {
            "_dom_classes": [],
            "_model_module": "@jupyter-widgets/controls",
            "_model_module_version": "1.5.0",
            "_model_name": "HBoxModel",
            "_view_count": null,
            "_view_module": "@jupyter-widgets/controls",
            "_view_module_version": "1.5.0",
            "_view_name": "HBoxView",
            "box_style": "",
            "children": [
              "IPY_MODEL_e70218f828f245ba85eb9a59e8381040",
              "IPY_MODEL_f0bf089d414b4891ba5416a4d63e41d8",
              "IPY_MODEL_d947bfc0f2e448869a6c6ad8777516d4"
            ],
            "layout": "IPY_MODEL_865dddbabebe4f1192e32ff6035c9f82"
          }
        },
        "e70218f828f245ba85eb9a59e8381040": {
          "model_module": "@jupyter-widgets/controls",
          "model_name": "HTMLModel",
          "model_module_version": "1.5.0",
          "state": {
            "_dom_classes": [],
            "_model_module": "@jupyter-widgets/controls",
            "_model_module_version": "1.5.0",
            "_model_name": "HTMLModel",
            "_view_count": null,
            "_view_module": "@jupyter-widgets/controls",
            "_view_module_version": "1.5.0",
            "_view_name": "HTMLView",
            "description": "",
            "description_tooltip": null,
            "layout": "IPY_MODEL_0304cb3a0a0d4d189aef46ee4b3bbcbd",
            "placeholder": "​",
            "style": "IPY_MODEL_781ea3818a6e401484fc4522ed30992c",
            "value": "vocab.txt: 100%"
          }
        },
        "f0bf089d414b4891ba5416a4d63e41d8": {
          "model_module": "@jupyter-widgets/controls",
          "model_name": "FloatProgressModel",
          "model_module_version": "1.5.0",
          "state": {
            "_dom_classes": [],
            "_model_module": "@jupyter-widgets/controls",
            "_model_module_version": "1.5.0",
            "_model_name": "FloatProgressModel",
            "_view_count": null,
            "_view_module": "@jupyter-widgets/controls",
            "_view_module_version": "1.5.0",
            "_view_name": "ProgressView",
            "bar_style": "success",
            "description": "",
            "description_tooltip": null,
            "layout": "IPY_MODEL_0498f691ab4445389bf20f4956474135",
            "max": 213450,
            "min": 0,
            "orientation": "horizontal",
            "style": "IPY_MODEL_3d6e8b691cb04152bb22600fdb6cfa97",
            "value": 213450
          }
        },
        "d947bfc0f2e448869a6c6ad8777516d4": {
          "model_module": "@jupyter-widgets/controls",
          "model_name": "HTMLModel",
          "model_module_version": "1.5.0",
          "state": {
            "_dom_classes": [],
            "_model_module": "@jupyter-widgets/controls",
            "_model_module_version": "1.5.0",
            "_model_name": "HTMLModel",
            "_view_count": null,
            "_view_module": "@jupyter-widgets/controls",
            "_view_module_version": "1.5.0",
            "_view_name": "HTMLView",
            "description": "",
            "description_tooltip": null,
            "layout": "IPY_MODEL_3dee93db0dc64b4ba614112e0ac81fa3",
            "placeholder": "​",
            "style": "IPY_MODEL_4e635b9ce0434139aae6aaa0e0ba7088",
            "value": " 213k/213k [00:00&lt;00:00, 5.47MB/s]"
          }
        },
        "865dddbabebe4f1192e32ff6035c9f82": {
          "model_module": "@jupyter-widgets/base",
          "model_name": "LayoutModel",
          "model_module_version": "1.2.0",
          "state": {
            "_model_module": "@jupyter-widgets/base",
            "_model_module_version": "1.2.0",
            "_model_name": "LayoutModel",
            "_view_count": null,
            "_view_module": "@jupyter-widgets/base",
            "_view_module_version": "1.2.0",
            "_view_name": "LayoutView",
            "align_content": null,
            "align_items": null,
            "align_self": null,
            "border": null,
            "bottom": null,
            "display": null,
            "flex": null,
            "flex_flow": null,
            "grid_area": null,
            "grid_auto_columns": null,
            "grid_auto_flow": null,
            "grid_auto_rows": null,
            "grid_column": null,
            "grid_gap": null,
            "grid_row": null,
            "grid_template_areas": null,
            "grid_template_columns": null,
            "grid_template_rows": null,
            "height": null,
            "justify_content": null,
            "justify_items": null,
            "left": null,
            "margin": null,
            "max_height": null,
            "max_width": null,
            "min_height": null,
            "min_width": null,
            "object_fit": null,
            "object_position": null,
            "order": null,
            "overflow": null,
            "overflow_x": null,
            "overflow_y": null,
            "padding": null,
            "right": null,
            "top": null,
            "visibility": null,
            "width": null
          }
        },
        "0304cb3a0a0d4d189aef46ee4b3bbcbd": {
          "model_module": "@jupyter-widgets/base",
          "model_name": "LayoutModel",
          "model_module_version": "1.2.0",
          "state": {
            "_model_module": "@jupyter-widgets/base",
            "_model_module_version": "1.2.0",
            "_model_name": "LayoutModel",
            "_view_count": null,
            "_view_module": "@jupyter-widgets/base",
            "_view_module_version": "1.2.0",
            "_view_name": "LayoutView",
            "align_content": null,
            "align_items": null,
            "align_self": null,
            "border": null,
            "bottom": null,
            "display": null,
            "flex": null,
            "flex_flow": null,
            "grid_area": null,
            "grid_auto_columns": null,
            "grid_auto_flow": null,
            "grid_auto_rows": null,
            "grid_column": null,
            "grid_gap": null,
            "grid_row": null,
            "grid_template_areas": null,
            "grid_template_columns": null,
            "grid_template_rows": null,
            "height": null,
            "justify_content": null,
            "justify_items": null,
            "left": null,
            "margin": null,
            "max_height": null,
            "max_width": null,
            "min_height": null,
            "min_width": null,
            "object_fit": null,
            "object_position": null,
            "order": null,
            "overflow": null,
            "overflow_x": null,
            "overflow_y": null,
            "padding": null,
            "right": null,
            "top": null,
            "visibility": null,
            "width": null
          }
        },
        "781ea3818a6e401484fc4522ed30992c": {
          "model_module": "@jupyter-widgets/controls",
          "model_name": "DescriptionStyleModel",
          "model_module_version": "1.5.0",
          "state": {
            "_model_module": "@jupyter-widgets/controls",
            "_model_module_version": "1.5.0",
            "_model_name": "DescriptionStyleModel",
            "_view_count": null,
            "_view_module": "@jupyter-widgets/base",
            "_view_module_version": "1.2.0",
            "_view_name": "StyleView",
            "description_width": ""
          }
        },
        "0498f691ab4445389bf20f4956474135": {
          "model_module": "@jupyter-widgets/base",
          "model_name": "LayoutModel",
          "model_module_version": "1.2.0",
          "state": {
            "_model_module": "@jupyter-widgets/base",
            "_model_module_version": "1.2.0",
            "_model_name": "LayoutModel",
            "_view_count": null,
            "_view_module": "@jupyter-widgets/base",
            "_view_module_version": "1.2.0",
            "_view_name": "LayoutView",
            "align_content": null,
            "align_items": null,
            "align_self": null,
            "border": null,
            "bottom": null,
            "display": null,
            "flex": null,
            "flex_flow": null,
            "grid_area": null,
            "grid_auto_columns": null,
            "grid_auto_flow": null,
            "grid_auto_rows": null,
            "grid_column": null,
            "grid_gap": null,
            "grid_row": null,
            "grid_template_areas": null,
            "grid_template_columns": null,
            "grid_template_rows": null,
            "height": null,
            "justify_content": null,
            "justify_items": null,
            "left": null,
            "margin": null,
            "max_height": null,
            "max_width": null,
            "min_height": null,
            "min_width": null,
            "object_fit": null,
            "object_position": null,
            "order": null,
            "overflow": null,
            "overflow_x": null,
            "overflow_y": null,
            "padding": null,
            "right": null,
            "top": null,
            "visibility": null,
            "width": null
          }
        },
        "3d6e8b691cb04152bb22600fdb6cfa97": {
          "model_module": "@jupyter-widgets/controls",
          "model_name": "ProgressStyleModel",
          "model_module_version": "1.5.0",
          "state": {
            "_model_module": "@jupyter-widgets/controls",
            "_model_module_version": "1.5.0",
            "_model_name": "ProgressStyleModel",
            "_view_count": null,
            "_view_module": "@jupyter-widgets/base",
            "_view_module_version": "1.2.0",
            "_view_name": "StyleView",
            "bar_color": null,
            "description_width": ""
          }
        },
        "3dee93db0dc64b4ba614112e0ac81fa3": {
          "model_module": "@jupyter-widgets/base",
          "model_name": "LayoutModel",
          "model_module_version": "1.2.0",
          "state": {
            "_model_module": "@jupyter-widgets/base",
            "_model_module_version": "1.2.0",
            "_model_name": "LayoutModel",
            "_view_count": null,
            "_view_module": "@jupyter-widgets/base",
            "_view_module_version": "1.2.0",
            "_view_name": "LayoutView",
            "align_content": null,
            "align_items": null,
            "align_self": null,
            "border": null,
            "bottom": null,
            "display": null,
            "flex": null,
            "flex_flow": null,
            "grid_area": null,
            "grid_auto_columns": null,
            "grid_auto_flow": null,
            "grid_auto_rows": null,
            "grid_column": null,
            "grid_gap": null,
            "grid_row": null,
            "grid_template_areas": null,
            "grid_template_columns": null,
            "grid_template_rows": null,
            "height": null,
            "justify_content": null,
            "justify_items": null,
            "left": null,
            "margin": null,
            "max_height": null,
            "max_width": null,
            "min_height": null,
            "min_width": null,
            "object_fit": null,
            "object_position": null,
            "order": null,
            "overflow": null,
            "overflow_x": null,
            "overflow_y": null,
            "padding": null,
            "right": null,
            "top": null,
            "visibility": null,
            "width": null
          }
        },
        "4e635b9ce0434139aae6aaa0e0ba7088": {
          "model_module": "@jupyter-widgets/controls",
          "model_name": "DescriptionStyleModel",
          "model_module_version": "1.5.0",
          "state": {
            "_model_module": "@jupyter-widgets/controls",
            "_model_module_version": "1.5.0",
            "_model_name": "DescriptionStyleModel",
            "_view_count": null,
            "_view_module": "@jupyter-widgets/base",
            "_view_module_version": "1.2.0",
            "_view_name": "StyleView",
            "description_width": ""
          }
        },
        "8abaa5a33f814419a76c50a61076fd93": {
          "model_module": "@jupyter-widgets/controls",
          "model_name": "HBoxModel",
          "model_module_version": "1.5.0",
          "state": {
            "_dom_classes": [],
            "_model_module": "@jupyter-widgets/controls",
            "_model_module_version": "1.5.0",
            "_model_name": "HBoxModel",
            "_view_count": null,
            "_view_module": "@jupyter-widgets/controls",
            "_view_module_version": "1.5.0",
            "_view_name": "HBoxView",
            "box_style": "",
            "children": [
              "IPY_MODEL_e18b3c04f47b42bcb841385f8c8d5fe8",
              "IPY_MODEL_f3e16f4608cb4dc4a0e79c991ca07ef2",
              "IPY_MODEL_adb8b91b3dbe4e4e92c282077a1f0d1d"
            ],
            "layout": "IPY_MODEL_95ce2714b3614ab3a7afd4b006759717"
          }
        },
        "e18b3c04f47b42bcb841385f8c8d5fe8": {
          "model_module": "@jupyter-widgets/controls",
          "model_name": "HTMLModel",
          "model_module_version": "1.5.0",
          "state": {
            "_dom_classes": [],
            "_model_module": "@jupyter-widgets/controls",
            "_model_module_version": "1.5.0",
            "_model_name": "HTMLModel",
            "_view_count": null,
            "_view_module": "@jupyter-widgets/controls",
            "_view_module_version": "1.5.0",
            "_view_name": "HTMLView",
            "description": "",
            "description_tooltip": null,
            "layout": "IPY_MODEL_c06c8ea295a24aee9e6deba561256db2",
            "placeholder": "​",
            "style": "IPY_MODEL_6fce6cb26ac54ce78ef5b242de3767cc",
            "value": "tokenizer.json: 100%"
          }
        },
        "f3e16f4608cb4dc4a0e79c991ca07ef2": {
          "model_module": "@jupyter-widgets/controls",
          "model_name": "FloatProgressModel",
          "model_module_version": "1.5.0",
          "state": {
            "_dom_classes": [],
            "_model_module": "@jupyter-widgets/controls",
            "_model_module_version": "1.5.0",
            "_model_name": "FloatProgressModel",
            "_view_count": null,
            "_view_module": "@jupyter-widgets/controls",
            "_view_module_version": "1.5.0",
            "_view_name": "ProgressView",
            "bar_style": "success",
            "description": "",
            "description_tooltip": null,
            "layout": "IPY_MODEL_d30d1b7028f145eeac51bdd37566ecf9",
            "max": 435797,
            "min": 0,
            "orientation": "horizontal",
            "style": "IPY_MODEL_cbaf0573e835471a8c6773c2a63d8877",
            "value": 435797
          }
        },
        "adb8b91b3dbe4e4e92c282077a1f0d1d": {
          "model_module": "@jupyter-widgets/controls",
          "model_name": "HTMLModel",
          "model_module_version": "1.5.0",
          "state": {
            "_dom_classes": [],
            "_model_module": "@jupyter-widgets/controls",
            "_model_module_version": "1.5.0",
            "_model_name": "HTMLModel",
            "_view_count": null,
            "_view_module": "@jupyter-widgets/controls",
            "_view_module_version": "1.5.0",
            "_view_name": "HTMLView",
            "description": "",
            "description_tooltip": null,
            "layout": "IPY_MODEL_f0bd9055fc214e43ac989ac99d6d5754",
            "placeholder": "​",
            "style": "IPY_MODEL_ef9c962f71994530a45e55259b39bbc4",
            "value": " 436k/436k [00:00&lt;00:00, 2.19MB/s]"
          }
        },
        "95ce2714b3614ab3a7afd4b006759717": {
          "model_module": "@jupyter-widgets/base",
          "model_name": "LayoutModel",
          "model_module_version": "1.2.0",
          "state": {
            "_model_module": "@jupyter-widgets/base",
            "_model_module_version": "1.2.0",
            "_model_name": "LayoutModel",
            "_view_count": null,
            "_view_module": "@jupyter-widgets/base",
            "_view_module_version": "1.2.0",
            "_view_name": "LayoutView",
            "align_content": null,
            "align_items": null,
            "align_self": null,
            "border": null,
            "bottom": null,
            "display": null,
            "flex": null,
            "flex_flow": null,
            "grid_area": null,
            "grid_auto_columns": null,
            "grid_auto_flow": null,
            "grid_auto_rows": null,
            "grid_column": null,
            "grid_gap": null,
            "grid_row": null,
            "grid_template_areas": null,
            "grid_template_columns": null,
            "grid_template_rows": null,
            "height": null,
            "justify_content": null,
            "justify_items": null,
            "left": null,
            "margin": null,
            "max_height": null,
            "max_width": null,
            "min_height": null,
            "min_width": null,
            "object_fit": null,
            "object_position": null,
            "order": null,
            "overflow": null,
            "overflow_x": null,
            "overflow_y": null,
            "padding": null,
            "right": null,
            "top": null,
            "visibility": null,
            "width": null
          }
        },
        "c06c8ea295a24aee9e6deba561256db2": {
          "model_module": "@jupyter-widgets/base",
          "model_name": "LayoutModel",
          "model_module_version": "1.2.0",
          "state": {
            "_model_module": "@jupyter-widgets/base",
            "_model_module_version": "1.2.0",
            "_model_name": "LayoutModel",
            "_view_count": null,
            "_view_module": "@jupyter-widgets/base",
            "_view_module_version": "1.2.0",
            "_view_name": "LayoutView",
            "align_content": null,
            "align_items": null,
            "align_self": null,
            "border": null,
            "bottom": null,
            "display": null,
            "flex": null,
            "flex_flow": null,
            "grid_area": null,
            "grid_auto_columns": null,
            "grid_auto_flow": null,
            "grid_auto_rows": null,
            "grid_column": null,
            "grid_gap": null,
            "grid_row": null,
            "grid_template_areas": null,
            "grid_template_columns": null,
            "grid_template_rows": null,
            "height": null,
            "justify_content": null,
            "justify_items": null,
            "left": null,
            "margin": null,
            "max_height": null,
            "max_width": null,
            "min_height": null,
            "min_width": null,
            "object_fit": null,
            "object_position": null,
            "order": null,
            "overflow": null,
            "overflow_x": null,
            "overflow_y": null,
            "padding": null,
            "right": null,
            "top": null,
            "visibility": null,
            "width": null
          }
        },
        "6fce6cb26ac54ce78ef5b242de3767cc": {
          "model_module": "@jupyter-widgets/controls",
          "model_name": "DescriptionStyleModel",
          "model_module_version": "1.5.0",
          "state": {
            "_model_module": "@jupyter-widgets/controls",
            "_model_module_version": "1.5.0",
            "_model_name": "DescriptionStyleModel",
            "_view_count": null,
            "_view_module": "@jupyter-widgets/base",
            "_view_module_version": "1.2.0",
            "_view_name": "StyleView",
            "description_width": ""
          }
        },
        "d30d1b7028f145eeac51bdd37566ecf9": {
          "model_module": "@jupyter-widgets/base",
          "model_name": "LayoutModel",
          "model_module_version": "1.2.0",
          "state": {
            "_model_module": "@jupyter-widgets/base",
            "_model_module_version": "1.2.0",
            "_model_name": "LayoutModel",
            "_view_count": null,
            "_view_module": "@jupyter-widgets/base",
            "_view_module_version": "1.2.0",
            "_view_name": "LayoutView",
            "align_content": null,
            "align_items": null,
            "align_self": null,
            "border": null,
            "bottom": null,
            "display": null,
            "flex": null,
            "flex_flow": null,
            "grid_area": null,
            "grid_auto_columns": null,
            "grid_auto_flow": null,
            "grid_auto_rows": null,
            "grid_column": null,
            "grid_gap": null,
            "grid_row": null,
            "grid_template_areas": null,
            "grid_template_columns": null,
            "grid_template_rows": null,
            "height": null,
            "justify_content": null,
            "justify_items": null,
            "left": null,
            "margin": null,
            "max_height": null,
            "max_width": null,
            "min_height": null,
            "min_width": null,
            "object_fit": null,
            "object_position": null,
            "order": null,
            "overflow": null,
            "overflow_x": null,
            "overflow_y": null,
            "padding": null,
            "right": null,
            "top": null,
            "visibility": null,
            "width": null
          }
        },
        "cbaf0573e835471a8c6773c2a63d8877": {
          "model_module": "@jupyter-widgets/controls",
          "model_name": "ProgressStyleModel",
          "model_module_version": "1.5.0",
          "state": {
            "_model_module": "@jupyter-widgets/controls",
            "_model_module_version": "1.5.0",
            "_model_name": "ProgressStyleModel",
            "_view_count": null,
            "_view_module": "@jupyter-widgets/base",
            "_view_module_version": "1.2.0",
            "_view_name": "StyleView",
            "bar_color": null,
            "description_width": ""
          }
        },
        "f0bd9055fc214e43ac989ac99d6d5754": {
          "model_module": "@jupyter-widgets/base",
          "model_name": "LayoutModel",
          "model_module_version": "1.2.0",
          "state": {
            "_model_module": "@jupyter-widgets/base",
            "_model_module_version": "1.2.0",
            "_model_name": "LayoutModel",
            "_view_count": null,
            "_view_module": "@jupyter-widgets/base",
            "_view_module_version": "1.2.0",
            "_view_name": "LayoutView",
            "align_content": null,
            "align_items": null,
            "align_self": null,
            "border": null,
            "bottom": null,
            "display": null,
            "flex": null,
            "flex_flow": null,
            "grid_area": null,
            "grid_auto_columns": null,
            "grid_auto_flow": null,
            "grid_auto_rows": null,
            "grid_column": null,
            "grid_gap": null,
            "grid_row": null,
            "grid_template_areas": null,
            "grid_template_columns": null,
            "grid_template_rows": null,
            "height": null,
            "justify_content": null,
            "justify_items": null,
            "left": null,
            "margin": null,
            "max_height": null,
            "max_width": null,
            "min_height": null,
            "min_width": null,
            "object_fit": null,
            "object_position": null,
            "order": null,
            "overflow": null,
            "overflow_x": null,
            "overflow_y": null,
            "padding": null,
            "right": null,
            "top": null,
            "visibility": null,
            "width": null
          }
        },
        "ef9c962f71994530a45e55259b39bbc4": {
          "model_module": "@jupyter-widgets/controls",
          "model_name": "DescriptionStyleModel",
          "model_module_version": "1.5.0",
          "state": {
            "_model_module": "@jupyter-widgets/controls",
            "_model_module_version": "1.5.0",
            "_model_name": "DescriptionStyleModel",
            "_view_count": null,
            "_view_module": "@jupyter-widgets/base",
            "_view_module_version": "1.2.0",
            "_view_name": "StyleView",
            "description_width": ""
          }
        },
        "bf12c4dc745348d1853e9991b9b6a649": {
          "model_module": "@jupyter-widgets/controls",
          "model_name": "HBoxModel",
          "model_module_version": "1.5.0",
          "state": {
            "_dom_classes": [],
            "_model_module": "@jupyter-widgets/controls",
            "_model_module_version": "1.5.0",
            "_model_name": "HBoxModel",
            "_view_count": null,
            "_view_module": "@jupyter-widgets/controls",
            "_view_module_version": "1.5.0",
            "_view_name": "HBoxView",
            "box_style": "",
            "children": [
              "IPY_MODEL_67a8e4c1163b4481a100ec4fa3b9a89d",
              "IPY_MODEL_adb3bb5616cd40e1a86b2059c44be2f2",
              "IPY_MODEL_6a17672544454155880d248dff7a90e0"
            ],
            "layout": "IPY_MODEL_6d56127080824a138f7af786e6658cfd"
          }
        },
        "67a8e4c1163b4481a100ec4fa3b9a89d": {
          "model_module": "@jupyter-widgets/controls",
          "model_name": "HTMLModel",
          "model_module_version": "1.5.0",
          "state": {
            "_dom_classes": [],
            "_model_module": "@jupyter-widgets/controls",
            "_model_module_version": "1.5.0",
            "_model_name": "HTMLModel",
            "_view_count": null,
            "_view_module": "@jupyter-widgets/controls",
            "_view_module_version": "1.5.0",
            "_view_name": "HTMLView",
            "description": "",
            "description_tooltip": null,
            "layout": "IPY_MODEL_4e04e92174b3441a9904e31e1a67abad",
            "placeholder": "​",
            "style": "IPY_MODEL_8e9d356ca9204721af11c7b1fe54c824",
            "value": "Generating train split: "
          }
        },
        "adb3bb5616cd40e1a86b2059c44be2f2": {
          "model_module": "@jupyter-widgets/controls",
          "model_name": "FloatProgressModel",
          "model_module_version": "1.5.0",
          "state": {
            "_dom_classes": [],
            "_model_module": "@jupyter-widgets/controls",
            "_model_module_version": "1.5.0",
            "_model_name": "FloatProgressModel",
            "_view_count": null,
            "_view_module": "@jupyter-widgets/controls",
            "_view_module_version": "1.5.0",
            "_view_name": "ProgressView",
            "bar_style": "success",
            "description": "",
            "description_tooltip": null,
            "layout": "IPY_MODEL_95a79fd1bcd7449787a595515c220d58",
            "max": 1,
            "min": 0,
            "orientation": "horizontal",
            "style": "IPY_MODEL_8a5795be00094f91b23376ade9c22ed5",
            "value": 1
          }
        },
        "6a17672544454155880d248dff7a90e0": {
          "model_module": "@jupyter-widgets/controls",
          "model_name": "HTMLModel",
          "model_module_version": "1.5.0",
          "state": {
            "_dom_classes": [],
            "_model_module": "@jupyter-widgets/controls",
            "_model_module_version": "1.5.0",
            "_model_name": "HTMLModel",
            "_view_count": null,
            "_view_module": "@jupyter-widgets/controls",
            "_view_module_version": "1.5.0",
            "_view_name": "HTMLView",
            "description": "",
            "description_tooltip": null,
            "layout": "IPY_MODEL_22ccca74116d4063b641a2ad7def6781",
            "placeholder": "​",
            "style": "IPY_MODEL_753f4140904d475b96185ad92af5d8f7",
            "value": " 57707/0 [00:03&lt;00:00, 18906.16 examples/s]"
          }
        },
        "6d56127080824a138f7af786e6658cfd": {
          "model_module": "@jupyter-widgets/base",
          "model_name": "LayoutModel",
          "model_module_version": "1.2.0",
          "state": {
            "_model_module": "@jupyter-widgets/base",
            "_model_module_version": "1.2.0",
            "_model_name": "LayoutModel",
            "_view_count": null,
            "_view_module": "@jupyter-widgets/base",
            "_view_module_version": "1.2.0",
            "_view_name": "LayoutView",
            "align_content": null,
            "align_items": null,
            "align_self": null,
            "border": null,
            "bottom": null,
            "display": null,
            "flex": null,
            "flex_flow": null,
            "grid_area": null,
            "grid_auto_columns": null,
            "grid_auto_flow": null,
            "grid_auto_rows": null,
            "grid_column": null,
            "grid_gap": null,
            "grid_row": null,
            "grid_template_areas": null,
            "grid_template_columns": null,
            "grid_template_rows": null,
            "height": null,
            "justify_content": null,
            "justify_items": null,
            "left": null,
            "margin": null,
            "max_height": null,
            "max_width": null,
            "min_height": null,
            "min_width": null,
            "object_fit": null,
            "object_position": null,
            "order": null,
            "overflow": null,
            "overflow_x": null,
            "overflow_y": null,
            "padding": null,
            "right": null,
            "top": null,
            "visibility": null,
            "width": null
          }
        },
        "4e04e92174b3441a9904e31e1a67abad": {
          "model_module": "@jupyter-widgets/base",
          "model_name": "LayoutModel",
          "model_module_version": "1.2.0",
          "state": {
            "_model_module": "@jupyter-widgets/base",
            "_model_module_version": "1.2.0",
            "_model_name": "LayoutModel",
            "_view_count": null,
            "_view_module": "@jupyter-widgets/base",
            "_view_module_version": "1.2.0",
            "_view_name": "LayoutView",
            "align_content": null,
            "align_items": null,
            "align_self": null,
            "border": null,
            "bottom": null,
            "display": null,
            "flex": null,
            "flex_flow": null,
            "grid_area": null,
            "grid_auto_columns": null,
            "grid_auto_flow": null,
            "grid_auto_rows": null,
            "grid_column": null,
            "grid_gap": null,
            "grid_row": null,
            "grid_template_areas": null,
            "grid_template_columns": null,
            "grid_template_rows": null,
            "height": null,
            "justify_content": null,
            "justify_items": null,
            "left": null,
            "margin": null,
            "max_height": null,
            "max_width": null,
            "min_height": null,
            "min_width": null,
            "object_fit": null,
            "object_position": null,
            "order": null,
            "overflow": null,
            "overflow_x": null,
            "overflow_y": null,
            "padding": null,
            "right": null,
            "top": null,
            "visibility": null,
            "width": null
          }
        },
        "8e9d356ca9204721af11c7b1fe54c824": {
          "model_module": "@jupyter-widgets/controls",
          "model_name": "DescriptionStyleModel",
          "model_module_version": "1.5.0",
          "state": {
            "_model_module": "@jupyter-widgets/controls",
            "_model_module_version": "1.5.0",
            "_model_name": "DescriptionStyleModel",
            "_view_count": null,
            "_view_module": "@jupyter-widgets/base",
            "_view_module_version": "1.2.0",
            "_view_name": "StyleView",
            "description_width": ""
          }
        },
        "95a79fd1bcd7449787a595515c220d58": {
          "model_module": "@jupyter-widgets/base",
          "model_name": "LayoutModel",
          "model_module_version": "1.2.0",
          "state": {
            "_model_module": "@jupyter-widgets/base",
            "_model_module_version": "1.2.0",
            "_model_name": "LayoutModel",
            "_view_count": null,
            "_view_module": "@jupyter-widgets/base",
            "_view_module_version": "1.2.0",
            "_view_name": "LayoutView",
            "align_content": null,
            "align_items": null,
            "align_self": null,
            "border": null,
            "bottom": null,
            "display": null,
            "flex": null,
            "flex_flow": null,
            "grid_area": null,
            "grid_auto_columns": null,
            "grid_auto_flow": null,
            "grid_auto_rows": null,
            "grid_column": null,
            "grid_gap": null,
            "grid_row": null,
            "grid_template_areas": null,
            "grid_template_columns": null,
            "grid_template_rows": null,
            "height": null,
            "justify_content": null,
            "justify_items": null,
            "left": null,
            "margin": null,
            "max_height": null,
            "max_width": null,
            "min_height": null,
            "min_width": null,
            "object_fit": null,
            "object_position": null,
            "order": null,
            "overflow": null,
            "overflow_x": null,
            "overflow_y": null,
            "padding": null,
            "right": null,
            "top": null,
            "visibility": null,
            "width": "20px"
          }
        },
        "8a5795be00094f91b23376ade9c22ed5": {
          "model_module": "@jupyter-widgets/controls",
          "model_name": "ProgressStyleModel",
          "model_module_version": "1.5.0",
          "state": {
            "_model_module": "@jupyter-widgets/controls",
            "_model_module_version": "1.5.0",
            "_model_name": "ProgressStyleModel",
            "_view_count": null,
            "_view_module": "@jupyter-widgets/base",
            "_view_module_version": "1.2.0",
            "_view_name": "StyleView",
            "bar_color": null,
            "description_width": ""
          }
        },
        "22ccca74116d4063b641a2ad7def6781": {
          "model_module": "@jupyter-widgets/base",
          "model_name": "LayoutModel",
          "model_module_version": "1.2.0",
          "state": {
            "_model_module": "@jupyter-widgets/base",
            "_model_module_version": "1.2.0",
            "_model_name": "LayoutModel",
            "_view_count": null,
            "_view_module": "@jupyter-widgets/base",
            "_view_module_version": "1.2.0",
            "_view_name": "LayoutView",
            "align_content": null,
            "align_items": null,
            "align_self": null,
            "border": null,
            "bottom": null,
            "display": null,
            "flex": null,
            "flex_flow": null,
            "grid_area": null,
            "grid_auto_columns": null,
            "grid_auto_flow": null,
            "grid_auto_rows": null,
            "grid_column": null,
            "grid_gap": null,
            "grid_row": null,
            "grid_template_areas": null,
            "grid_template_columns": null,
            "grid_template_rows": null,
            "height": null,
            "justify_content": null,
            "justify_items": null,
            "left": null,
            "margin": null,
            "max_height": null,
            "max_width": null,
            "min_height": null,
            "min_width": null,
            "object_fit": null,
            "object_position": null,
            "order": null,
            "overflow": null,
            "overflow_x": null,
            "overflow_y": null,
            "padding": null,
            "right": null,
            "top": null,
            "visibility": null,
            "width": null
          }
        },
        "753f4140904d475b96185ad92af5d8f7": {
          "model_module": "@jupyter-widgets/controls",
          "model_name": "DescriptionStyleModel",
          "model_module_version": "1.5.0",
          "state": {
            "_model_module": "@jupyter-widgets/controls",
            "_model_module_version": "1.5.0",
            "_model_name": "DescriptionStyleModel",
            "_view_count": null,
            "_view_module": "@jupyter-widgets/base",
            "_view_module_version": "1.2.0",
            "_view_name": "StyleView",
            "description_width": ""
          }
        },
        "9dcc3f2727dc4a4597221f385cce6082": {
          "model_module": "@jupyter-widgets/controls",
          "model_name": "HBoxModel",
          "model_module_version": "1.5.0",
          "state": {
            "_dom_classes": [],
            "_model_module": "@jupyter-widgets/controls",
            "_model_module_version": "1.5.0",
            "_model_name": "HBoxModel",
            "_view_count": null,
            "_view_module": "@jupyter-widgets/controls",
            "_view_module_version": "1.5.0",
            "_view_name": "HBoxView",
            "box_style": "",
            "children": [
              "IPY_MODEL_a36cfb0503034dae845d6aa8ad0bd76d",
              "IPY_MODEL_336c01594ce94c78a559dd89b6132954",
              "IPY_MODEL_34857890821845e28dc6e6468d7c8dc3"
            ],
            "layout": "IPY_MODEL_02ea0b4f62a2406bbe807c6c107a711d"
          }
        },
        "a36cfb0503034dae845d6aa8ad0bd76d": {
          "model_module": "@jupyter-widgets/controls",
          "model_name": "HTMLModel",
          "model_module_version": "1.5.0",
          "state": {
            "_dom_classes": [],
            "_model_module": "@jupyter-widgets/controls",
            "_model_module_version": "1.5.0",
            "_model_name": "HTMLModel",
            "_view_count": null,
            "_view_module": "@jupyter-widgets/controls",
            "_view_module_version": "1.5.0",
            "_view_name": "HTMLView",
            "description": "",
            "description_tooltip": null,
            "layout": "IPY_MODEL_d066c426addd4a068a94b29cb7bb990c",
            "placeholder": "​",
            "style": "IPY_MODEL_27d968535de941649abde24757d91230",
            "value": "Generating test split: "
          }
        },
        "336c01594ce94c78a559dd89b6132954": {
          "model_module": "@jupyter-widgets/controls",
          "model_name": "FloatProgressModel",
          "model_module_version": "1.5.0",
          "state": {
            "_dom_classes": [],
            "_model_module": "@jupyter-widgets/controls",
            "_model_module_version": "1.5.0",
            "_model_name": "FloatProgressModel",
            "_view_count": null,
            "_view_module": "@jupyter-widgets/controls",
            "_view_module_version": "1.5.0",
            "_view_name": "ProgressView",
            "bar_style": "success",
            "description": "",
            "description_tooltip": null,
            "layout": "IPY_MODEL_8088427a4073485eb142e19172342ba6",
            "max": 1,
            "min": 0,
            "orientation": "horizontal",
            "style": "IPY_MODEL_537d31f08e4540bd96763f7cc610a60f",
            "value": 1
          }
        },
        "34857890821845e28dc6e6468d7c8dc3": {
          "model_module": "@jupyter-widgets/controls",
          "model_name": "HTMLModel",
          "model_module_version": "1.5.0",
          "state": {
            "_dom_classes": [],
            "_model_module": "@jupyter-widgets/controls",
            "_model_module_version": "1.5.0",
            "_model_name": "HTMLModel",
            "_view_count": null,
            "_view_module": "@jupyter-widgets/controls",
            "_view_module_version": "1.5.0",
            "_view_name": "HTMLView",
            "description": "",
            "description_tooltip": null,
            "layout": "IPY_MODEL_6ee69bc35187468ab15b4558327fcde9",
            "placeholder": "​",
            "style": "IPY_MODEL_baccca1874be41d1aae8f10e8fd05c0a",
            "value": " 14427/0 [00:01&lt;00:00, 12880.31 examples/s]"
          }
        },
        "02ea0b4f62a2406bbe807c6c107a711d": {
          "model_module": "@jupyter-widgets/base",
          "model_name": "LayoutModel",
          "model_module_version": "1.2.0",
          "state": {
            "_model_module": "@jupyter-widgets/base",
            "_model_module_version": "1.2.0",
            "_model_name": "LayoutModel",
            "_view_count": null,
            "_view_module": "@jupyter-widgets/base",
            "_view_module_version": "1.2.0",
            "_view_name": "LayoutView",
            "align_content": null,
            "align_items": null,
            "align_self": null,
            "border": null,
            "bottom": null,
            "display": null,
            "flex": null,
            "flex_flow": null,
            "grid_area": null,
            "grid_auto_columns": null,
            "grid_auto_flow": null,
            "grid_auto_rows": null,
            "grid_column": null,
            "grid_gap": null,
            "grid_row": null,
            "grid_template_areas": null,
            "grid_template_columns": null,
            "grid_template_rows": null,
            "height": null,
            "justify_content": null,
            "justify_items": null,
            "left": null,
            "margin": null,
            "max_height": null,
            "max_width": null,
            "min_height": null,
            "min_width": null,
            "object_fit": null,
            "object_position": null,
            "order": null,
            "overflow": null,
            "overflow_x": null,
            "overflow_y": null,
            "padding": null,
            "right": null,
            "top": null,
            "visibility": null,
            "width": null
          }
        },
        "d066c426addd4a068a94b29cb7bb990c": {
          "model_module": "@jupyter-widgets/base",
          "model_name": "LayoutModel",
          "model_module_version": "1.2.0",
          "state": {
            "_model_module": "@jupyter-widgets/base",
            "_model_module_version": "1.2.0",
            "_model_name": "LayoutModel",
            "_view_count": null,
            "_view_module": "@jupyter-widgets/base",
            "_view_module_version": "1.2.0",
            "_view_name": "LayoutView",
            "align_content": null,
            "align_items": null,
            "align_self": null,
            "border": null,
            "bottom": null,
            "display": null,
            "flex": null,
            "flex_flow": null,
            "grid_area": null,
            "grid_auto_columns": null,
            "grid_auto_flow": null,
            "grid_auto_rows": null,
            "grid_column": null,
            "grid_gap": null,
            "grid_row": null,
            "grid_template_areas": null,
            "grid_template_columns": null,
            "grid_template_rows": null,
            "height": null,
            "justify_content": null,
            "justify_items": null,
            "left": null,
            "margin": null,
            "max_height": null,
            "max_width": null,
            "min_height": null,
            "min_width": null,
            "object_fit": null,
            "object_position": null,
            "order": null,
            "overflow": null,
            "overflow_x": null,
            "overflow_y": null,
            "padding": null,
            "right": null,
            "top": null,
            "visibility": null,
            "width": null
          }
        },
        "27d968535de941649abde24757d91230": {
          "model_module": "@jupyter-widgets/controls",
          "model_name": "DescriptionStyleModel",
          "model_module_version": "1.5.0",
          "state": {
            "_model_module": "@jupyter-widgets/controls",
            "_model_module_version": "1.5.0",
            "_model_name": "DescriptionStyleModel",
            "_view_count": null,
            "_view_module": "@jupyter-widgets/base",
            "_view_module_version": "1.2.0",
            "_view_name": "StyleView",
            "description_width": ""
          }
        },
        "8088427a4073485eb142e19172342ba6": {
          "model_module": "@jupyter-widgets/base",
          "model_name": "LayoutModel",
          "model_module_version": "1.2.0",
          "state": {
            "_model_module": "@jupyter-widgets/base",
            "_model_module_version": "1.2.0",
            "_model_name": "LayoutModel",
            "_view_count": null,
            "_view_module": "@jupyter-widgets/base",
            "_view_module_version": "1.2.0",
            "_view_name": "LayoutView",
            "align_content": null,
            "align_items": null,
            "align_self": null,
            "border": null,
            "bottom": null,
            "display": null,
            "flex": null,
            "flex_flow": null,
            "grid_area": null,
            "grid_auto_columns": null,
            "grid_auto_flow": null,
            "grid_auto_rows": null,
            "grid_column": null,
            "grid_gap": null,
            "grid_row": null,
            "grid_template_areas": null,
            "grid_template_columns": null,
            "grid_template_rows": null,
            "height": null,
            "justify_content": null,
            "justify_items": null,
            "left": null,
            "margin": null,
            "max_height": null,
            "max_width": null,
            "min_height": null,
            "min_width": null,
            "object_fit": null,
            "object_position": null,
            "order": null,
            "overflow": null,
            "overflow_x": null,
            "overflow_y": null,
            "padding": null,
            "right": null,
            "top": null,
            "visibility": null,
            "width": "20px"
          }
        },
        "537d31f08e4540bd96763f7cc610a60f": {
          "model_module": "@jupyter-widgets/controls",
          "model_name": "ProgressStyleModel",
          "model_module_version": "1.5.0",
          "state": {
            "_model_module": "@jupyter-widgets/controls",
            "_model_module_version": "1.5.0",
            "_model_name": "ProgressStyleModel",
            "_view_count": null,
            "_view_module": "@jupyter-widgets/base",
            "_view_module_version": "1.2.0",
            "_view_name": "StyleView",
            "bar_color": null,
            "description_width": ""
          }
        },
        "6ee69bc35187468ab15b4558327fcde9": {
          "model_module": "@jupyter-widgets/base",
          "model_name": "LayoutModel",
          "model_module_version": "1.2.0",
          "state": {
            "_model_module": "@jupyter-widgets/base",
            "_model_module_version": "1.2.0",
            "_model_name": "LayoutModel",
            "_view_count": null,
            "_view_module": "@jupyter-widgets/base",
            "_view_module_version": "1.2.0",
            "_view_name": "LayoutView",
            "align_content": null,
            "align_items": null,
            "align_self": null,
            "border": null,
            "bottom": null,
            "display": null,
            "flex": null,
            "flex_flow": null,
            "grid_area": null,
            "grid_auto_columns": null,
            "grid_auto_flow": null,
            "grid_auto_rows": null,
            "grid_column": null,
            "grid_gap": null,
            "grid_row": null,
            "grid_template_areas": null,
            "grid_template_columns": null,
            "grid_template_rows": null,
            "height": null,
            "justify_content": null,
            "justify_items": null,
            "left": null,
            "margin": null,
            "max_height": null,
            "max_width": null,
            "min_height": null,
            "min_width": null,
            "object_fit": null,
            "object_position": null,
            "order": null,
            "overflow": null,
            "overflow_x": null,
            "overflow_y": null,
            "padding": null,
            "right": null,
            "top": null,
            "visibility": null,
            "width": null
          }
        },
        "baccca1874be41d1aae8f10e8fd05c0a": {
          "model_module": "@jupyter-widgets/controls",
          "model_name": "DescriptionStyleModel",
          "model_module_version": "1.5.0",
          "state": {
            "_model_module": "@jupyter-widgets/controls",
            "_model_module_version": "1.5.0",
            "_model_name": "DescriptionStyleModel",
            "_view_count": null,
            "_view_module": "@jupyter-widgets/base",
            "_view_module_version": "1.2.0",
            "_view_name": "StyleView",
            "description_width": ""
          }
        },
        "9a0c95c96bb74bb1a6026420b8f35ada": {
          "model_module": "@jupyter-widgets/controls",
          "model_name": "HBoxModel",
          "model_module_version": "1.5.0",
          "state": {
            "_dom_classes": [],
            "_model_module": "@jupyter-widgets/controls",
            "_model_module_version": "1.5.0",
            "_model_name": "HBoxModel",
            "_view_count": null,
            "_view_module": "@jupyter-widgets/controls",
            "_view_module_version": "1.5.0",
            "_view_name": "HBoxView",
            "box_style": "",
            "children": [
              "IPY_MODEL_f6ab4df319584f279fddcf2d89208a49",
              "IPY_MODEL_be9c075fbd7147a586e7c76d19783048",
              "IPY_MODEL_a13c2aa537224cd288e7e213bc963581"
            ],
            "layout": "IPY_MODEL_645a3dfb8ae14152bde5037ae7e4ee1d"
          }
        },
        "f6ab4df319584f279fddcf2d89208a49": {
          "model_module": "@jupyter-widgets/controls",
          "model_name": "HTMLModel",
          "model_module_version": "1.5.0",
          "state": {
            "_dom_classes": [],
            "_model_module": "@jupyter-widgets/controls",
            "_model_module_version": "1.5.0",
            "_model_name": "HTMLModel",
            "_view_count": null,
            "_view_module": "@jupyter-widgets/controls",
            "_view_module_version": "1.5.0",
            "_view_name": "HTMLView",
            "description": "",
            "description_tooltip": null,
            "layout": "IPY_MODEL_7a3531f5c6044cee8ed4a058b7f7dae0",
            "placeholder": "​",
            "style": "IPY_MODEL_31da0840c5d442a3bc41b37b31fbddfe",
            "value": "Map: 100%"
          }
        },
        "be9c075fbd7147a586e7c76d19783048": {
          "model_module": "@jupyter-widgets/controls",
          "model_name": "FloatProgressModel",
          "model_module_version": "1.5.0",
          "state": {
            "_dom_classes": [],
            "_model_module": "@jupyter-widgets/controls",
            "_model_module_version": "1.5.0",
            "_model_name": "FloatProgressModel",
            "_view_count": null,
            "_view_module": "@jupyter-widgets/controls",
            "_view_module_version": "1.5.0",
            "_view_name": "ProgressView",
            "bar_style": "success",
            "description": "",
            "description_tooltip": null,
            "layout": "IPY_MODEL_ac33a9cac034471ea90d3f50e37445c0",
            "max": 57707,
            "min": 0,
            "orientation": "horizontal",
            "style": "IPY_MODEL_d2b9c7f09975409d8e674d504fd20c88",
            "value": 57707
          }
        },
        "a13c2aa537224cd288e7e213bc963581": {
          "model_module": "@jupyter-widgets/controls",
          "model_name": "HTMLModel",
          "model_module_version": "1.5.0",
          "state": {
            "_dom_classes": [],
            "_model_module": "@jupyter-widgets/controls",
            "_model_module_version": "1.5.0",
            "_model_name": "HTMLModel",
            "_view_count": null,
            "_view_module": "@jupyter-widgets/controls",
            "_view_module_version": "1.5.0",
            "_view_name": "HTMLView",
            "description": "",
            "description_tooltip": null,
            "layout": "IPY_MODEL_08d40c9ac9b44353bde358030bb43913",
            "placeholder": "​",
            "style": "IPY_MODEL_486daca9a892460dbf129f2c1b586901",
            "value": " 57707/57707 [02:04&lt;00:00, 534.30 examples/s]"
          }
        },
        "645a3dfb8ae14152bde5037ae7e4ee1d": {
          "model_module": "@jupyter-widgets/base",
          "model_name": "LayoutModel",
          "model_module_version": "1.2.0",
          "state": {
            "_model_module": "@jupyter-widgets/base",
            "_model_module_version": "1.2.0",
            "_model_name": "LayoutModel",
            "_view_count": null,
            "_view_module": "@jupyter-widgets/base",
            "_view_module_version": "1.2.0",
            "_view_name": "LayoutView",
            "align_content": null,
            "align_items": null,
            "align_self": null,
            "border": null,
            "bottom": null,
            "display": null,
            "flex": null,
            "flex_flow": null,
            "grid_area": null,
            "grid_auto_columns": null,
            "grid_auto_flow": null,
            "grid_auto_rows": null,
            "grid_column": null,
            "grid_gap": null,
            "grid_row": null,
            "grid_template_areas": null,
            "grid_template_columns": null,
            "grid_template_rows": null,
            "height": null,
            "justify_content": null,
            "justify_items": null,
            "left": null,
            "margin": null,
            "max_height": null,
            "max_width": null,
            "min_height": null,
            "min_width": null,
            "object_fit": null,
            "object_position": null,
            "order": null,
            "overflow": null,
            "overflow_x": null,
            "overflow_y": null,
            "padding": null,
            "right": null,
            "top": null,
            "visibility": null,
            "width": null
          }
        },
        "7a3531f5c6044cee8ed4a058b7f7dae0": {
          "model_module": "@jupyter-widgets/base",
          "model_name": "LayoutModel",
          "model_module_version": "1.2.0",
          "state": {
            "_model_module": "@jupyter-widgets/base",
            "_model_module_version": "1.2.0",
            "_model_name": "LayoutModel",
            "_view_count": null,
            "_view_module": "@jupyter-widgets/base",
            "_view_module_version": "1.2.0",
            "_view_name": "LayoutView",
            "align_content": null,
            "align_items": null,
            "align_self": null,
            "border": null,
            "bottom": null,
            "display": null,
            "flex": null,
            "flex_flow": null,
            "grid_area": null,
            "grid_auto_columns": null,
            "grid_auto_flow": null,
            "grid_auto_rows": null,
            "grid_column": null,
            "grid_gap": null,
            "grid_row": null,
            "grid_template_areas": null,
            "grid_template_columns": null,
            "grid_template_rows": null,
            "height": null,
            "justify_content": null,
            "justify_items": null,
            "left": null,
            "margin": null,
            "max_height": null,
            "max_width": null,
            "min_height": null,
            "min_width": null,
            "object_fit": null,
            "object_position": null,
            "order": null,
            "overflow": null,
            "overflow_x": null,
            "overflow_y": null,
            "padding": null,
            "right": null,
            "top": null,
            "visibility": null,
            "width": null
          }
        },
        "31da0840c5d442a3bc41b37b31fbddfe": {
          "model_module": "@jupyter-widgets/controls",
          "model_name": "DescriptionStyleModel",
          "model_module_version": "1.5.0",
          "state": {
            "_model_module": "@jupyter-widgets/controls",
            "_model_module_version": "1.5.0",
            "_model_name": "DescriptionStyleModel",
            "_view_count": null,
            "_view_module": "@jupyter-widgets/base",
            "_view_module_version": "1.2.0",
            "_view_name": "StyleView",
            "description_width": ""
          }
        },
        "ac33a9cac034471ea90d3f50e37445c0": {
          "model_module": "@jupyter-widgets/base",
          "model_name": "LayoutModel",
          "model_module_version": "1.2.0",
          "state": {
            "_model_module": "@jupyter-widgets/base",
            "_model_module_version": "1.2.0",
            "_model_name": "LayoutModel",
            "_view_count": null,
            "_view_module": "@jupyter-widgets/base",
            "_view_module_version": "1.2.0",
            "_view_name": "LayoutView",
            "align_content": null,
            "align_items": null,
            "align_self": null,
            "border": null,
            "bottom": null,
            "display": null,
            "flex": null,
            "flex_flow": null,
            "grid_area": null,
            "grid_auto_columns": null,
            "grid_auto_flow": null,
            "grid_auto_rows": null,
            "grid_column": null,
            "grid_gap": null,
            "grid_row": null,
            "grid_template_areas": null,
            "grid_template_columns": null,
            "grid_template_rows": null,
            "height": null,
            "justify_content": null,
            "justify_items": null,
            "left": null,
            "margin": null,
            "max_height": null,
            "max_width": null,
            "min_height": null,
            "min_width": null,
            "object_fit": null,
            "object_position": null,
            "order": null,
            "overflow": null,
            "overflow_x": null,
            "overflow_y": null,
            "padding": null,
            "right": null,
            "top": null,
            "visibility": null,
            "width": null
          }
        },
        "d2b9c7f09975409d8e674d504fd20c88": {
          "model_module": "@jupyter-widgets/controls",
          "model_name": "ProgressStyleModel",
          "model_module_version": "1.5.0",
          "state": {
            "_model_module": "@jupyter-widgets/controls",
            "_model_module_version": "1.5.0",
            "_model_name": "ProgressStyleModel",
            "_view_count": null,
            "_view_module": "@jupyter-widgets/base",
            "_view_module_version": "1.2.0",
            "_view_name": "StyleView",
            "bar_color": null,
            "description_width": ""
          }
        },
        "08d40c9ac9b44353bde358030bb43913": {
          "model_module": "@jupyter-widgets/base",
          "model_name": "LayoutModel",
          "model_module_version": "1.2.0",
          "state": {
            "_model_module": "@jupyter-widgets/base",
            "_model_module_version": "1.2.0",
            "_model_name": "LayoutModel",
            "_view_count": null,
            "_view_module": "@jupyter-widgets/base",
            "_view_module_version": "1.2.0",
            "_view_name": "LayoutView",
            "align_content": null,
            "align_items": null,
            "align_self": null,
            "border": null,
            "bottom": null,
            "display": null,
            "flex": null,
            "flex_flow": null,
            "grid_area": null,
            "grid_auto_columns": null,
            "grid_auto_flow": null,
            "grid_auto_rows": null,
            "grid_column": null,
            "grid_gap": null,
            "grid_row": null,
            "grid_template_areas": null,
            "grid_template_columns": null,
            "grid_template_rows": null,
            "height": null,
            "justify_content": null,
            "justify_items": null,
            "left": null,
            "margin": null,
            "max_height": null,
            "max_width": null,
            "min_height": null,
            "min_width": null,
            "object_fit": null,
            "object_position": null,
            "order": null,
            "overflow": null,
            "overflow_x": null,
            "overflow_y": null,
            "padding": null,
            "right": null,
            "top": null,
            "visibility": null,
            "width": null
          }
        },
        "486daca9a892460dbf129f2c1b586901": {
          "model_module": "@jupyter-widgets/controls",
          "model_name": "DescriptionStyleModel",
          "model_module_version": "1.5.0",
          "state": {
            "_model_module": "@jupyter-widgets/controls",
            "_model_module_version": "1.5.0",
            "_model_name": "DescriptionStyleModel",
            "_view_count": null,
            "_view_module": "@jupyter-widgets/base",
            "_view_module_version": "1.2.0",
            "_view_name": "StyleView",
            "description_width": ""
          }
        },
        "1dcac92a391449c692482a45f8c8a4e6": {
          "model_module": "@jupyter-widgets/controls",
          "model_name": "HBoxModel",
          "model_module_version": "1.5.0",
          "state": {
            "_dom_classes": [],
            "_model_module": "@jupyter-widgets/controls",
            "_model_module_version": "1.5.0",
            "_model_name": "HBoxModel",
            "_view_count": null,
            "_view_module": "@jupyter-widgets/controls",
            "_view_module_version": "1.5.0",
            "_view_name": "HBoxView",
            "box_style": "",
            "children": [
              "IPY_MODEL_d91a436653b84f92a33365427f8600ed",
              "IPY_MODEL_181547de0163403e872a4195fdca4989",
              "IPY_MODEL_26490ffd53454c5f840104ef560d00a5"
            ],
            "layout": "IPY_MODEL_c8f2974c3a03449d9184017145e709c9"
          }
        },
        "d91a436653b84f92a33365427f8600ed": {
          "model_module": "@jupyter-widgets/controls",
          "model_name": "HTMLModel",
          "model_module_version": "1.5.0",
          "state": {
            "_dom_classes": [],
            "_model_module": "@jupyter-widgets/controls",
            "_model_module_version": "1.5.0",
            "_model_name": "HTMLModel",
            "_view_count": null,
            "_view_module": "@jupyter-widgets/controls",
            "_view_module_version": "1.5.0",
            "_view_name": "HTMLView",
            "description": "",
            "description_tooltip": null,
            "layout": "IPY_MODEL_891d145a67f848feab632b6aa65874b4",
            "placeholder": "​",
            "style": "IPY_MODEL_3801d3de12c24a12b352c18bfc5fb3a9",
            "value": "Map: 100%"
          }
        },
        "181547de0163403e872a4195fdca4989": {
          "model_module": "@jupyter-widgets/controls",
          "model_name": "FloatProgressModel",
          "model_module_version": "1.5.0",
          "state": {
            "_dom_classes": [],
            "_model_module": "@jupyter-widgets/controls",
            "_model_module_version": "1.5.0",
            "_model_name": "FloatProgressModel",
            "_view_count": null,
            "_view_module": "@jupyter-widgets/controls",
            "_view_module_version": "1.5.0",
            "_view_name": "ProgressView",
            "bar_style": "success",
            "description": "",
            "description_tooltip": null,
            "layout": "IPY_MODEL_db403416eb804698a821385c0d946217",
            "max": 14427,
            "min": 0,
            "orientation": "horizontal",
            "style": "IPY_MODEL_0b62780cd78642b4903f2941b5f206f6",
            "value": 14427
          }
        },
        "26490ffd53454c5f840104ef560d00a5": {
          "model_module": "@jupyter-widgets/controls",
          "model_name": "HTMLModel",
          "model_module_version": "1.5.0",
          "state": {
            "_dom_classes": [],
            "_model_module": "@jupyter-widgets/controls",
            "_model_module_version": "1.5.0",
            "_model_name": "HTMLModel",
            "_view_count": null,
            "_view_module": "@jupyter-widgets/controls",
            "_view_module_version": "1.5.0",
            "_view_name": "HTMLView",
            "description": "",
            "description_tooltip": null,
            "layout": "IPY_MODEL_cdbc1b207c0c45fa95d2c1066c8edb58",
            "placeholder": "​",
            "style": "IPY_MODEL_32c5ba7b4ef34ae7866704e51be2bf84",
            "value": " 14427/14427 [00:32&lt;00:00, 356.05 examples/s]"
          }
        },
        "c8f2974c3a03449d9184017145e709c9": {
          "model_module": "@jupyter-widgets/base",
          "model_name": "LayoutModel",
          "model_module_version": "1.2.0",
          "state": {
            "_model_module": "@jupyter-widgets/base",
            "_model_module_version": "1.2.0",
            "_model_name": "LayoutModel",
            "_view_count": null,
            "_view_module": "@jupyter-widgets/base",
            "_view_module_version": "1.2.0",
            "_view_name": "LayoutView",
            "align_content": null,
            "align_items": null,
            "align_self": null,
            "border": null,
            "bottom": null,
            "display": null,
            "flex": null,
            "flex_flow": null,
            "grid_area": null,
            "grid_auto_columns": null,
            "grid_auto_flow": null,
            "grid_auto_rows": null,
            "grid_column": null,
            "grid_gap": null,
            "grid_row": null,
            "grid_template_areas": null,
            "grid_template_columns": null,
            "grid_template_rows": null,
            "height": null,
            "justify_content": null,
            "justify_items": null,
            "left": null,
            "margin": null,
            "max_height": null,
            "max_width": null,
            "min_height": null,
            "min_width": null,
            "object_fit": null,
            "object_position": null,
            "order": null,
            "overflow": null,
            "overflow_x": null,
            "overflow_y": null,
            "padding": null,
            "right": null,
            "top": null,
            "visibility": null,
            "width": null
          }
        },
        "891d145a67f848feab632b6aa65874b4": {
          "model_module": "@jupyter-widgets/base",
          "model_name": "LayoutModel",
          "model_module_version": "1.2.0",
          "state": {
            "_model_module": "@jupyter-widgets/base",
            "_model_module_version": "1.2.0",
            "_model_name": "LayoutModel",
            "_view_count": null,
            "_view_module": "@jupyter-widgets/base",
            "_view_module_version": "1.2.0",
            "_view_name": "LayoutView",
            "align_content": null,
            "align_items": null,
            "align_self": null,
            "border": null,
            "bottom": null,
            "display": null,
            "flex": null,
            "flex_flow": null,
            "grid_area": null,
            "grid_auto_columns": null,
            "grid_auto_flow": null,
            "grid_auto_rows": null,
            "grid_column": null,
            "grid_gap": null,
            "grid_row": null,
            "grid_template_areas": null,
            "grid_template_columns": null,
            "grid_template_rows": null,
            "height": null,
            "justify_content": null,
            "justify_items": null,
            "left": null,
            "margin": null,
            "max_height": null,
            "max_width": null,
            "min_height": null,
            "min_width": null,
            "object_fit": null,
            "object_position": null,
            "order": null,
            "overflow": null,
            "overflow_x": null,
            "overflow_y": null,
            "padding": null,
            "right": null,
            "top": null,
            "visibility": null,
            "width": null
          }
        },
        "3801d3de12c24a12b352c18bfc5fb3a9": {
          "model_module": "@jupyter-widgets/controls",
          "model_name": "DescriptionStyleModel",
          "model_module_version": "1.5.0",
          "state": {
            "_model_module": "@jupyter-widgets/controls",
            "_model_module_version": "1.5.0",
            "_model_name": "DescriptionStyleModel",
            "_view_count": null,
            "_view_module": "@jupyter-widgets/base",
            "_view_module_version": "1.2.0",
            "_view_name": "StyleView",
            "description_width": ""
          }
        },
        "db403416eb804698a821385c0d946217": {
          "model_module": "@jupyter-widgets/base",
          "model_name": "LayoutModel",
          "model_module_version": "1.2.0",
          "state": {
            "_model_module": "@jupyter-widgets/base",
            "_model_module_version": "1.2.0",
            "_model_name": "LayoutModel",
            "_view_count": null,
            "_view_module": "@jupyter-widgets/base",
            "_view_module_version": "1.2.0",
            "_view_name": "LayoutView",
            "align_content": null,
            "align_items": null,
            "align_self": null,
            "border": null,
            "bottom": null,
            "display": null,
            "flex": null,
            "flex_flow": null,
            "grid_area": null,
            "grid_auto_columns": null,
            "grid_auto_flow": null,
            "grid_auto_rows": null,
            "grid_column": null,
            "grid_gap": null,
            "grid_row": null,
            "grid_template_areas": null,
            "grid_template_columns": null,
            "grid_template_rows": null,
            "height": null,
            "justify_content": null,
            "justify_items": null,
            "left": null,
            "margin": null,
            "max_height": null,
            "max_width": null,
            "min_height": null,
            "min_width": null,
            "object_fit": null,
            "object_position": null,
            "order": null,
            "overflow": null,
            "overflow_x": null,
            "overflow_y": null,
            "padding": null,
            "right": null,
            "top": null,
            "visibility": null,
            "width": null
          }
        },
        "0b62780cd78642b4903f2941b5f206f6": {
          "model_module": "@jupyter-widgets/controls",
          "model_name": "ProgressStyleModel",
          "model_module_version": "1.5.0",
          "state": {
            "_model_module": "@jupyter-widgets/controls",
            "_model_module_version": "1.5.0",
            "_model_name": "ProgressStyleModel",
            "_view_count": null,
            "_view_module": "@jupyter-widgets/base",
            "_view_module_version": "1.2.0",
            "_view_name": "StyleView",
            "bar_color": null,
            "description_width": ""
          }
        },
        "cdbc1b207c0c45fa95d2c1066c8edb58": {
          "model_module": "@jupyter-widgets/base",
          "model_name": "LayoutModel",
          "model_module_version": "1.2.0",
          "state": {
            "_model_module": "@jupyter-widgets/base",
            "_model_module_version": "1.2.0",
            "_model_name": "LayoutModel",
            "_view_count": null,
            "_view_module": "@jupyter-widgets/base",
            "_view_module_version": "1.2.0",
            "_view_name": "LayoutView",
            "align_content": null,
            "align_items": null,
            "align_self": null,
            "border": null,
            "bottom": null,
            "display": null,
            "flex": null,
            "flex_flow": null,
            "grid_area": null,
            "grid_auto_columns": null,
            "grid_auto_flow": null,
            "grid_auto_rows": null,
            "grid_column": null,
            "grid_gap": null,
            "grid_row": null,
            "grid_template_areas": null,
            "grid_template_columns": null,
            "grid_template_rows": null,
            "height": null,
            "justify_content": null,
            "justify_items": null,
            "left": null,
            "margin": null,
            "max_height": null,
            "max_width": null,
            "min_height": null,
            "min_width": null,
            "object_fit": null,
            "object_position": null,
            "order": null,
            "overflow": null,
            "overflow_x": null,
            "overflow_y": null,
            "padding": null,
            "right": null,
            "top": null,
            "visibility": null,
            "width": null
          }
        },
        "32c5ba7b4ef34ae7866704e51be2bf84": {
          "model_module": "@jupyter-widgets/controls",
          "model_name": "DescriptionStyleModel",
          "model_module_version": "1.5.0",
          "state": {
            "_model_module": "@jupyter-widgets/controls",
            "_model_module_version": "1.5.0",
            "_model_name": "DescriptionStyleModel",
            "_view_count": null,
            "_view_module": "@jupyter-widgets/base",
            "_view_module_version": "1.2.0",
            "_view_name": "StyleView",
            "description_width": ""
          }
        },
        "f606d0030a5b47749171af7456d76b83": {
          "model_module": "@jupyter-widgets/controls",
          "model_name": "HBoxModel",
          "model_module_version": "1.5.0",
          "state": {
            "_dom_classes": [],
            "_model_module": "@jupyter-widgets/controls",
            "_model_module_version": "1.5.0",
            "_model_name": "HBoxModel",
            "_view_count": null,
            "_view_module": "@jupyter-widgets/controls",
            "_view_module_version": "1.5.0",
            "_view_name": "HBoxView",
            "box_style": "",
            "children": [
              "IPY_MODEL_c4b1cac34e1940c19ebbbb3cb663d339",
              "IPY_MODEL_3d8cbd1a596e4dee91701e0aa8548b6f",
              "IPY_MODEL_272ec9a67db44254bd72985cd845c1cf"
            ],
            "layout": "IPY_MODEL_f540cd0d763d4e7c8258d1aacf8b971a"
          }
        },
        "c4b1cac34e1940c19ebbbb3cb663d339": {
          "model_module": "@jupyter-widgets/controls",
          "model_name": "HTMLModel",
          "model_module_version": "1.5.0",
          "state": {
            "_dom_classes": [],
            "_model_module": "@jupyter-widgets/controls",
            "_model_module_version": "1.5.0",
            "_model_name": "HTMLModel",
            "_view_count": null,
            "_view_module": "@jupyter-widgets/controls",
            "_view_module_version": "1.5.0",
            "_view_name": "HTMLView",
            "description": "",
            "description_tooltip": null,
            "layout": "IPY_MODEL_9aad791989dc4926b90b9ea75bd71bbe",
            "placeholder": "​",
            "style": "IPY_MODEL_b113ae52d76946b4b3363aade373781e",
            "value": "model.safetensors: 100%"
          }
        },
        "3d8cbd1a596e4dee91701e0aa8548b6f": {
          "model_module": "@jupyter-widgets/controls",
          "model_name": "FloatProgressModel",
          "model_module_version": "1.5.0",
          "state": {
            "_dom_classes": [],
            "_model_module": "@jupyter-widgets/controls",
            "_model_module_version": "1.5.0",
            "_model_name": "FloatProgressModel",
            "_view_count": null,
            "_view_module": "@jupyter-widgets/controls",
            "_view_module_version": "1.5.0",
            "_view_name": "ProgressView",
            "bar_style": "success",
            "description": "",
            "description_tooltip": null,
            "layout": "IPY_MODEL_25510d357aa54f4097f434d385ee6f5b",
            "max": 435755784,
            "min": 0,
            "orientation": "horizontal",
            "style": "IPY_MODEL_814f1bbaf5c043a98f8eb79b2d91c6e2",
            "value": 435755784
          }
        },
        "272ec9a67db44254bd72985cd845c1cf": {
          "model_module": "@jupyter-widgets/controls",
          "model_name": "HTMLModel",
          "model_module_version": "1.5.0",
          "state": {
            "_dom_classes": [],
            "_model_module": "@jupyter-widgets/controls",
            "_model_module_version": "1.5.0",
            "_model_name": "HTMLModel",
            "_view_count": null,
            "_view_module": "@jupyter-widgets/controls",
            "_view_module_version": "1.5.0",
            "_view_name": "HTMLView",
            "description": "",
            "description_tooltip": null,
            "layout": "IPY_MODEL_e1c83949e92647af92220ee2ee2affcf",
            "placeholder": "​",
            "style": "IPY_MODEL_786d0729ab774a27b2be8cd04c457469",
            "value": " 436M/436M [00:01&lt;00:00, 251MB/s]"
          }
        },
        "f540cd0d763d4e7c8258d1aacf8b971a": {
          "model_module": "@jupyter-widgets/base",
          "model_name": "LayoutModel",
          "model_module_version": "1.2.0",
          "state": {
            "_model_module": "@jupyter-widgets/base",
            "_model_module_version": "1.2.0",
            "_model_name": "LayoutModel",
            "_view_count": null,
            "_view_module": "@jupyter-widgets/base",
            "_view_module_version": "1.2.0",
            "_view_name": "LayoutView",
            "align_content": null,
            "align_items": null,
            "align_self": null,
            "border": null,
            "bottom": null,
            "display": null,
            "flex": null,
            "flex_flow": null,
            "grid_area": null,
            "grid_auto_columns": null,
            "grid_auto_flow": null,
            "grid_auto_rows": null,
            "grid_column": null,
            "grid_gap": null,
            "grid_row": null,
            "grid_template_areas": null,
            "grid_template_columns": null,
            "grid_template_rows": null,
            "height": null,
            "justify_content": null,
            "justify_items": null,
            "left": null,
            "margin": null,
            "max_height": null,
            "max_width": null,
            "min_height": null,
            "min_width": null,
            "object_fit": null,
            "object_position": null,
            "order": null,
            "overflow": null,
            "overflow_x": null,
            "overflow_y": null,
            "padding": null,
            "right": null,
            "top": null,
            "visibility": null,
            "width": null
          }
        },
        "9aad791989dc4926b90b9ea75bd71bbe": {
          "model_module": "@jupyter-widgets/base",
          "model_name": "LayoutModel",
          "model_module_version": "1.2.0",
          "state": {
            "_model_module": "@jupyter-widgets/base",
            "_model_module_version": "1.2.0",
            "_model_name": "LayoutModel",
            "_view_count": null,
            "_view_module": "@jupyter-widgets/base",
            "_view_module_version": "1.2.0",
            "_view_name": "LayoutView",
            "align_content": null,
            "align_items": null,
            "align_self": null,
            "border": null,
            "bottom": null,
            "display": null,
            "flex": null,
            "flex_flow": null,
            "grid_area": null,
            "grid_auto_columns": null,
            "grid_auto_flow": null,
            "grid_auto_rows": null,
            "grid_column": null,
            "grid_gap": null,
            "grid_row": null,
            "grid_template_areas": null,
            "grid_template_columns": null,
            "grid_template_rows": null,
            "height": null,
            "justify_content": null,
            "justify_items": null,
            "left": null,
            "margin": null,
            "max_height": null,
            "max_width": null,
            "min_height": null,
            "min_width": null,
            "object_fit": null,
            "object_position": null,
            "order": null,
            "overflow": null,
            "overflow_x": null,
            "overflow_y": null,
            "padding": null,
            "right": null,
            "top": null,
            "visibility": null,
            "width": null
          }
        },
        "b113ae52d76946b4b3363aade373781e": {
          "model_module": "@jupyter-widgets/controls",
          "model_name": "DescriptionStyleModel",
          "model_module_version": "1.5.0",
          "state": {
            "_model_module": "@jupyter-widgets/controls",
            "_model_module_version": "1.5.0",
            "_model_name": "DescriptionStyleModel",
            "_view_count": null,
            "_view_module": "@jupyter-widgets/base",
            "_view_module_version": "1.2.0",
            "_view_name": "StyleView",
            "description_width": ""
          }
        },
        "25510d357aa54f4097f434d385ee6f5b": {
          "model_module": "@jupyter-widgets/base",
          "model_name": "LayoutModel",
          "model_module_version": "1.2.0",
          "state": {
            "_model_module": "@jupyter-widgets/base",
            "_model_module_version": "1.2.0",
            "_model_name": "LayoutModel",
            "_view_count": null,
            "_view_module": "@jupyter-widgets/base",
            "_view_module_version": "1.2.0",
            "_view_name": "LayoutView",
            "align_content": null,
            "align_items": null,
            "align_self": null,
            "border": null,
            "bottom": null,
            "display": null,
            "flex": null,
            "flex_flow": null,
            "grid_area": null,
            "grid_auto_columns": null,
            "grid_auto_flow": null,
            "grid_auto_rows": null,
            "grid_column": null,
            "grid_gap": null,
            "grid_row": null,
            "grid_template_areas": null,
            "grid_template_columns": null,
            "grid_template_rows": null,
            "height": null,
            "justify_content": null,
            "justify_items": null,
            "left": null,
            "margin": null,
            "max_height": null,
            "max_width": null,
            "min_height": null,
            "min_width": null,
            "object_fit": null,
            "object_position": null,
            "order": null,
            "overflow": null,
            "overflow_x": null,
            "overflow_y": null,
            "padding": null,
            "right": null,
            "top": null,
            "visibility": null,
            "width": null
          }
        },
        "814f1bbaf5c043a98f8eb79b2d91c6e2": {
          "model_module": "@jupyter-widgets/controls",
          "model_name": "ProgressStyleModel",
          "model_module_version": "1.5.0",
          "state": {
            "_model_module": "@jupyter-widgets/controls",
            "_model_module_version": "1.5.0",
            "_model_name": "ProgressStyleModel",
            "_view_count": null,
            "_view_module": "@jupyter-widgets/base",
            "_view_module_version": "1.2.0",
            "_view_name": "StyleView",
            "bar_color": null,
            "description_width": ""
          }
        },
        "e1c83949e92647af92220ee2ee2affcf": {
          "model_module": "@jupyter-widgets/base",
          "model_name": "LayoutModel",
          "model_module_version": "1.2.0",
          "state": {
            "_model_module": "@jupyter-widgets/base",
            "_model_module_version": "1.2.0",
            "_model_name": "LayoutModel",
            "_view_count": null,
            "_view_module": "@jupyter-widgets/base",
            "_view_module_version": "1.2.0",
            "_view_name": "LayoutView",
            "align_content": null,
            "align_items": null,
            "align_self": null,
            "border": null,
            "bottom": null,
            "display": null,
            "flex": null,
            "flex_flow": null,
            "grid_area": null,
            "grid_auto_columns": null,
            "grid_auto_flow": null,
            "grid_auto_rows": null,
            "grid_column": null,
            "grid_gap": null,
            "grid_row": null,
            "grid_template_areas": null,
            "grid_template_columns": null,
            "grid_template_rows": null,
            "height": null,
            "justify_content": null,
            "justify_items": null,
            "left": null,
            "margin": null,
            "max_height": null,
            "max_width": null,
            "min_height": null,
            "min_width": null,
            "object_fit": null,
            "object_position": null,
            "order": null,
            "overflow": null,
            "overflow_x": null,
            "overflow_y": null,
            "padding": null,
            "right": null,
            "top": null,
            "visibility": null,
            "width": null
          }
        },
        "786d0729ab774a27b2be8cd04c457469": {
          "model_module": "@jupyter-widgets/controls",
          "model_name": "DescriptionStyleModel",
          "model_module_version": "1.5.0",
          "state": {
            "_model_module": "@jupyter-widgets/controls",
            "_model_module_version": "1.5.0",
            "_model_name": "DescriptionStyleModel",
            "_view_count": null,
            "_view_module": "@jupyter-widgets/base",
            "_view_module_version": "1.2.0",
            "_view_name": "StyleView",
            "description_width": ""
          }
        },
        "862f11eedbd247b18ff625c2281b0bb4": {
          "model_module": "@jupyter-widgets/controls",
          "model_name": "HBoxModel",
          "model_module_version": "1.5.0",
          "state": {
            "_dom_classes": [],
            "_model_module": "@jupyter-widgets/controls",
            "_model_module_version": "1.5.0",
            "_model_name": "HBoxModel",
            "_view_count": null,
            "_view_module": "@jupyter-widgets/controls",
            "_view_module_version": "1.5.0",
            "_view_name": "HBoxView",
            "box_style": "",
            "children": [
              "IPY_MODEL_0c78e543a8224f7183f52e397cd4cba4",
              "IPY_MODEL_b6186c70acc04e828a9dd0b01a0f3ae6",
              "IPY_MODEL_ff654503de13401684da4c6acd03c051"
            ],
            "layout": "IPY_MODEL_62a9133f8fed42239b133c03b27735c1"
          }
        },
        "0c78e543a8224f7183f52e397cd4cba4": {
          "model_module": "@jupyter-widgets/controls",
          "model_name": "HTMLModel",
          "model_module_version": "1.5.0",
          "state": {
            "_dom_classes": [],
            "_model_module": "@jupyter-widgets/controls",
            "_model_module_version": "1.5.0",
            "_model_name": "HTMLModel",
            "_view_count": null,
            "_view_module": "@jupyter-widgets/controls",
            "_view_module_version": "1.5.0",
            "_view_name": "HTMLView",
            "description": "",
            "description_tooltip": null,
            "layout": "IPY_MODEL_24da3ac1afb842d49c17edc120bddd04",
            "placeholder": "​",
            "style": "IPY_MODEL_793a9da4e7024449a5a7561748049302",
            "value": "Downloading builder script: "
          }
        },
        "b6186c70acc04e828a9dd0b01a0f3ae6": {
          "model_module": "@jupyter-widgets/controls",
          "model_name": "FloatProgressModel",
          "model_module_version": "1.5.0",
          "state": {
            "_dom_classes": [],
            "_model_module": "@jupyter-widgets/controls",
            "_model_module_version": "1.5.0",
            "_model_name": "FloatProgressModel",
            "_view_count": null,
            "_view_module": "@jupyter-widgets/controls",
            "_view_module_version": "1.5.0",
            "_view_name": "ProgressView",
            "bar_style": "success",
            "description": "",
            "description_tooltip": null,
            "layout": "IPY_MODEL_e57d33c6b5c447588c8445896bd4dcc9",
            "max": 1652,
            "min": 0,
            "orientation": "horizontal",
            "style": "IPY_MODEL_368febe299b44b9aaee4e42d481bd8b2",
            "value": 1652
          }
        },
        "ff654503de13401684da4c6acd03c051": {
          "model_module": "@jupyter-widgets/controls",
          "model_name": "HTMLModel",
          "model_module_version": "1.5.0",
          "state": {
            "_dom_classes": [],
            "_model_module": "@jupyter-widgets/controls",
            "_model_module_version": "1.5.0",
            "_model_name": "HTMLModel",
            "_view_count": null,
            "_view_module": "@jupyter-widgets/controls",
            "_view_module_version": "1.5.0",
            "_view_name": "HTMLView",
            "description": "",
            "description_tooltip": null,
            "layout": "IPY_MODEL_d843416da62f4f26935511cb23750c5b",
            "placeholder": "​",
            "style": "IPY_MODEL_6634c8e1e450491ea2bdb05041bd0987",
            "value": " 4.21k/? [00:00&lt;00:00, 294kB/s]"
          }
        },
        "62a9133f8fed42239b133c03b27735c1": {
          "model_module": "@jupyter-widgets/base",
          "model_name": "LayoutModel",
          "model_module_version": "1.2.0",
          "state": {
            "_model_module": "@jupyter-widgets/base",
            "_model_module_version": "1.2.0",
            "_model_name": "LayoutModel",
            "_view_count": null,
            "_view_module": "@jupyter-widgets/base",
            "_view_module_version": "1.2.0",
            "_view_name": "LayoutView",
            "align_content": null,
            "align_items": null,
            "align_self": null,
            "border": null,
            "bottom": null,
            "display": null,
            "flex": null,
            "flex_flow": null,
            "grid_area": null,
            "grid_auto_columns": null,
            "grid_auto_flow": null,
            "grid_auto_rows": null,
            "grid_column": null,
            "grid_gap": null,
            "grid_row": null,
            "grid_template_areas": null,
            "grid_template_columns": null,
            "grid_template_rows": null,
            "height": null,
            "justify_content": null,
            "justify_items": null,
            "left": null,
            "margin": null,
            "max_height": null,
            "max_width": null,
            "min_height": null,
            "min_width": null,
            "object_fit": null,
            "object_position": null,
            "order": null,
            "overflow": null,
            "overflow_x": null,
            "overflow_y": null,
            "padding": null,
            "right": null,
            "top": null,
            "visibility": null,
            "width": null
          }
        },
        "24da3ac1afb842d49c17edc120bddd04": {
          "model_module": "@jupyter-widgets/base",
          "model_name": "LayoutModel",
          "model_module_version": "1.2.0",
          "state": {
            "_model_module": "@jupyter-widgets/base",
            "_model_module_version": "1.2.0",
            "_model_name": "LayoutModel",
            "_view_count": null,
            "_view_module": "@jupyter-widgets/base",
            "_view_module_version": "1.2.0",
            "_view_name": "LayoutView",
            "align_content": null,
            "align_items": null,
            "align_self": null,
            "border": null,
            "bottom": null,
            "display": null,
            "flex": null,
            "flex_flow": null,
            "grid_area": null,
            "grid_auto_columns": null,
            "grid_auto_flow": null,
            "grid_auto_rows": null,
            "grid_column": null,
            "grid_gap": null,
            "grid_row": null,
            "grid_template_areas": null,
            "grid_template_columns": null,
            "grid_template_rows": null,
            "height": null,
            "justify_content": null,
            "justify_items": null,
            "left": null,
            "margin": null,
            "max_height": null,
            "max_width": null,
            "min_height": null,
            "min_width": null,
            "object_fit": null,
            "object_position": null,
            "order": null,
            "overflow": null,
            "overflow_x": null,
            "overflow_y": null,
            "padding": null,
            "right": null,
            "top": null,
            "visibility": null,
            "width": null
          }
        },
        "793a9da4e7024449a5a7561748049302": {
          "model_module": "@jupyter-widgets/controls",
          "model_name": "DescriptionStyleModel",
          "model_module_version": "1.5.0",
          "state": {
            "_model_module": "@jupyter-widgets/controls",
            "_model_module_version": "1.5.0",
            "_model_name": "DescriptionStyleModel",
            "_view_count": null,
            "_view_module": "@jupyter-widgets/base",
            "_view_module_version": "1.2.0",
            "_view_name": "StyleView",
            "description_width": ""
          }
        },
        "e57d33c6b5c447588c8445896bd4dcc9": {
          "model_module": "@jupyter-widgets/base",
          "model_name": "LayoutModel",
          "model_module_version": "1.2.0",
          "state": {
            "_model_module": "@jupyter-widgets/base",
            "_model_module_version": "1.2.0",
            "_model_name": "LayoutModel",
            "_view_count": null,
            "_view_module": "@jupyter-widgets/base",
            "_view_module_version": "1.2.0",
            "_view_name": "LayoutView",
            "align_content": null,
            "align_items": null,
            "align_self": null,
            "border": null,
            "bottom": null,
            "display": null,
            "flex": null,
            "flex_flow": null,
            "grid_area": null,
            "grid_auto_columns": null,
            "grid_auto_flow": null,
            "grid_auto_rows": null,
            "grid_column": null,
            "grid_gap": null,
            "grid_row": null,
            "grid_template_areas": null,
            "grid_template_columns": null,
            "grid_template_rows": null,
            "height": null,
            "justify_content": null,
            "justify_items": null,
            "left": null,
            "margin": null,
            "max_height": null,
            "max_width": null,
            "min_height": null,
            "min_width": null,
            "object_fit": null,
            "object_position": null,
            "order": null,
            "overflow": null,
            "overflow_x": null,
            "overflow_y": null,
            "padding": null,
            "right": null,
            "top": null,
            "visibility": null,
            "width": null
          }
        },
        "368febe299b44b9aaee4e42d481bd8b2": {
          "model_module": "@jupyter-widgets/controls",
          "model_name": "ProgressStyleModel",
          "model_module_version": "1.5.0",
          "state": {
            "_model_module": "@jupyter-widgets/controls",
            "_model_module_version": "1.5.0",
            "_model_name": "ProgressStyleModel",
            "_view_count": null,
            "_view_module": "@jupyter-widgets/base",
            "_view_module_version": "1.2.0",
            "_view_name": "StyleView",
            "bar_color": null,
            "description_width": ""
          }
        },
        "d843416da62f4f26935511cb23750c5b": {
          "model_module": "@jupyter-widgets/base",
          "model_name": "LayoutModel",
          "model_module_version": "1.2.0",
          "state": {
            "_model_module": "@jupyter-widgets/base",
            "_model_module_version": "1.2.0",
            "_model_name": "LayoutModel",
            "_view_count": null,
            "_view_module": "@jupyter-widgets/base",
            "_view_module_version": "1.2.0",
            "_view_name": "LayoutView",
            "align_content": null,
            "align_items": null,
            "align_self": null,
            "border": null,
            "bottom": null,
            "display": null,
            "flex": null,
            "flex_flow": null,
            "grid_area": null,
            "grid_auto_columns": null,
            "grid_auto_flow": null,
            "grid_auto_rows": null,
            "grid_column": null,
            "grid_gap": null,
            "grid_row": null,
            "grid_template_areas": null,
            "grid_template_columns": null,
            "grid_template_rows": null,
            "height": null,
            "justify_content": null,
            "justify_items": null,
            "left": null,
            "margin": null,
            "max_height": null,
            "max_width": null,
            "min_height": null,
            "min_width": null,
            "object_fit": null,
            "object_position": null,
            "order": null,
            "overflow": null,
            "overflow_x": null,
            "overflow_y": null,
            "padding": null,
            "right": null,
            "top": null,
            "visibility": null,
            "width": null
          }
        },
        "6634c8e1e450491ea2bdb05041bd0987": {
          "model_module": "@jupyter-widgets/controls",
          "model_name": "DescriptionStyleModel",
          "model_module_version": "1.5.0",
          "state": {
            "_model_module": "@jupyter-widgets/controls",
            "_model_module_version": "1.5.0",
            "_model_name": "DescriptionStyleModel",
            "_view_count": null,
            "_view_module": "@jupyter-widgets/base",
            "_view_module_version": "1.2.0",
            "_view_name": "StyleView",
            "description_width": ""
          }
        }
      }
    },
    "accelerator": "GPU"
  },
  "nbformat": 4,
  "nbformat_minor": 0
}